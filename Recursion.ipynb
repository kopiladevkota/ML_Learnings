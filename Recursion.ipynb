{
  "cells": [
    {
      "cell_type": "markdown",
      "metadata": {
        "id": "view-in-github",
        "colab_type": "text"
      },
      "source": [
        "<a href=\"https://colab.research.google.com/github/kopiladevkota/Python/blob/main/Recursion.ipynb\" target=\"_parent\"><img src=\"https://colab.research.google.com/assets/colab-badge.svg\" alt=\"Open In Colab\"/></a>"
      ]
    },
    {
      "cell_type": "markdown",
      "metadata": {
        "id": "4A3qiAFoNgRE"
      },
      "source": [
        "RECURSION"
      ]
    },
    {
      "cell_type": "markdown",
      "metadata": {
        "id": "Gb4UXGYNNgRG"
      },
      "source": [
        "***We will solve the problem of counting handshakes here.***\n",
        "\n",
        "- First we, will code the iterative approach then, we will code the recursive approach.\n",
        "\n",
        "---\n",
        "\n",
        "#### `ITERATIVE APPROCH`\n",
        "\n",
        "---"
      ]
    },
    {
      "cell_type": "code",
      "execution_count": null,
      "metadata": {
        "id": "0QCmySgJNgRH"
      },
      "outputs": [],
      "source": [
        "def count_hand_shakes_iterative(total_persons_in_room):\n",
        "    count = 0\n",
        "\n",
        "    for i in range(1, total_persons_in_room):\n",
        "\n",
        "        for j in range(i+1, total_persons_in_room+1):\n",
        "            print('Hand Shake of ', i, 'and',j)\n",
        "            count = count+1\n",
        "\n",
        "    # total handshakes\n",
        "    print('Total number of handshakes: ', count)"
      ]
    },
    {
      "cell_type": "code",
      "execution_count": null,
      "metadata": {
        "id": "BbzMtBR5NgRH",
        "outputId": "86776243-8753-4cb4-b575-139b1a18a57a"
      },
      "outputs": [
        {
          "name": "stdout",
          "output_type": "stream",
          "text": [
            "Hand Shake of  1 and 2\n",
            "Hand Shake of  1 and 3\n",
            "Hand Shake of  1 and 4\n",
            "Hand Shake of  1 and 5\n",
            "Hand Shake of  2 and 3\n",
            "Hand Shake of  2 and 4\n",
            "Hand Shake of  2 and 5\n",
            "Hand Shake of  3 and 4\n",
            "Hand Shake of  3 and 5\n",
            "Hand Shake of  4 and 5\n",
            "Total number of handshakes:  10\n"
          ]
        }
      ],
      "source": [
        "count_hand_shakes_iterative(total_persons_in_room=5)"
      ]
    },
    {
      "cell_type": "markdown",
      "metadata": {
        "id": "_QT9DBytNgRI"
      },
      "source": [
        "#### `RECURSIVE APPROACH`\n",
        "\n",
        "---"
      ]
    },
    {
      "cell_type": "code",
      "execution_count": null,
      "metadata": {
        "id": "LwPTiYs2NgRI"
      },
      "outputs": [],
      "source": [
        "# define recursive function to count handshakes\n",
        "\n",
        "def count_hand_shakes(total_persons_in_room):\n",
        "\n",
        "    # Base Condition: When number of persons is 2 (One Handshake)\n",
        "    if total_persons_in_room == 2:\n",
        "            return 1\n",
        "\n",
        "    else:\n",
        "            # F(N) = F(N-1) + (N-1)\n",
        "            return count_hand_shakes(total_persons_in_room - 1) + (total_persons_in_room - 1)\n"
      ]
    },
    {
      "cell_type": "code",
      "execution_count": null,
      "metadata": {
        "id": "cUNhRL9PNgRI",
        "outputId": "826c47b1-3d99-432a-e74a-0788e8a7a5f4"
      },
      "outputs": [
        {
          "data": {
            "text/plain": [
              "10"
            ]
          },
          "execution_count": 4,
          "metadata": {},
          "output_type": "execute_result"
        }
      ],
      "source": [
        "count_hand_shakes(5)"
      ]
    },
    {
      "cell_type": "code",
      "execution_count": null,
      "metadata": {
        "id": "2sKX0rfrNgRJ",
        "outputId": "2de89a4a-d49f-4f2e-ee3f-ee36d8d8c4b5"
      },
      "outputs": [
        {
          "data": {
            "text/plain": [
              "6"
            ]
          },
          "execution_count": 5,
          "metadata": {},
          "output_type": "execute_result"
        }
      ],
      "source": [
        "count_hand_shakes(4)"
      ]
    },
    {
      "cell_type": "markdown",
      "metadata": {
        "id": "wIHnwsQmNgRJ"
      },
      "source": [
        "#### `How does it work under the hood?`\n",
        "\n",
        "---"
      ]
    },
    {
      "cell_type": "code",
      "execution_count": null,
      "metadata": {
        "id": "gFLdURZFNgRJ"
      },
      "outputs": [],
      "source": [
        "# define recursive function to count handshakes\n",
        "\n",
        "def count_hand_shakes(total_persons_in_room):\n",
        "\n",
        "    # Base Condition: When number of persons is 2 (One Handshake)\n",
        "    print(\"The function is called with value: \", total_persons_in_room)\n",
        "    if total_persons_in_room == 2:\n",
        "            return 1\n",
        "\n",
        "    else:\n",
        "            # F(N) = F(N-1) + (N-1)\n",
        "            return count_hand_shakes(total_persons_in_room - 1) + (total_persons_in_room - 1)"
      ]
    },
    {
      "cell_type": "code",
      "execution_count": null,
      "metadata": {
        "id": "wA39qCiJNgRJ",
        "outputId": "d7e90e5e-6c4c-406a-aca7-7b45568ce7fd"
      },
      "outputs": [
        {
          "name": "stdout",
          "output_type": "stream",
          "text": [
            "The function is called with value:  5\n",
            "The function is called with value:  4\n",
            "The function is called with value:  3\n",
            "The function is called with value:  2\n"
          ]
        },
        {
          "data": {
            "text/plain": [
              "10"
            ]
          },
          "execution_count": 7,
          "metadata": {},
          "output_type": "execute_result"
        }
      ],
      "source": [
        "count_hand_shakes(5)"
      ]
    },
    {
      "cell_type": "code",
      "execution_count": null,
      "metadata": {
        "id": "eIgSff3iNgRJ"
      },
      "outputs": [],
      "source": [
        "#f(5) = f(4) + 4"
      ]
    },
    {
      "cell_type": "code",
      "execution_count": null,
      "metadata": {
        "id": "mA8K6qexNgRK",
        "outputId": "a6333e98-83f3-4c96-8769-8c73263115b8"
      },
      "outputs": [
        {
          "name": "stdout",
          "output_type": "stream",
          "text": [
            "The function is called with value:  4\n",
            "The function is called with value:  3\n",
            "The function is called with value:  2\n"
          ]
        }
      ],
      "source": [
        "result = count_hand_shakes(4)"
      ]
    },
    {
      "cell_type": "code",
      "execution_count": null,
      "metadata": {
        "id": "O5KZ96JENgRK",
        "outputId": "792a30ad-ca65-4841-f321-94c5b0eaf5da"
      },
      "outputs": [
        {
          "data": {
            "text/plain": [
              "10"
            ]
          },
          "execution_count": 11,
          "metadata": {},
          "output_type": "execute_result"
        }
      ],
      "source": [
        "result+4"
      ]
    },
    {
      "cell_type": "markdown",
      "metadata": {
        "id": "xqyQm5AzNgRK"
      },
      "source": [
        "---\n",
        "\n",
        "### `Advantages of Recursion`\n",
        "\n",
        "- Reduces length of code\n",
        "- Iteration can be complex sometimes, when we have several possible random cases.\n",
        "\n",
        "---"
      ]
    },
    {
      "cell_type": "markdown",
      "metadata": {
        "id": "bIsAe9ZnNgRL"
      },
      "source": [
        "### `Disadvantages of Recursion`\n",
        "\n",
        "- It uses more memory.\n",
        "- Time complexity is increases, can be slow if not implemented correctly.\n",
        "\n",
        "---"
      ]
    },
    {
      "cell_type": "markdown",
      "metadata": {
        "id": "1he-aaycNgRL"
      },
      "source": [
        "### `Looping Constructs (Iterative Solution) vs Recursive Solution?`\n",
        "\n",
        "- It depends upon the task.\n",
        "- For most common programming tasks go for Iterative solution.\n",
        "- For particular tasks a recursive solution is both intuitive/simple to understand and also faster in terms of execution.\n",
        "\n",
        "\n",
        "---"
      ]
    },
    {
      "cell_type": "code",
      "execution_count": null,
      "metadata": {
        "id": "KSbv6rq-NgRL"
      },
      "outputs": [],
      "source": []
    }
  ],
  "metadata": {
    "kernelspec": {
      "display_name": "Python 3",
      "language": "python",
      "name": "python3"
    },
    "language_info": {
      "codemirror_mode": {
        "name": "ipython",
        "version": 3
      },
      "file_extension": ".py",
      "mimetype": "text/x-python",
      "name": "python",
      "nbconvert_exporter": "python",
      "pygments_lexer": "ipython3",
      "version": "3.7.4"
    },
    "colab": {
      "provenance": [],
      "include_colab_link": true
    }
  },
  "nbformat": 4,
  "nbformat_minor": 0
}