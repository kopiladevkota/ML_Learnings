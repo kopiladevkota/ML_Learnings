{
  "nbformat": 4,
  "nbformat_minor": 0,
  "metadata": {
    "colab": {
      "provenance": [],
      "authorship_tag": "ABX9TyMKlNN7Elof4RyD2v51tCui"
    },
    "kernelspec": {
      "name": "python3",
      "display_name": "Python 3"
    },
    "language_info": {
      "name": "python"
    }
  },
  "cells": [
    {
      "cell_type": "markdown",
      "source": [
        "A dictionary is an unordered data structure where elements are separated by a comma and stored as key : value pair"
      ],
      "metadata": {
        "id": "ONZX62nW4DkI"
      }
    },
    {
      "cell_type": "code",
      "execution_count": null,
      "metadata": {
        "id": "8EATk5Ml2tQ-"
      },
      "outputs": [],
      "source": [
        "#creating a dictionary by defining the key value pairs\n",
        "my_dictionary = {\n",
        "    'name' : 'abc',\n",
        "    'age'  :   21 ,\n",
        "    'roll_no' : 'CSE100',\n",
        "    'percentage' : 85,\n",
        "    'attendance' : 74,\n",
        "    'city' : 'KTM',\n",
        "    'country' : 'Nepal',\n",
        "\n",
        "}"
      ]
    },
    {
      "cell_type": "code",
      "source": [
        "my_dictionary"
      ],
      "metadata": {
        "colab": {
          "base_uri": "https://localhost:8080/"
        },
        "id": "s62-5BoK5Z2i",
        "outputId": "d8393678-b915-40d7-c578-41d680b2dfc7"
      },
      "execution_count": null,
      "outputs": [
        {
          "output_type": "execute_result",
          "data": {
            "text/plain": [
              "{'name': 'abc',\n",
              " 'age': 21,\n",
              " 'roll_no': 'CSE100',\n",
              " 'percentage': 85,\n",
              " 'attendance': 74,\n",
              " 'city': 'KTM',\n",
              " 'country': 'Nepal'}"
            ]
          },
          "metadata": {},
          "execution_count": 3
        }
      ]
    },
    {
      "cell_type": "code",
      "source": [
        "print('name is : ',my_dictionary['name'])"
      ],
      "metadata": {
        "colab": {
          "base_uri": "https://localhost:8080/"
        },
        "id": "l0gzgpNy5dAI",
        "outputId": "5987f0e0-9bdb-49fe-c60e-096d7f3f5305"
      },
      "execution_count": null,
      "outputs": [
        {
          "output_type": "stream",
          "name": "stdout",
          "text": [
            "name is :  abc\n"
          ]
        }
      ]
    },
    {
      "cell_type": "code",
      "source": [
        "print('Age before updation is : ',my_dictionary['age'])\n",
        "my_dictionary['age'] =25\n",
        "print('Age after updation is : ',my_dictionary['age'])\n"
      ],
      "metadata": {
        "colab": {
          "base_uri": "https://localhost:8080/"
        },
        "id": "q8R71EhC6VaB",
        "outputId": "1a889ff0-8b02-425e-e215-399e36f2094a"
      },
      "execution_count": null,
      "outputs": [
        {
          "output_type": "stream",
          "name": "stdout",
          "text": [
            "Age before updation is :  21\n",
            "Age after updation is :  25\n"
          ]
        }
      ]
    },
    {
      "cell_type": "code",
      "source": [
        "my_dictionary.keys()"
      ],
      "metadata": {
        "colab": {
          "base_uri": "https://localhost:8080/"
        },
        "id": "iuL3JrIX6_Nq",
        "outputId": "10806c67-e441-4198-dba0-f782cf3fc663"
      },
      "execution_count": null,
      "outputs": [
        {
          "output_type": "execute_result",
          "data": {
            "text/plain": [
              "dict_keys(['name', 'age', 'roll_no', 'percentage', 'attendance', 'city', 'country'])"
            ]
          },
          "metadata": {},
          "execution_count": 6
        }
      ]
    },
    {
      "cell_type": "code",
      "source": [
        "my_dictionary.values()"
      ],
      "metadata": {
        "colab": {
          "base_uri": "https://localhost:8080/"
        },
        "id": "8eGQhTeW7FZJ",
        "outputId": "1dff7699-f445-4b10-e907-db743f25e205"
      },
      "execution_count": null,
      "outputs": [
        {
          "output_type": "execute_result",
          "data": {
            "text/plain": [
              "dict_values(['abc', 25, 'CSE100', 85, 74, 'KTM', 'Nepal'])"
            ]
          },
          "metadata": {},
          "execution_count": 7
        }
      ]
    },
    {
      "cell_type": "code",
      "source": [
        "my_dictionary.update({'pincode' : 122015,'last_name' : 'xyz'})"
      ],
      "metadata": {
        "id": "ayyGL77B7MLy"
      },
      "execution_count": null,
      "outputs": []
    },
    {
      "cell_type": "code",
      "source": [
        "my_dictionary"
      ],
      "metadata": {
        "colab": {
          "base_uri": "https://localhost:8080/"
        },
        "id": "gBjSCaie7gj3",
        "outputId": "96add499-6e3c-4670-9a90-0af02e4ab91c"
      },
      "execution_count": null,
      "outputs": [
        {
          "output_type": "execute_result",
          "data": {
            "text/plain": [
              "{'name': 'abc',\n",
              " 'age': 25,\n",
              " 'roll_no': 'CSE100',\n",
              " 'percentage': 85,\n",
              " 'attendance': 74,\n",
              " 'city': 'KTM',\n",
              " 'country': 'Nepal',\n",
              " 'pincode': 122015,\n",
              " 'last_name': 'xyz'}"
            ]
          },
          "metadata": {},
          "execution_count": 9
        }
      ]
    },
    {
      "cell_type": "code",
      "source": [
        "my_dictionary.items()"
      ],
      "metadata": {
        "colab": {
          "base_uri": "https://localhost:8080/"
        },
        "id": "Sg8n7exS7jh3",
        "outputId": "2a77ac12-6661-456a-ac89-199f4310ff2b"
      },
      "execution_count": null,
      "outputs": [
        {
          "output_type": "execute_result",
          "data": {
            "text/plain": [
              "dict_items([('name', 'abc'), ('age', 25), ('roll_no', 'CSE100'), ('percentage', 85), ('attendance', 74), ('city', 'KTM'), ('country', 'Nepal'), ('pincode', 122015), ('last_name', 'xyz')])"
            ]
          },
          "metadata": {},
          "execution_count": 10
        }
      ]
    },
    {
      "cell_type": "markdown",
      "source": [
        "Most of the data types can be used as keys in dictionary"
      ],
      "metadata": {
        "id": "WVwkFwI28Gvu"
      }
    },
    {
      "cell_type": "code",
      "source": [
        "sample={\n",
        "    'string' : 'string',\n",
        "    10 : 'integer',\n",
        "    1.5 : 'float',\n",
        "    10 : 'boolean'\n",
        "}"
      ],
      "metadata": {
        "id": "5Kn42TOy7xIB"
      },
      "execution_count": null,
      "outputs": []
    },
    {
      "cell_type": "code",
      "source": [
        "sample"
      ],
      "metadata": {
        "colab": {
          "base_uri": "https://localhost:8080/"
        },
        "id": "gS4k6RXH8h75",
        "outputId": "16f009ef-2e38-424b-f25d-a6548b96f725"
      },
      "execution_count": null,
      "outputs": [
        {
          "output_type": "execute_result",
          "data": {
            "text/plain": [
              "{'string': 'string', 10: 'boolean', 1.5: 'float'}"
            ]
          },
          "metadata": {},
          "execution_count": 13
        }
      ]
    },
    {
      "cell_type": "code",
      "source": [
        "sample[1.5]"
      ],
      "metadata": {
        "colab": {
          "base_uri": "https://localhost:8080/",
          "height": 36
        },
        "id": "5gMdN2RJ8nkK",
        "outputId": "f36d84fa-6066-48a2-9251-c73c2cda8013"
      },
      "execution_count": null,
      "outputs": [
        {
          "output_type": "execute_result",
          "data": {
            "text/plain": [
              "'float'"
            ],
            "application/vnd.google.colaboratory.intrinsic+json": {
              "type": "string"
            }
          },
          "metadata": {},
          "execution_count": 15
        }
      ]
    },
    {
      "cell_type": "markdown",
      "source": [
        "The keys in the dictinary cannot be duplicated. If we add duplicate keys , it will not throw an error instead it will overwrite the value which is added in the last\n"
      ],
      "metadata": {
        "id": "LDU4K1Un85Fp"
      }
    },
    {
      "cell_type": "code",
      "source": [
        "sample ={\n",
        "    'A' : 1,\n",
        "    'B' :  2,\n",
        "    'C' :3 ,\n",
        "    'A' : 100\n",
        "}"
      ],
      "metadata": {
        "id": "Gv2tntDz8t8P"
      },
      "execution_count": null,
      "outputs": []
    },
    {
      "cell_type": "markdown",
      "source": [
        "A dictionary key must be a type that is imutable\n",
        "\n",
        "\n",
        "\n"
      ],
      "metadata": {
        "id": "iMt7HLnQ9sX3"
      }
    },
    {
      "cell_type": "code",
      "source": [
        "#list is mutable ,hence not allowed\n",
        "sample ={\n",
        "    1: 'ínteger',\n",
        "    [1,2] : 'list'\n",
        "}"
      ],
      "metadata": {
        "colab": {
          "base_uri": "https://localhost:8080/",
          "height": 211
        },
        "id": "1BsnJ3yh9nBV",
        "outputId": "8fc8e1b8-4b6b-4224-c74e-9c2c527d7520"
      },
      "execution_count": null,
      "outputs": [
        {
          "output_type": "error",
          "ename": "TypeError",
          "evalue": "unhashable type: 'list'",
          "traceback": [
            "\u001b[0;31m---------------------------------------------------------------------------\u001b[0m",
            "\u001b[0;31mTypeError\u001b[0m                                 Traceback (most recent call last)",
            "\u001b[0;32m<ipython-input-17-c57ec6e4d513>\u001b[0m in \u001b[0;36m<cell line: 3>\u001b[0;34m()\u001b[0m\n\u001b[1;32m      1\u001b[0m \u001b[0;31m#list is mutable ,hence not allowed\u001b[0m\u001b[0;34m\u001b[0m\u001b[0;34m\u001b[0m\u001b[0m\n\u001b[0;32m----> 2\u001b[0;31m sample ={\n\u001b[0m\u001b[1;32m      3\u001b[0m     \u001b[0;36m1\u001b[0m\u001b[0;34m:\u001b[0m \u001b[0;34m'ínteger'\u001b[0m\u001b[0;34m,\u001b[0m\u001b[0;34m\u001b[0m\u001b[0;34m\u001b[0m\u001b[0m\n\u001b[1;32m      4\u001b[0m     \u001b[0;34m[\u001b[0m\u001b[0;36m1\u001b[0m\u001b[0;34m,\u001b[0m\u001b[0;36m2\u001b[0m\u001b[0;34m]\u001b[0m \u001b[0;34m:\u001b[0m \u001b[0;34m'list'\u001b[0m\u001b[0;34m\u001b[0m\u001b[0;34m\u001b[0m\u001b[0m\n\u001b[1;32m      5\u001b[0m }\n",
            "\u001b[0;31mTypeError\u001b[0m: unhashable type: 'list'"
          ]
        }
      ]
    },
    {
      "cell_type": "code",
      "source": [
        "#set is mutable ,hence not allowed\n",
        "sample ={\n",
        "    1: 'ínteger',\n",
        "    {1,2} : 'set'\n",
        "}"
      ],
      "metadata": {
        "colab": {
          "base_uri": "https://localhost:8080/",
          "height": 211
        },
        "id": "Vd3iCVqS-IF1",
        "outputId": "d158a9bd-767e-4e68-82a5-3c107aa9dc51"
      },
      "execution_count": null,
      "outputs": [
        {
          "output_type": "error",
          "ename": "TypeError",
          "evalue": "unhashable type: 'set'",
          "traceback": [
            "\u001b[0;31m---------------------------------------------------------------------------\u001b[0m",
            "\u001b[0;31mTypeError\u001b[0m                                 Traceback (most recent call last)",
            "\u001b[0;32m<ipython-input-18-b512a1a020c9>\u001b[0m in \u001b[0;36m<cell line: 3>\u001b[0;34m()\u001b[0m\n\u001b[1;32m      1\u001b[0m \u001b[0;31m#set is mutable ,hence not allowed\u001b[0m\u001b[0;34m\u001b[0m\u001b[0;34m\u001b[0m\u001b[0m\n\u001b[0;32m----> 2\u001b[0;31m sample ={\n\u001b[0m\u001b[1;32m      3\u001b[0m     \u001b[0;36m1\u001b[0m\u001b[0;34m:\u001b[0m \u001b[0;34m'ínteger'\u001b[0m\u001b[0;34m,\u001b[0m\u001b[0;34m\u001b[0m\u001b[0;34m\u001b[0m\u001b[0m\n\u001b[1;32m      4\u001b[0m     \u001b[0;34m{\u001b[0m\u001b[0;36m1\u001b[0m\u001b[0;34m,\u001b[0m\u001b[0;36m2\u001b[0m\u001b[0;34m}\u001b[0m \u001b[0;34m:\u001b[0m \u001b[0;34m'set'\u001b[0m\u001b[0;34m\u001b[0m\u001b[0;34m\u001b[0m\u001b[0m\n\u001b[1;32m      5\u001b[0m }\n",
            "\u001b[0;31mTypeError\u001b[0m: unhashable type: 'set'"
          ]
        }
      ]
    },
    {
      "cell_type": "code",
      "source": [
        "#tuple is immutable ,hence allowed\n",
        "sample ={\n",
        "    1: 'ínteger',\n",
        "    (1,2) : 'tuple'\n",
        "}\n",
        "sample"
      ],
      "metadata": {
        "colab": {
          "base_uri": "https://localhost:8080/"
        },
        "id": "RqgCzTjn-RPU",
        "outputId": "8047929b-d26f-42ff-b864-cb4506d3ac93"
      },
      "execution_count": null,
      "outputs": [
        {
          "output_type": "execute_result",
          "data": {
            "text/plain": [
              "{1: 'ínteger', (1, 2): 'tuple'}"
            ]
          },
          "metadata": {},
          "execution_count": 20
        }
      ]
    },
    {
      "cell_type": "markdown",
      "source": [
        "Comoare two dictionaries by changing the order"
      ],
      "metadata": {
        "id": "KkX714aS-j9Q"
      }
    },
    {
      "cell_type": "code",
      "source": [
        "dict1 = {\n",
        "    'key_1' : 'value_1',\n",
        "    'key_2' : 'value_2',\n",
        "    'key_3' : 3\n",
        "}\n",
        "dict2 = {\n",
        "    'key_3' : 3,\n",
        "    'key_1' : 'value_1',\n",
        "    'key_2' : 'value_2'\n",
        "    }\n",
        "dict1 == dict2"
      ],
      "metadata": {
        "colab": {
          "base_uri": "https://localhost:8080/"
        },
        "id": "KcgIVSfv-bws",
        "outputId": "068571f5-98c1-47cc-9e53-2b3daad848fe"
      },
      "execution_count": null,
      "outputs": [
        {
          "output_type": "execute_result",
          "data": {
            "text/plain": [
              "True"
            ]
          },
          "metadata": {},
          "execution_count": 22
        }
      ]
    },
    {
      "cell_type": "code",
      "source": [
        "#iterate through key value pairs of the dictionary\n",
        "for key, value in my_dictionary.items() :\n",
        "  print(key,value)"
      ],
      "metadata": {
        "colab": {
          "base_uri": "https://localhost:8080/"
        },
        "id": "RJ9rRHyN_QQU",
        "outputId": "ae40a0ed-eaa3-4a73-f1fc-a2089eb7328c"
      },
      "execution_count": null,
      "outputs": [
        {
          "output_type": "stream",
          "name": "stdout",
          "text": [
            "name abc\n",
            "age 25\n",
            "roll_no CSE100\n",
            "percentage 85\n",
            "attendance 74\n",
            "city KTM\n",
            "country Nepal\n",
            "pincode 122015\n",
            "last_name xyz\n"
          ]
        }
      ]
    },
    {
      "cell_type": "code",
      "source": [
        "dict3 = {\n",
        "    'Kopila' : 256,\n",
        "    'Jane' : 56,\n",
        "    'Kamal' : 25,\n",
        "    'Kila' : 1256,\n",
        "    'Anna' : 2056,\n",
        "}\n",
        "dict3"
      ],
      "metadata": {
        "colab": {
          "base_uri": "https://localhost:8080/"
        },
        "id": "uOInOl7F_qET",
        "outputId": "263394e7-5fdf-4301-cad6-32b5174de5cd"
      },
      "execution_count": null,
      "outputs": [
        {
          "output_type": "execute_result",
          "data": {
            "text/plain": [
              "{'Kopila': 256, 'Jane': 56, 'Kamal': 25, 'Kila': 1256, 'Anna': 2056}"
            ]
          },
          "metadata": {},
          "execution_count": 28
        }
      ]
    },
    {
      "cell_type": "code",
      "source": [
        "sorted(dict3)"
      ],
      "metadata": {
        "colab": {
          "base_uri": "https://localhost:8080/"
        },
        "id": "V04FgB8hAJWz",
        "outputId": "4d68940d-af64-49be-c3bd-ec5c80340dcd"
      },
      "execution_count": null,
      "outputs": [
        {
          "output_type": "execute_result",
          "data": {
            "text/plain": [
              "['Anna', 'Jane', 'Kamal', 'Kila', 'Kopila']"
            ]
          },
          "metadata": {},
          "execution_count": 29
        }
      ]
    },
    {
      "cell_type": "code",
      "source": [
        "sorted(dict3.items())#keys are alphabes so they are sorted in alphbetical order"
      ],
      "metadata": {
        "colab": {
          "base_uri": "https://localhost:8080/"
        },
        "id": "LHUNeB08AMBD",
        "outputId": "c5ae1dea-90bb-42be-91fb-6d5aec2854bf"
      },
      "execution_count": null,
      "outputs": [
        {
          "output_type": "execute_result",
          "data": {
            "text/plain": [
              "[('Anna', 2056), ('Jane', 56), ('Kamal', 25), ('Kila', 1256), ('Kopila', 256)]"
            ]
          },
          "metadata": {},
          "execution_count": 30
        }
      ]
    },
    {
      "cell_type": "code",
      "source": [],
      "metadata": {
        "id": "9Zspq-b8AZbd"
      },
      "execution_count": null,
      "outputs": []
    }
  ]
}