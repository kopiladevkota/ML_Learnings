{
  "nbformat": 4,
  "nbformat_minor": 0,
  "metadata": {
    "colab": {
      "provenance": [],
      "authorship_tag": "ABX9TyN1OeFZtRd8ZVQg7unqdH0S"
    },
    "kernelspec": {
      "name": "python3",
      "display_name": "Python 3"
    },
    "language_info": {
      "name": "python"
    }
  },
  "cells": [
    {
      "cell_type": "markdown",
      "source": [
        "Defining tuple in python"
      ],
      "metadata": {
        "id": "pM4j1FJ7YHwp"
      }
    },
    {
      "cell_type": "code",
      "execution_count": 4,
      "metadata": {
        "colab": {
          "base_uri": "https://localhost:8080/"
        },
        "id": "it3l17-9XJZF",
        "outputId": "efc2b943-a0b8-4ca5-ba79-a5667fb9e2fc"
      },
      "outputs": [
        {
          "output_type": "execute_result",
          "data": {
            "text/plain": [
              "('A', 'B', 'C', 'D', 'D', 'E', 1, 'D')"
            ]
          },
          "metadata": {},
          "execution_count": 4
        }
      ],
      "source": [
        "my_tuple = ('A', 'B','C','D' ,'D','E',1 , 'D')\n",
        "my_tuple"
      ]
    },
    {
      "cell_type": "code",
      "source": [
        "#access element at any index\n",
        "my_tuple[2]"
      ],
      "metadata": {
        "colab": {
          "base_uri": "https://localhost:8080/",
          "height": 36
        },
        "id": "_jXvkuz4Yiev",
        "outputId": "59632421-42cf-45e3-f3d5-ee1a56da874f"
      },
      "execution_count": 2,
      "outputs": [
        {
          "output_type": "execute_result",
          "data": {
            "text/plain": [
              "'C'"
            ],
            "application/vnd.google.colaboratory.intrinsic+json": {
              "type": "string"
            }
          },
          "metadata": {},
          "execution_count": 2
        }
      ]
    },
    {
      "cell_type": "code",
      "source": [
        "#find out the index of any element if present in tuple\n",
        "my_tuple.index('E')"
      ],
      "metadata": {
        "colab": {
          "base_uri": "https://localhost:8080/"
        },
        "id": "wN9uUpatYpQA",
        "outputId": "e4ef1ff7-1726-4c1c-d6b6-b3fad86f1e02"
      },
      "execution_count": 3,
      "outputs": [
        {
          "output_type": "execute_result",
          "data": {
            "text/plain": [
              "5"
            ]
          },
          "metadata": {},
          "execution_count": 3
        }
      ]
    },
    {
      "cell_type": "code",
      "source": [
        "#count of an element in a tuple\n",
        "my_tuple.count('D')"
      ],
      "metadata": {
        "colab": {
          "base_uri": "https://localhost:8080/"
        },
        "id": "M7OeK8k5Y2bs",
        "outputId": "8c18c390-e0af-4e65-e257-e9d97af76cfa"
      },
      "execution_count": 5,
      "outputs": [
        {
          "output_type": "execute_result",
          "data": {
            "text/plain": [
              "3"
            ]
          },
          "metadata": {},
          "execution_count": 5
        }
      ]
    },
    {
      "cell_type": "code",
      "source": [
        "#Iterate through the elements of the tuple\n",
        "for element in my_tuple:\n",
        "  print(element)\n"
      ],
      "metadata": {
        "colab": {
          "base_uri": "https://localhost:8080/"
        },
        "id": "oOVlxIMZZHI8",
        "outputId": "c760ebaf-e32e-4167-ac56-9b9625637162"
      },
      "execution_count": 6,
      "outputs": [
        {
          "output_type": "stream",
          "name": "stdout",
          "text": [
            "A\n",
            "B\n",
            "C\n",
            "D\n",
            "D\n",
            "E\n",
            "1\n",
            "D\n"
          ]
        }
      ]
    },
    {
      "cell_type": "code",
      "source": [
        "#slicing of a tuple\n",
        "#first three elements\n",
        "my_tuple[:3]"
      ],
      "metadata": {
        "colab": {
          "base_uri": "https://localhost:8080/"
        },
        "id": "aPKJ5XOlZUdS",
        "outputId": "687a31a0-57ac-4b68-d95a-ae1428dee1aa"
      },
      "execution_count": 7,
      "outputs": [
        {
          "output_type": "execute_result",
          "data": {
            "text/plain": [
              "('A', 'B', 'C')"
            ]
          },
          "metadata": {},
          "execution_count": 7
        }
      ]
    },
    {
      "cell_type": "code",
      "source": [
        "#define the start and end point to slice\n",
        "my_tuple[3:5]"
      ],
      "metadata": {
        "colab": {
          "base_uri": "https://localhost:8080/"
        },
        "id": "9OsSbyuKZdQ9",
        "outputId": "834eac51-6fcb-460f-9918-0e5722d9d60e"
      },
      "execution_count": 8,
      "outputs": [
        {
          "output_type": "execute_result",
          "data": {
            "text/plain": [
              "('D', 'D')"
            ]
          },
          "metadata": {},
          "execution_count": 8
        }
      ]
    },
    {
      "cell_type": "code",
      "source": [
        "#count method on slice\n",
        "my_tuple[3:5].count('D')"
      ],
      "metadata": {
        "colab": {
          "base_uri": "https://localhost:8080/"
        },
        "id": "12b2ZPfdZppN",
        "outputId": "80a66cce-1ba9-4224-c9a7-6d08752f7984"
      },
      "execution_count": 9,
      "outputs": [
        {
          "output_type": "execute_result",
          "data": {
            "text/plain": [
              "2"
            ]
          },
          "metadata": {},
          "execution_count": 9
        }
      ]
    },
    {
      "cell_type": "code",
      "source": [
        "my_tuple[1:4]"
      ],
      "metadata": {
        "colab": {
          "base_uri": "https://localhost:8080/"
        },
        "id": "BHY8NNw1asxE",
        "outputId": "68429fdd-f9b3-409c-bc9f-6ae675af5020"
      },
      "execution_count": 12,
      "outputs": [
        {
          "output_type": "execute_result",
          "data": {
            "text/plain": [
              "('B', 'C', 'D')"
            ]
          },
          "metadata": {},
          "execution_count": 12
        }
      ]
    },
    {
      "cell_type": "code",
      "source": [
        "#index method on a slice\n",
        "\n",
        "my_tuple[1:4].index('B')"
      ],
      "metadata": {
        "colab": {
          "base_uri": "https://localhost:8080/"
        },
        "id": "7h_S8usRZwft",
        "outputId": "2bb565b6-f997-447a-a13a-b157fefacc4b"
      },
      "execution_count": 11,
      "outputs": [
        {
          "output_type": "execute_result",
          "data": {
            "text/plain": [
              "0"
            ]
          },
          "metadata": {},
          "execution_count": 11
        }
      ]
    },
    {
      "cell_type": "markdown",
      "source": [
        "Note : Tuples are immutable i.e we cannot edit / update or delete elements from the tuple. So, Tuples are faster than list"
      ],
      "metadata": {
        "id": "P32ukExCaRNG"
      }
    },
    {
      "cell_type": "code",
      "source": [],
      "metadata": {
        "id": "fndthaEQayrw"
      },
      "execution_count": 14,
      "outputs": []
    }
  ]
}