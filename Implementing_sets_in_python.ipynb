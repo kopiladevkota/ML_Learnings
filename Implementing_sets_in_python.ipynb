{
  "nbformat": 4,
  "nbformat_minor": 0,
  "metadata": {
    "colab": {
      "provenance": [],
      "authorship_tag": "ABX9TyMEzlyFtvpeXKbNZ+0sL9RO",
      "include_colab_link": true
    },
    "kernelspec": {
      "name": "python3",
      "display_name": "Python 3"
    },
    "language_info": {
      "name": "python"
    }
  },
  "cells": [
    {
      "cell_type": "markdown",
      "metadata": {
        "id": "view-in-github",
        "colab_type": "text"
      },
      "source": [
        "<a href=\"https://colab.research.google.com/github/kopiladevkota/Python/blob/main/Implementing_sets_in_python.ipynb\" target=\"_parent\"><img src=\"https://colab.research.google.com/assets/colab-badge.svg\" alt=\"Open In Colab\"/></a>"
      ]
    },
    {
      "cell_type": "markdown",
      "source": [
        "--> Set is an  unordered collection of elements unlike tuple and lists.\n",
        "--> No duplicate element.\n",
        "--> Mutable or modifiable.\n",
        "--> Set theory operations are possible."
      ],
      "metadata": {
        "id": "1osoSUPac-D2"
      }
    },
    {
      "cell_type": "code",
      "source": [
        "#unordered\n",
        "my_set = {'A','B','C','D',1,'E',2,4}\n",
        "my_set"
      ],
      "metadata": {
        "colab": {
          "base_uri": "https://localhost:8080/"
        },
        "id": "3nul6HPOcvwd",
        "outputId": "25539474-8da0-42db-af52-87fa54e47b1a"
      },
      "execution_count": null,
      "outputs": [
        {
          "output_type": "execute_result",
          "data": {
            "text/plain": [
              "{1, 2, 4, 'A', 'B', 'C', 'D', 'E'}"
            ]
          },
          "metadata": {},
          "execution_count": 2
        }
      ]
    },
    {
      "cell_type": "code",
      "source": [
        "#unique values\n",
        "my_set = {'A','B','D','C','D','E',2 , 4 ,2 ,2}\n",
        "my_set"
      ],
      "metadata": {
        "colab": {
          "base_uri": "https://localhost:8080/"
        },
        "id": "xtrhMR4VdL5f",
        "outputId": "925e46b2-83da-4d73-b60c-28708fc5ed34"
      },
      "execution_count": null,
      "outputs": [
        {
          "output_type": "execute_result",
          "data": {
            "text/plain": [
              "{2, 4, 'A', 'B', 'C', 'D', 'E'}"
            ]
          },
          "metadata": {},
          "execution_count": 3
        }
      ]
    },
    {
      "cell_type": "code",
      "source": [
        "#Defining a set from list and tuple\n",
        "my_list =['A', 'B',1 , 2 , 'B' , 'A']\n",
        "my_set_from_list = set(my_list)\n",
        "my_set_from_list"
      ],
      "metadata": {
        "colab": {
          "base_uri": "https://localhost:8080/"
        },
        "id": "Wm1_PRFVfPfJ",
        "outputId": "ced58f55-0530-4fcd-8b57-e12e4e491f77"
      },
      "execution_count": null,
      "outputs": [
        {
          "output_type": "execute_result",
          "data": {
            "text/plain": [
              "{1, 2, 'A', 'B'}"
            ]
          },
          "metadata": {},
          "execution_count": 5
        }
      ]
    },
    {
      "cell_type": "code",
      "source": [
        "my_tuple = ('A' ,'B',1, 2, 'B' , 'A')\n",
        "my_set_from_tuple =set(my_tuple)\n",
        "my_set_from_tuple"
      ],
      "metadata": {
        "colab": {
          "base_uri": "https://localhost:8080/"
        },
        "id": "gqBiWeBUfr_q",
        "outputId": "a1b398a6-b7c4-400a-e819-49d5bc497ee4"
      },
      "execution_count": null,
      "outputs": [
        {
          "output_type": "execute_result",
          "data": {
            "text/plain": [
              "{1, 2, 'A', 'B'}"
            ]
          },
          "metadata": {},
          "execution_count": 6
        }
      ]
    },
    {
      "cell_type": "code",
      "source": [
        "my_set"
      ],
      "metadata": {
        "colab": {
          "base_uri": "https://localhost:8080/"
        },
        "id": "B4g1rUZvgjts",
        "outputId": "ff62fae8-a86d-46a8-9c11-a6e6d646bfb7"
      },
      "execution_count": null,
      "outputs": [
        {
          "output_type": "execute_result",
          "data": {
            "text/plain": [
              "{'0', 2, 4, 'A', 'B', 'C', 'D', 'E', 'o'}"
            ]
          },
          "metadata": {},
          "execution_count": 10
        }
      ]
    },
    {
      "cell_type": "code",
      "source": [
        "#Add an element to the set\n",
        "my_set.add('P')\n",
        "my_set"
      ],
      "metadata": {
        "colab": {
          "base_uri": "https://localhost:8080/"
        },
        "id": "T6M1JeX0gNVt",
        "outputId": "4bc5d859-5c08-4951-b6e1-6b7acbcad934"
      },
      "execution_count": null,
      "outputs": [
        {
          "output_type": "execute_result",
          "data": {
            "text/plain": [
              "{'0', 2, 4, 'A', 'B', 'C', 'D', 'E', 'P', 'o'}"
            ]
          },
          "metadata": {},
          "execution_count": 11
        }
      ]
    },
    {
      "cell_type": "code",
      "source": [
        "#Delete an element from the set\n",
        "my_set = {'A','B','C','D',1,'E',2,4}\n",
        "my_set\n",
        "\n"
      ],
      "metadata": {
        "colab": {
          "base_uri": "https://localhost:8080/"
        },
        "id": "U__ksf-vgVZg",
        "outputId": "2516d3a4-bee0-49ac-b9cc-46490d61e3ee"
      },
      "execution_count": null,
      "outputs": [
        {
          "output_type": "execute_result",
          "data": {
            "text/plain": [
              "{1, 2, 4, 'A', 'B', 'C', 'D', 'E'}"
            ]
          },
          "metadata": {},
          "execution_count": 14
        }
      ]
    },
    {
      "cell_type": "code",
      "source": [
        "my_set.discard(\"A\")\n",
        "my_set"
      ],
      "metadata": {
        "colab": {
          "base_uri": "https://localhost:8080/"
        },
        "id": "tJx95gwChg7W",
        "outputId": "953583df-0534-4ce7-fdac-01eb5a1edc43"
      },
      "execution_count": null,
      "outputs": [
        {
          "output_type": "execute_result",
          "data": {
            "text/plain": [
              "{1, 2, 4, 'B', 'C', 'D', 'E'}"
            ]
          },
          "metadata": {},
          "execution_count": 15
        }
      ]
    },
    {
      "cell_type": "code",
      "source": [
        "my_set.discard(\"X\")\n",
        "my_set"
      ],
      "metadata": {
        "colab": {
          "base_uri": "https://localhost:8080/"
        },
        "id": "yhL7w-sshnBg",
        "outputId": "9b0e4500-1d66-4a63-fc06-aac8fad6d9c0"
      },
      "execution_count": null,
      "outputs": [
        {
          "output_type": "execute_result",
          "data": {
            "text/plain": [
              "{1, 2, 4, 'B', 'C', 'D', 'E'}"
            ]
          },
          "metadata": {},
          "execution_count": 16
        }
      ]
    },
    {
      "cell_type": "markdown",
      "source": [],
      "metadata": {
        "id": "o2lQBNIZh_mw"
      }
    },
    {
      "cell_type": "code",
      "source": [
        "my_set.remove(\"X\")#this throws an error since x is not present in the set"
      ],
      "metadata": {
        "colab": {
          "base_uri": "https://localhost:8080/",
          "height": 141
        },
        "id": "aqDr__ksh1Sx",
        "outputId": "a2b31e6e-a94c-47bc-dc36-3242e29e90c6"
      },
      "execution_count": null,
      "outputs": [
        {
          "output_type": "error",
          "ename": "KeyError",
          "evalue": "'X'",
          "traceback": [
            "\u001b[0;31m---------------------------------------------------------------------------\u001b[0m",
            "\u001b[0;31mKeyError\u001b[0m                                  Traceback (most recent call last)",
            "\u001b[0;32m<ipython-input-18-1c48e9bba2d0>\u001b[0m in \u001b[0;36m<cell line: 1>\u001b[0;34m()\u001b[0m\n\u001b[0;32m----> 1\u001b[0;31m \u001b[0mmy_set\u001b[0m\u001b[0;34m.\u001b[0m\u001b[0mremove\u001b[0m\u001b[0;34m(\u001b[0m\u001b[0;34m\"X\"\u001b[0m\u001b[0;34m)\u001b[0m\u001b[0;31m#this throws an error since x is not present in the set\u001b[0m\u001b[0;34m\u001b[0m\u001b[0;34m\u001b[0m\u001b[0m\n\u001b[0m",
            "\u001b[0;31mKeyError\u001b[0m: 'X'"
          ]
        }
      ]
    },
    {
      "cell_type": "code",
      "source": [
        "#Set 1\n",
        "my_set"
      ],
      "metadata": {
        "colab": {
          "base_uri": "https://localhost:8080/"
        },
        "id": "WuDw5f-Oh5bI",
        "outputId": "55da50ae-365c-41fe-cf4c-cb62c4eb09ba"
      },
      "execution_count": null,
      "outputs": [
        {
          "output_type": "execute_result",
          "data": {
            "text/plain": [
              "{1, 2, 4, 'B', 'C', 'D', 'E'}"
            ]
          },
          "metadata": {},
          "execution_count": 19
        }
      ]
    },
    {
      "cell_type": "code",
      "source": [
        "#set2\n",
        "my_set_from_list"
      ],
      "metadata": {
        "colab": {
          "base_uri": "https://localhost:8080/"
        },
        "id": "SepM-hFqiO-R",
        "outputId": "fbe0c134-0509-4ae1-81b6-8c202bf60818"
      },
      "execution_count": null,
      "outputs": [
        {
          "output_type": "execute_result",
          "data": {
            "text/plain": [
              "{1, 2, 'A', 'B'}"
            ]
          },
          "metadata": {},
          "execution_count": 20
        }
      ]
    },
    {
      "cell_type": "code",
      "source": [
        "#difference of 2 sets\n",
        "my_set.difference(my_set_from_list)"
      ],
      "metadata": {
        "colab": {
          "base_uri": "https://localhost:8080/"
        },
        "id": "IirTCH4tiYyz",
        "outputId": "64bc7d63-db60-4152-ce13-405061417ed2"
      },
      "execution_count": null,
      "outputs": [
        {
          "output_type": "execute_result",
          "data": {
            "text/plain": [
              "{4, 'C', 'D', 'E'}"
            ]
          },
          "metadata": {},
          "execution_count": 21
        }
      ]
    },
    {
      "cell_type": "code",
      "source": [
        "#it will not update the results ,if not stored in a variable\n",
        "my_set"
      ],
      "metadata": {
        "colab": {
          "base_uri": "https://localhost:8080/"
        },
        "id": "8LYwtFhKiiAD",
        "outputId": "1cd9b268-a78f-4722-fd8f-2833d0f20414"
      },
      "execution_count": null,
      "outputs": [
        {
          "output_type": "execute_result",
          "data": {
            "text/plain": [
              "{1, 2, 4, 'B', 'C', 'D', 'E'}"
            ]
          },
          "metadata": {},
          "execution_count": 22
        }
      ]
    },
    {
      "cell_type": "code",
      "source": [
        "#use the difference update to store the results directly\n",
        "my_set.difference_update(my_set_from_list)"
      ],
      "metadata": {
        "id": "RXjugcYii2Yl"
      },
      "execution_count": null,
      "outputs": []
    },
    {
      "cell_type": "code",
      "source": [
        "my_set"
      ],
      "metadata": {
        "colab": {
          "base_uri": "https://localhost:8080/"
        },
        "id": "Ol9mmTHPmvPR",
        "outputId": "9192a434-983a-46db-a02c-7068fa0ea357"
      },
      "execution_count": null,
      "outputs": [
        {
          "output_type": "execute_result",
          "data": {
            "text/plain": [
              "{4, 'C', 'D', 'E'}"
            ]
          },
          "metadata": {},
          "execution_count": 24
        }
      ]
    },
    {
      "cell_type": "code",
      "source": [
        "my_set = {'A','B','C','D',1,'E',2,4}"
      ],
      "metadata": {
        "id": "-iD5G5nqmwsq"
      },
      "execution_count": null,
      "outputs": []
    },
    {
      "cell_type": "code",
      "source": [
        "my_set_from_list"
      ],
      "metadata": {
        "colab": {
          "base_uri": "https://localhost:8080/"
        },
        "id": "1XsFA-WAm_Hz",
        "outputId": "4324684a-29bf-4ca6-922d-c841b7807b1a"
      },
      "execution_count": null,
      "outputs": [
        {
          "output_type": "execute_result",
          "data": {
            "text/plain": [
              "{1, 2, 'A', 'B'}"
            ]
          },
          "metadata": {},
          "execution_count": 27
        }
      ]
    },
    {
      "cell_type": "code",
      "source": [
        "my_set.intersection(my_set_from_list)"
      ],
      "metadata": {
        "colab": {
          "base_uri": "https://localhost:8080/"
        },
        "id": "ENPx9PmTnUk2",
        "outputId": "9c5fc85a-78aa-49ed-b409-ce2f2e04fd30"
      },
      "execution_count": null,
      "outputs": [
        {
          "output_type": "execute_result",
          "data": {
            "text/plain": [
              "{1, 2, 'A', 'B'}"
            ]
          },
          "metadata": {},
          "execution_count": 28
        }
      ]
    },
    {
      "cell_type": "code",
      "source": [
        "my_set"
      ],
      "metadata": {
        "colab": {
          "base_uri": "https://localhost:8080/"
        },
        "id": "0s0u_1-bndvQ",
        "outputId": "e982730b-87b0-4351-d645-0bd13ee25ed6"
      },
      "execution_count": null,
      "outputs": [
        {
          "output_type": "execute_result",
          "data": {
            "text/plain": [
              "{1, 2, 4, 'A', 'B', 'C', 'D', 'E'}"
            ]
          },
          "metadata": {},
          "execution_count": 29
        }
      ]
    },
    {
      "cell_type": "code",
      "source": [
        "my_set.intersection_update(my_set_from_list)"
      ],
      "metadata": {
        "id": "J_pA_S98nBKL"
      },
      "execution_count": null,
      "outputs": []
    },
    {
      "cell_type": "code",
      "source": [
        "my_set"
      ],
      "metadata": {
        "colab": {
          "base_uri": "https://localhost:8080/"
        },
        "id": "SWMr4NIxnhbN",
        "outputId": "ab496913-3497-43f4-acb6-869be233d256"
      },
      "execution_count": null,
      "outputs": [
        {
          "output_type": "execute_result",
          "data": {
            "text/plain": [
              "{1, 2, 'A', 'B'}"
            ]
          },
          "metadata": {},
          "execution_count": 31
        }
      ]
    },
    {
      "cell_type": "markdown",
      "source": [
        "Other operations on set\n",
        "--> is_disjoint\n",
        "--> is_subset\n",
        "--> is_superset\n",
        "--> union"
      ],
      "metadata": {
        "id": "OOzhY_b6nmhc"
      }
    },
    {
      "cell_type": "code",
      "source": [
        "set1 = {'A', 'B', 'C', 'D', 'E'}\n",
        "set2 = {'A', 'D', 'E'}\n",
        "set3 = {'S', 'T', 'U'}"
      ],
      "metadata": {
        "id": "21aSPpudniOH"
      },
      "execution_count": null,
      "outputs": []
    },
    {
      "cell_type": "code",
      "source": [
        "set1.isdisjoint(set2)"
      ],
      "metadata": {
        "colab": {
          "base_uri": "https://localhost:8080/"
        },
        "id": "UmC0IjlaocGi",
        "outputId": "3135395a-a612-452a-c346-d093b2cedb0c"
      },
      "execution_count": null,
      "outputs": [
        {
          "output_type": "execute_result",
          "data": {
            "text/plain": [
              "False"
            ]
          },
          "metadata": {},
          "execution_count": 33
        }
      ]
    },
    {
      "cell_type": "code",
      "source": [
        "set1.isdisjoint(set3)"
      ],
      "metadata": {
        "colab": {
          "base_uri": "https://localhost:8080/"
        },
        "id": "zKDEISqIogda",
        "outputId": "6056a1c3-2061-4d98-e6bc-41e3b53caa9d"
      },
      "execution_count": null,
      "outputs": [
        {
          "output_type": "execute_result",
          "data": {
            "text/plain": [
              "True"
            ]
          },
          "metadata": {},
          "execution_count": 34
        }
      ]
    },
    {
      "cell_type": "code",
      "source": [
        "set2.issubset(set1)"
      ],
      "metadata": {
        "colab": {
          "base_uri": "https://localhost:8080/"
        },
        "id": "a211k3fJom1O",
        "outputId": "85e12679-4a30-4c72-e84e-109e3ff377b9"
      },
      "execution_count": null,
      "outputs": [
        {
          "output_type": "execute_result",
          "data": {
            "text/plain": [
              "True"
            ]
          },
          "metadata": {},
          "execution_count": 35
        }
      ]
    },
    {
      "cell_type": "code",
      "source": [
        "set1.issuperset(set2)"
      ],
      "metadata": {
        "colab": {
          "base_uri": "https://localhost:8080/"
        },
        "id": "yDKM9-puowMg",
        "outputId": "5cec77a9-025c-48f1-b4df-21acd9abc54e"
      },
      "execution_count": null,
      "outputs": [
        {
          "output_type": "execute_result",
          "data": {
            "text/plain": [
              "True"
            ]
          },
          "metadata": {},
          "execution_count": 36
        }
      ]
    },
    {
      "cell_type": "code",
      "source": [
        "#union of 2 sets\n",
        "set1.union(set3)"
      ],
      "metadata": {
        "colab": {
          "base_uri": "https://localhost:8080/"
        },
        "id": "Z-Tr19Xgo1CE",
        "outputId": "724ff4e1-2589-42d2-fde8-32279d8a0cc1"
      },
      "execution_count": null,
      "outputs": [
        {
          "output_type": "execute_result",
          "data": {
            "text/plain": [
              "{'A', 'B', 'C', 'D', 'E', 'S', 'T', 'U'}"
            ]
          },
          "metadata": {},
          "execution_count": 37
        }
      ]
    },
    {
      "cell_type": "code",
      "source": [
        "#Update Set\n",
        "#update a set with new values,it will add the values which are not present in the original set\n",
        "set1.update({'C', 'D','E','R','Z'})\n",
        "set1"
      ],
      "metadata": {
        "colab": {
          "base_uri": "https://localhost:8080/"
        },
        "id": "MVX_-FgjpDr3",
        "outputId": "59542f68-8bd6-4ad8-9af5-1c22a34492c0"
      },
      "execution_count": null,
      "outputs": [
        {
          "output_type": "execute_result",
          "data": {
            "text/plain": [
              "{'A', 'B', 'C', 'D', 'E', 'R', 'Z'}"
            ]
          },
          "metadata": {},
          "execution_count": 38
        }
      ]
    },
    {
      "cell_type": "code",
      "source": [
        "#iterate the set\n",
        "for element in set1:\n",
        "  print(element)"
      ],
      "metadata": {
        "colab": {
          "base_uri": "https://localhost:8080/"
        },
        "id": "4VPFn3fG2WhK",
        "outputId": "da6a7e05-c8af-46df-b537-dd5750939655"
      },
      "execution_count": null,
      "outputs": [
        {
          "output_type": "stream",
          "name": "stdout",
          "text": [
            "D\n",
            "R\n",
            "Z\n",
            "A\n",
            "C\n",
            "E\n",
            "B\n"
          ]
        }
      ]
    },
    {
      "cell_type": "code",
      "source": [],
      "metadata": {
        "id": "PPaqSGYk2iHI"
      },
      "execution_count": null,
      "outputs": []
    }
  ]
}