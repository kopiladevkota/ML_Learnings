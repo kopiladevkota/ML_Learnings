{
  "cells": [
    {
      "cell_type": "markdown",
      "metadata": {
        "id": "view-in-github",
        "colab_type": "text"
      },
      "source": [
        "<a href=\"https://colab.research.google.com/github/kopiladevkota/Python/blob/main/2_Working_with_Multiple_DataFrames.ipynb\" target=\"_parent\"><img src=\"https://colab.research.google.com/assets/colab-badge.svg\" alt=\"Open In Colab\"/></a>"
      ]
    },
    {
      "cell_type": "markdown",
      "metadata": {
        "id": "ljwecGlvSf2T"
      },
      "source": [
        "---\n",
        "---\n",
        "\n",
        "<center><h1> 📍 📍 Working with Multiple DataFrames 📍 📍 </h1></center>\n",
        "\n",
        "\n",
        "---\n",
        "\n",
        "- In most of the real life projects you will not get data from a single resource. You might need to combine data that you gather from multiple sources. In this notebook, we will see how to work with multiple data files?\n",
        "\n",
        "\n",
        "***We have already worked with big mart sales data. Here, we have divided the data based on different outlet size. Let's see how to work with the multiple files***\n",
        "\n",
        "\n",
        "---\n",
        "\n",
        "#### `READ THE DATA`\n",
        "\n",
        "---"
      ]
    },
    {
      "cell_type": "code",
      "execution_count": null,
      "metadata": {
        "id": "mIBkSjOFSf2d"
      },
      "outputs": [],
      "source": [
        "# importing the pandas library\n",
        "import pandas as pd"
      ]
    },
    {
      "cell_type": "markdown",
      "metadata": {
        "id": "KRIjxO6GSf2d"
      },
      "source": [
        "---\n",
        "\n",
        "***Read 3 different files `outlet_size_small.csv`, `outlet_size_medium.csv` and `outlet_size_high.csv` stored in the folder datasets.***\n",
        "\n",
        "---"
      ]
    },
    {
      "cell_type": "code",
      "execution_count": null,
      "metadata": {
        "id": "8X8kfVoqSf2e"
      },
      "outputs": [],
      "source": [
        "# read the datasets\n",
        "outlet_size_small = pd.read_csv('datasets/outlet_size_small.csv')\n",
        "outlet_size_medium = pd.read_csv('datasets/outlet_size_medium.csv')\n",
        "outlet_size_large = pd.read_csv('datasets/outlet_size_high.csv')"
      ]
    },
    {
      "cell_type": "markdown",
      "metadata": {
        "id": "vhNpxCNVSf2e"
      },
      "source": [
        "***Let's check the shape of the data.***\n",
        "\n",
        "---"
      ]
    },
    {
      "cell_type": "code",
      "execution_count": null,
      "metadata": {
        "id": "B_WjfANISf2e"
      },
      "outputs": [],
      "source": [
        "outlet_size_small.shape, outlet_size_medium.shape, outlet_size_large.shape"
      ]
    },
    {
      "cell_type": "markdown",
      "metadata": {
        "id": "dKAWrP2DSf2f"
      },
      "source": [
        "***So, there are 2388 small, 2793 medium and 932 large size outlets are there.***\n",
        "\n",
        "\n",
        "---\n",
        "\n",
        "***Let's have a look at the data***\n",
        "\n",
        "#### `OUTLET SIZE SMALL`\n",
        "---"
      ]
    },
    {
      "cell_type": "code",
      "execution_count": null,
      "metadata": {
        "id": "TnR743wOSf2f"
      },
      "outputs": [],
      "source": [
        "outlet_size_small.head()"
      ]
    },
    {
      "cell_type": "markdown",
      "metadata": {
        "id": "vU5nkAdwSf2g"
      },
      "source": [
        "#### `OUTLET SIZE MEDIUM`\n",
        "\n",
        "---"
      ]
    },
    {
      "cell_type": "code",
      "execution_count": null,
      "metadata": {
        "id": "-JRQDGsrSf2g"
      },
      "outputs": [],
      "source": [
        "outlet_size_medium.head()"
      ]
    },
    {
      "cell_type": "markdown",
      "metadata": {
        "id": "qRP1VBUCSf2h"
      },
      "source": [
        "#### `OUTLET SIZE LARGE`\n",
        "\n",
        "---"
      ]
    },
    {
      "cell_type": "code",
      "execution_count": null,
      "metadata": {
        "id": "5GpiEiMkSf2h"
      },
      "outputs": [],
      "source": [
        "outlet_size_large.head()"
      ]
    },
    {
      "cell_type": "markdown",
      "metadata": {
        "id": "FtzQOoA7Sf2h"
      },
      "source": [
        "---\n",
        "\n",
        "#### `CONCATENATE ALL THE DATAFRAMES`\n",
        "\n",
        "\n",
        "We will use the concat function to concatenate all the dataframes. You just need to pass the list of dataframes to concatenate.\n",
        "\n",
        "---\n",
        "\n",
        "#### `FOR ROW-WISE CONCATENATION USE AXIS=0`\n",
        "\n",
        "\n",
        "---"
      ]
    },
    {
      "cell_type": "code",
      "execution_count": null,
      "metadata": {
        "id": "Nb5TBMVpSf2h"
      },
      "outputs": [],
      "source": [
        "# dataframes list\n",
        "all_dataframes = [outlet_size_small, outlet_size_medium, outlet_size_large]"
      ]
    },
    {
      "cell_type": "code",
      "execution_count": null,
      "metadata": {
        "id": "_-vbQCHMSf2h"
      },
      "outputs": [],
      "source": [
        "# concatenate all the dataframes\n",
        "data = pd.concat(all_dataframes, axis=0)"
      ]
    },
    {
      "cell_type": "code",
      "execution_count": null,
      "metadata": {
        "id": "Sq5SHqZvSf2h"
      },
      "outputs": [],
      "source": [
        "# shape of the data\n",
        "data.shape"
      ]
    },
    {
      "cell_type": "markdown",
      "metadata": {
        "id": "NEmjHOjzSf2h"
      },
      "source": [
        "#### `FOR COLUMN-WISE CONCATENATION USE AXIS=1`\n",
        "\n",
        "\n",
        "It is not advised to concatenate dataframes column wise. If you want to then you need to take care of some checks like the number of rows must be same in both the dataframes. Indexes are sorted of both the dataframes. If you are done with all the checks then you can simply use `axis=1` to do the job.\n",
        "\n",
        "\n",
        "\n",
        "Let's see with the help of an example.\n",
        "\n",
        "\n",
        "---"
      ]
    },
    {
      "cell_type": "code",
      "execution_count": null,
      "metadata": {
        "id": "eL96bV_oSf2h"
      },
      "outputs": [],
      "source": [
        "sample_dataframe = pd.DataFrame({\n",
        "    'roll_no': [ 102, 101, 104, 103, 105],\n",
        "    'name' : ['Aravind', 'Rahul', 'Prateek', 'Piyuesh', 'Kartik'],\n",
        "    'grade': ['B', 'B', 'A', 'C', 'A'],\n",
        "    'marks': [ 15, 15, 20, 4, 22],\n",
        "    'city' : ['Gurugram', 'Delhi', 'Delhi', 'Gurugram', 'Hyderabad']\n",
        "})\n",
        "sample_dataframe"
      ]
    },
    {
      "cell_type": "markdown",
      "metadata": {
        "id": "70q1ZfaBSf2i"
      },
      "source": [
        "***Let's create a dataframe which contains column name `phone_no`. Here, we are assuming that order of phone numbers are correct as the order of names in the sample_dataframe.***\n",
        "\n",
        "---"
      ]
    },
    {
      "cell_type": "code",
      "execution_count": null,
      "metadata": {
        "id": "jmKXQlZ6Sf2i"
      },
      "outputs": [],
      "source": [
        "# another sample dataframe\n",
        "phone_no = pd.DataFrame({ 'phone_no' : [212202, 202021, 212334, 213431, 211721]})\n",
        "phone_no"
      ]
    },
    {
      "cell_type": "code",
      "execution_count": null,
      "metadata": {
        "id": "XfbeohS1Sf2i"
      },
      "outputs": [],
      "source": [
        "combined = pd.concat([sample_dataframe,phone_no], axis=1)\n",
        "combined"
      ]
    },
    {
      "cell_type": "markdown",
      "metadata": {
        "id": "441O7ptlSf2j"
      },
      "source": [
        "---\n",
        "\n",
        "#### `Performing SQL-Like Joins in Pandas`\n",
        "\n",
        "\n",
        "#### `LET'S LEARN ABOUT THE JOINS IN PANDAS WITH SOME EXAMPLES`\n",
        "\n",
        "- We will create a sample dataframe of students data that will contain `roll_no`, `name`, `grade`, `marks` and `city`.\n",
        "\n",
        "\n",
        "---"
      ]
    },
    {
      "cell_type": "code",
      "execution_count": null,
      "metadata": {
        "id": "8_TI2hoLSf2j",
        "outputId": "35200501-68dc-4326-9f48-db29d2e6b6a0"
      },
      "outputs": [
        {
          "data": {
            "text/html": [
              "<div>\n",
              "<style scoped>\n",
              "    .dataframe tbody tr th:only-of-type {\n",
              "        vertical-align: middle;\n",
              "    }\n",
              "\n",
              "    .dataframe tbody tr th {\n",
              "        vertical-align: top;\n",
              "    }\n",
              "\n",
              "    .dataframe thead th {\n",
              "        text-align: right;\n",
              "    }\n",
              "</style>\n",
              "<table border=\"1\" class=\"dataframe\">\n",
              "  <thead>\n",
              "    <tr style=\"text-align: right;\">\n",
              "      <th></th>\n",
              "      <th>roll_no</th>\n",
              "      <th>name</th>\n",
              "      <th>grade</th>\n",
              "      <th>marks</th>\n",
              "      <th>city</th>\n",
              "    </tr>\n",
              "  </thead>\n",
              "  <tbody>\n",
              "    <tr>\n",
              "      <td>0</td>\n",
              "      <td>102</td>\n",
              "      <td>Aravind</td>\n",
              "      <td>B</td>\n",
              "      <td>15</td>\n",
              "      <td>Gurugram</td>\n",
              "    </tr>\n",
              "    <tr>\n",
              "      <td>1</td>\n",
              "      <td>101</td>\n",
              "      <td>Rahul</td>\n",
              "      <td>B</td>\n",
              "      <td>15</td>\n",
              "      <td>Delhi</td>\n",
              "    </tr>\n",
              "    <tr>\n",
              "      <td>2</td>\n",
              "      <td>104</td>\n",
              "      <td>Prateek</td>\n",
              "      <td>A</td>\n",
              "      <td>20</td>\n",
              "      <td>Delhi</td>\n",
              "    </tr>\n",
              "    <tr>\n",
              "      <td>3</td>\n",
              "      <td>103</td>\n",
              "      <td>Piyuesh</td>\n",
              "      <td>C</td>\n",
              "      <td>4</td>\n",
              "      <td>Gurugram</td>\n",
              "    </tr>\n",
              "    <tr>\n",
              "      <td>4</td>\n",
              "      <td>105</td>\n",
              "      <td>Kartik</td>\n",
              "      <td>A</td>\n",
              "      <td>22</td>\n",
              "      <td>Hyderabad</td>\n",
              "    </tr>\n",
              "  </tbody>\n",
              "</table>\n",
              "</div>"
            ],
            "text/plain": [
              "   roll_no     name grade  marks       city\n",
              "0      102  Aravind     B     15   Gurugram\n",
              "1      101    Rahul     B     15      Delhi\n",
              "2      104  Prateek     A     20      Delhi\n",
              "3      103  Piyuesh     C      4   Gurugram\n",
              "4      105   Kartik     A     22  Hyderabad"
            ]
          },
          "execution_count": 35,
          "metadata": {},
          "output_type": "execute_result"
        }
      ],
      "source": [
        "student_df = pd.DataFrame({\n",
        "    'roll_no': [ 102, 101, 104, 103, 105],\n",
        "    'name' : ['Aravind', 'Rahul', 'Prateek', 'Piyuesh', 'Kartik'],\n",
        "    'grade': ['B', 'B', 'A', 'C', 'A'],\n",
        "    'marks': [ 15, 15, 20, 4, 22],\n",
        "    'city' : ['Gurugram', 'Delhi', 'Delhi', 'Gurugram', 'Hyderabad']\n",
        "})\n",
        "student_df"
      ]
    },
    {
      "cell_type": "markdown",
      "metadata": {
        "id": "4_70ynKVSf2j"
      },
      "source": [
        "---\n",
        "\n",
        "***Now, we have a mapping of city and state. We want to add another feature to our dataframe state using this mapping.***\n",
        "\n",
        "\n",
        "Let's create the city_state_mapping\n",
        "\n",
        "---"
      ]
    },
    {
      "cell_type": "code",
      "execution_count": null,
      "metadata": {
        "id": "b7YaQbzASf2j",
        "outputId": "48cd01e8-157a-4b4f-b4c1-c9b1b280dcf5"
      },
      "outputs": [
        {
          "data": {
            "text/html": [
              "<div>\n",
              "<style scoped>\n",
              "    .dataframe tbody tr th:only-of-type {\n",
              "        vertical-align: middle;\n",
              "    }\n",
              "\n",
              "    .dataframe tbody tr th {\n",
              "        vertical-align: top;\n",
              "    }\n",
              "\n",
              "    .dataframe thead th {\n",
              "        text-align: right;\n",
              "    }\n",
              "</style>\n",
              "<table border=\"1\" class=\"dataframe\">\n",
              "  <thead>\n",
              "    <tr style=\"text-align: right;\">\n",
              "      <th></th>\n",
              "      <th>city</th>\n",
              "      <th>state</th>\n",
              "    </tr>\n",
              "  </thead>\n",
              "  <tbody>\n",
              "    <tr>\n",
              "      <td>0</td>\n",
              "      <td>Gurugram</td>\n",
              "      <td>Haryana</td>\n",
              "    </tr>\n",
              "    <tr>\n",
              "      <td>1</td>\n",
              "      <td>Delhi</td>\n",
              "      <td>Delhi</td>\n",
              "    </tr>\n",
              "    <tr>\n",
              "      <td>2</td>\n",
              "      <td>Hyderabad</td>\n",
              "      <td>Telangana</td>\n",
              "    </tr>\n",
              "    <tr>\n",
              "      <td>3</td>\n",
              "      <td>Faridabad</td>\n",
              "      <td>Haryana</td>\n",
              "    </tr>\n",
              "  </tbody>\n",
              "</table>\n",
              "</div>"
            ],
            "text/plain": [
              "        city      state\n",
              "0   Gurugram    Haryana\n",
              "1      Delhi      Delhi\n",
              "2  Hyderabad  Telangana\n",
              "3  Faridabad    Haryana"
            ]
          },
          "execution_count": 36,
          "metadata": {},
          "output_type": "execute_result"
        }
      ],
      "source": [
        "city_state_mapping = pd.DataFrame({\n",
        "    'city' :  ['Gurugram', 'Delhi', 'Hyderabad', 'Faridabad'],\n",
        "    'state' : ['Haryana',  'Delhi', 'Telangana', 'Haryana']\n",
        "})\n",
        "city_state_mapping"
      ]
    },
    {
      "cell_type": "markdown",
      "metadata": {
        "id": "3XWira4YSf2j"
      },
      "source": [
        "***Now, we want to add another column state to the `student_df` using the `city_state_mapping`. We can do this by doing a left join. We need to use the merge function and set the parameters `how='left'` and `on='city`.***\n",
        "\n",
        "![](left.png)\n",
        "---"
      ]
    },
    {
      "cell_type": "code",
      "execution_count": null,
      "metadata": {
        "id": "j9AHSJkdSf2k",
        "outputId": "cb9c5876-79c3-46cc-e5cd-90d0d69edec5"
      },
      "outputs": [
        {
          "data": {
            "text/html": [
              "<div>\n",
              "<style scoped>\n",
              "    .dataframe tbody tr th:only-of-type {\n",
              "        vertical-align: middle;\n",
              "    }\n",
              "\n",
              "    .dataframe tbody tr th {\n",
              "        vertical-align: top;\n",
              "    }\n",
              "\n",
              "    .dataframe thead th {\n",
              "        text-align: right;\n",
              "    }\n",
              "</style>\n",
              "<table border=\"1\" class=\"dataframe\">\n",
              "  <thead>\n",
              "    <tr style=\"text-align: right;\">\n",
              "      <th></th>\n",
              "      <th>city</th>\n",
              "      <th>state</th>\n",
              "    </tr>\n",
              "  </thead>\n",
              "  <tbody>\n",
              "    <tr>\n",
              "      <td>0</td>\n",
              "      <td>Gurugram</td>\n",
              "      <td>Haryana</td>\n",
              "    </tr>\n",
              "    <tr>\n",
              "      <td>1</td>\n",
              "      <td>Delhi</td>\n",
              "      <td>Delhi</td>\n",
              "    </tr>\n",
              "    <tr>\n",
              "      <td>2</td>\n",
              "      <td>Hyderabad</td>\n",
              "      <td>Telangana</td>\n",
              "    </tr>\n",
              "    <tr>\n",
              "      <td>3</td>\n",
              "      <td>Faridabad</td>\n",
              "      <td>Haryana</td>\n",
              "    </tr>\n",
              "  </tbody>\n",
              "</table>\n",
              "</div>"
            ],
            "text/plain": [
              "        city      state\n",
              "0   Gurugram    Haryana\n",
              "1      Delhi      Delhi\n",
              "2  Hyderabad  Telangana\n",
              "3  Faridabad    Haryana"
            ]
          },
          "execution_count": 38,
          "metadata": {},
          "output_type": "execute_result"
        }
      ],
      "source": [
        "city_state_mapping"
      ]
    },
    {
      "cell_type": "code",
      "execution_count": null,
      "metadata": {
        "id": "-79BWwc8Sf2k",
        "outputId": "8da2da6f-6e2a-43ae-9f48-ce8d655728f3"
      },
      "outputs": [
        {
          "data": {
            "text/html": [
              "<div>\n",
              "<style scoped>\n",
              "    .dataframe tbody tr th:only-of-type {\n",
              "        vertical-align: middle;\n",
              "    }\n",
              "\n",
              "    .dataframe tbody tr th {\n",
              "        vertical-align: top;\n",
              "    }\n",
              "\n",
              "    .dataframe thead th {\n",
              "        text-align: right;\n",
              "    }\n",
              "</style>\n",
              "<table border=\"1\" class=\"dataframe\">\n",
              "  <thead>\n",
              "    <tr style=\"text-align: right;\">\n",
              "      <th></th>\n",
              "      <th>roll_no</th>\n",
              "      <th>name</th>\n",
              "      <th>grade</th>\n",
              "      <th>marks</th>\n",
              "      <th>city</th>\n",
              "      <th>state</th>\n",
              "    </tr>\n",
              "  </thead>\n",
              "  <tbody>\n",
              "    <tr>\n",
              "      <td>0</td>\n",
              "      <td>102</td>\n",
              "      <td>Aravind</td>\n",
              "      <td>B</td>\n",
              "      <td>15</td>\n",
              "      <td>Gurugram</td>\n",
              "      <td>Haryana</td>\n",
              "    </tr>\n",
              "    <tr>\n",
              "      <td>1</td>\n",
              "      <td>101</td>\n",
              "      <td>Rahul</td>\n",
              "      <td>B</td>\n",
              "      <td>15</td>\n",
              "      <td>Delhi</td>\n",
              "      <td>Delhi</td>\n",
              "    </tr>\n",
              "    <tr>\n",
              "      <td>2</td>\n",
              "      <td>104</td>\n",
              "      <td>Prateek</td>\n",
              "      <td>A</td>\n",
              "      <td>20</td>\n",
              "      <td>Delhi</td>\n",
              "      <td>Delhi</td>\n",
              "    </tr>\n",
              "    <tr>\n",
              "      <td>3</td>\n",
              "      <td>103</td>\n",
              "      <td>Piyuesh</td>\n",
              "      <td>C</td>\n",
              "      <td>4</td>\n",
              "      <td>Gurugram</td>\n",
              "      <td>Haryana</td>\n",
              "    </tr>\n",
              "    <tr>\n",
              "      <td>4</td>\n",
              "      <td>105</td>\n",
              "      <td>Kartik</td>\n",
              "      <td>A</td>\n",
              "      <td>22</td>\n",
              "      <td>Hyderabad</td>\n",
              "      <td>Telangana</td>\n",
              "    </tr>\n",
              "  </tbody>\n",
              "</table>\n",
              "</div>"
            ],
            "text/plain": [
              "   roll_no     name grade  marks       city      state\n",
              "0      102  Aravind     B     15   Gurugram    Haryana\n",
              "1      101    Rahul     B     15      Delhi      Delhi\n",
              "2      104  Prateek     A     20      Delhi      Delhi\n",
              "3      103  Piyuesh     C      4   Gurugram    Haryana\n",
              "4      105   Kartik     A     22  Hyderabad  Telangana"
            ]
          },
          "execution_count": 37,
          "metadata": {},
          "output_type": "execute_result"
        }
      ],
      "source": [
        "student_df.merge(city_state_mapping, how='left', on='city')"
      ]
    },
    {
      "cell_type": "markdown",
      "metadata": {
        "id": "2E2W3qUASf2k"
      },
      "source": [
        "***Now, we have another dataframe that contains roll_no of some students. We need to find out the other details of the students. We can do this by using `right join`. You just need to set `how='right'`.***\n",
        "\n",
        "![](right.png)\n",
        "---"
      ]
    },
    {
      "cell_type": "code",
      "execution_count": null,
      "metadata": {
        "id": "ZYx_FR-iSf2k",
        "outputId": "56c90e5d-4909-4ad6-9ebd-e1a8aca69e34"
      },
      "outputs": [
        {
          "data": {
            "text/html": [
              "<div>\n",
              "<style scoped>\n",
              "    .dataframe tbody tr th:only-of-type {\n",
              "        vertical-align: middle;\n",
              "    }\n",
              "\n",
              "    .dataframe tbody tr th {\n",
              "        vertical-align: top;\n",
              "    }\n",
              "\n",
              "    .dataframe thead th {\n",
              "        text-align: right;\n",
              "    }\n",
              "</style>\n",
              "<table border=\"1\" class=\"dataframe\">\n",
              "  <thead>\n",
              "    <tr style=\"text-align: right;\">\n",
              "      <th></th>\n",
              "      <th>roll_no</th>\n",
              "    </tr>\n",
              "  </thead>\n",
              "  <tbody>\n",
              "    <tr>\n",
              "      <td>0</td>\n",
              "      <td>102</td>\n",
              "    </tr>\n",
              "    <tr>\n",
              "      <td>1</td>\n",
              "      <td>103</td>\n",
              "    </tr>\n",
              "  </tbody>\n",
              "</table>\n",
              "</div>"
            ],
            "text/plain": [
              "   roll_no\n",
              "0      102\n",
              "1      103"
            ]
          },
          "execution_count": 39,
          "metadata": {},
          "output_type": "execute_result"
        }
      ],
      "source": [
        "roll_no = pd.DataFrame({\n",
        "    'roll_no' : [ 102, 103]\n",
        "})\n",
        "roll_no"
      ]
    },
    {
      "cell_type": "code",
      "execution_count": null,
      "metadata": {
        "id": "d9Bvq9KTSf2k",
        "outputId": "cf9f6aa0-93ea-4065-b097-8555edc38dbc"
      },
      "outputs": [
        {
          "data": {
            "text/html": [
              "<div>\n",
              "<style scoped>\n",
              "    .dataframe tbody tr th:only-of-type {\n",
              "        vertical-align: middle;\n",
              "    }\n",
              "\n",
              "    .dataframe tbody tr th {\n",
              "        vertical-align: top;\n",
              "    }\n",
              "\n",
              "    .dataframe thead th {\n",
              "        text-align: right;\n",
              "    }\n",
              "</style>\n",
              "<table border=\"1\" class=\"dataframe\">\n",
              "  <thead>\n",
              "    <tr style=\"text-align: right;\">\n",
              "      <th></th>\n",
              "      <th>roll_no</th>\n",
              "      <th>name</th>\n",
              "      <th>grade</th>\n",
              "      <th>marks</th>\n",
              "      <th>city</th>\n",
              "    </tr>\n",
              "  </thead>\n",
              "  <tbody>\n",
              "    <tr>\n",
              "      <td>0</td>\n",
              "      <td>102</td>\n",
              "      <td>Aravind</td>\n",
              "      <td>B</td>\n",
              "      <td>15</td>\n",
              "      <td>Gurugram</td>\n",
              "    </tr>\n",
              "    <tr>\n",
              "      <td>1</td>\n",
              "      <td>101</td>\n",
              "      <td>Rahul</td>\n",
              "      <td>B</td>\n",
              "      <td>15</td>\n",
              "      <td>Delhi</td>\n",
              "    </tr>\n",
              "    <tr>\n",
              "      <td>2</td>\n",
              "      <td>104</td>\n",
              "      <td>Prateek</td>\n",
              "      <td>A</td>\n",
              "      <td>20</td>\n",
              "      <td>Delhi</td>\n",
              "    </tr>\n",
              "    <tr>\n",
              "      <td>3</td>\n",
              "      <td>103</td>\n",
              "      <td>Piyuesh</td>\n",
              "      <td>C</td>\n",
              "      <td>4</td>\n",
              "      <td>Gurugram</td>\n",
              "    </tr>\n",
              "    <tr>\n",
              "      <td>4</td>\n",
              "      <td>105</td>\n",
              "      <td>Kartik</td>\n",
              "      <td>A</td>\n",
              "      <td>22</td>\n",
              "      <td>Hyderabad</td>\n",
              "    </tr>\n",
              "  </tbody>\n",
              "</table>\n",
              "</div>"
            ],
            "text/plain": [
              "   roll_no     name grade  marks       city\n",
              "0      102  Aravind     B     15   Gurugram\n",
              "1      101    Rahul     B     15      Delhi\n",
              "2      104  Prateek     A     20      Delhi\n",
              "3      103  Piyuesh     C      4   Gurugram\n",
              "4      105   Kartik     A     22  Hyderabad"
            ]
          },
          "execution_count": 40,
          "metadata": {},
          "output_type": "execute_result"
        }
      ],
      "source": [
        "student_df"
      ]
    },
    {
      "cell_type": "code",
      "execution_count": null,
      "metadata": {
        "id": "I-z4gwvsSf2k",
        "outputId": "8434d3bc-290e-4a4c-89e8-f2f55437c9fb"
      },
      "outputs": [
        {
          "data": {
            "text/html": [
              "<div>\n",
              "<style scoped>\n",
              "    .dataframe tbody tr th:only-of-type {\n",
              "        vertical-align: middle;\n",
              "    }\n",
              "\n",
              "    .dataframe tbody tr th {\n",
              "        vertical-align: top;\n",
              "    }\n",
              "\n",
              "    .dataframe thead th {\n",
              "        text-align: right;\n",
              "    }\n",
              "</style>\n",
              "<table border=\"1\" class=\"dataframe\">\n",
              "  <thead>\n",
              "    <tr style=\"text-align: right;\">\n",
              "      <th></th>\n",
              "      <th>roll_no</th>\n",
              "      <th>name</th>\n",
              "      <th>grade</th>\n",
              "      <th>marks</th>\n",
              "      <th>city</th>\n",
              "    </tr>\n",
              "  </thead>\n",
              "  <tbody>\n",
              "    <tr>\n",
              "      <td>0</td>\n",
              "      <td>102</td>\n",
              "      <td>Aravind</td>\n",
              "      <td>B</td>\n",
              "      <td>15</td>\n",
              "      <td>Gurugram</td>\n",
              "    </tr>\n",
              "    <tr>\n",
              "      <td>1</td>\n",
              "      <td>103</td>\n",
              "      <td>Piyuesh</td>\n",
              "      <td>C</td>\n",
              "      <td>4</td>\n",
              "      <td>Gurugram</td>\n",
              "    </tr>\n",
              "  </tbody>\n",
              "</table>\n",
              "</div>"
            ],
            "text/plain": [
              "   roll_no     name grade  marks      city\n",
              "0      102  Aravind     B     15  Gurugram\n",
              "1      103  Piyuesh     C      4  Gurugram"
            ]
          },
          "execution_count": 41,
          "metadata": {},
          "output_type": "execute_result"
        }
      ],
      "source": [
        "student_df.merge(roll_no, how='right', on='roll_no')"
      ]
    },
    {
      "cell_type": "markdown",
      "metadata": {
        "id": "LDbp1xahSf2k"
      },
      "source": [
        "***Now, students participated in a placement drive and some of the students got placed and the details are given in the `student_selection` dataframe.***\n",
        "\n",
        "---"
      ]
    },
    {
      "cell_type": "code",
      "execution_count": null,
      "metadata": {
        "id": "D8p6-l2nSf2l",
        "outputId": "435b5358-d331-49f7-ca98-945d59b505a7"
      },
      "outputs": [
        {
          "data": {
            "text/html": [
              "<div>\n",
              "<style scoped>\n",
              "    .dataframe tbody tr th:only-of-type {\n",
              "        vertical-align: middle;\n",
              "    }\n",
              "\n",
              "    .dataframe tbody tr th {\n",
              "        vertical-align: top;\n",
              "    }\n",
              "\n",
              "    .dataframe thead th {\n",
              "        text-align: right;\n",
              "    }\n",
              "</style>\n",
              "<table border=\"1\" class=\"dataframe\">\n",
              "  <thead>\n",
              "    <tr style=\"text-align: right;\">\n",
              "      <th></th>\n",
              "      <th>roll_no</th>\n",
              "      <th>company</th>\n",
              "      <th>package (lpa)</th>\n",
              "    </tr>\n",
              "  </thead>\n",
              "  <tbody>\n",
              "    <tr>\n",
              "      <td>0</td>\n",
              "      <td>102</td>\n",
              "      <td>ABC</td>\n",
              "      <td>8.0</td>\n",
              "    </tr>\n",
              "    <tr>\n",
              "      <td>1</td>\n",
              "      <td>105</td>\n",
              "      <td>XYZ</td>\n",
              "      <td>14.5</td>\n",
              "    </tr>\n",
              "    <tr>\n",
              "      <td>2</td>\n",
              "      <td>101</td>\n",
              "      <td>ABC</td>\n",
              "      <td>11.0</td>\n",
              "    </tr>\n",
              "  </tbody>\n",
              "</table>\n",
              "</div>"
            ],
            "text/plain": [
              "   roll_no company  package (lpa)\n",
              "0      102     ABC            8.0\n",
              "1      105     XYZ           14.5\n",
              "2      101     ABC           11.0"
            ]
          },
          "execution_count": 42,
          "metadata": {},
          "output_type": "execute_result"
        }
      ],
      "source": [
        "student_selection = pd.DataFrame({\n",
        "    'roll_no' : [102, 105, 101],\n",
        "    'company' : ['ABC', 'XYZ', 'ABC'],\n",
        "    'package (lpa)' : [ 8, 14.5, 11 ]\n",
        "})\n",
        "student_selection"
      ]
    },
    {
      "cell_type": "markdown",
      "metadata": {
        "id": "lp6Ge_77Sf2l"
      },
      "source": [
        "***Now, we want to combine the `student_df` and `student_selection`. We can do this by using `outer/full join`. You need to set parameter `how = 'outer'`.***\n",
        "\n",
        "![](outer.png)\n",
        "\n",
        "---"
      ]
    },
    {
      "cell_type": "code",
      "execution_count": null,
      "metadata": {
        "id": "owaMSniqSf2l",
        "outputId": "b1c91d62-9ccd-4bed-e3f0-a6d581c7ef9d"
      },
      "outputs": [
        {
          "data": {
            "text/html": [
              "<div>\n",
              "<style scoped>\n",
              "    .dataframe tbody tr th:only-of-type {\n",
              "        vertical-align: middle;\n",
              "    }\n",
              "\n",
              "    .dataframe tbody tr th {\n",
              "        vertical-align: top;\n",
              "    }\n",
              "\n",
              "    .dataframe thead th {\n",
              "        text-align: right;\n",
              "    }\n",
              "</style>\n",
              "<table border=\"1\" class=\"dataframe\">\n",
              "  <thead>\n",
              "    <tr style=\"text-align: right;\">\n",
              "      <th></th>\n",
              "      <th>roll_no</th>\n",
              "      <th>name</th>\n",
              "      <th>grade</th>\n",
              "      <th>marks</th>\n",
              "      <th>city</th>\n",
              "    </tr>\n",
              "  </thead>\n",
              "  <tbody>\n",
              "    <tr>\n",
              "      <td>0</td>\n",
              "      <td>102</td>\n",
              "      <td>Aravind</td>\n",
              "      <td>B</td>\n",
              "      <td>15</td>\n",
              "      <td>Gurugram</td>\n",
              "    </tr>\n",
              "    <tr>\n",
              "      <td>1</td>\n",
              "      <td>101</td>\n",
              "      <td>Rahul</td>\n",
              "      <td>B</td>\n",
              "      <td>15</td>\n",
              "      <td>Delhi</td>\n",
              "    </tr>\n",
              "    <tr>\n",
              "      <td>2</td>\n",
              "      <td>104</td>\n",
              "      <td>Prateek</td>\n",
              "      <td>A</td>\n",
              "      <td>20</td>\n",
              "      <td>Delhi</td>\n",
              "    </tr>\n",
              "    <tr>\n",
              "      <td>3</td>\n",
              "      <td>103</td>\n",
              "      <td>Piyuesh</td>\n",
              "      <td>C</td>\n",
              "      <td>4</td>\n",
              "      <td>Gurugram</td>\n",
              "    </tr>\n",
              "    <tr>\n",
              "      <td>4</td>\n",
              "      <td>105</td>\n",
              "      <td>Kartik</td>\n",
              "      <td>A</td>\n",
              "      <td>22</td>\n",
              "      <td>Hyderabad</td>\n",
              "    </tr>\n",
              "  </tbody>\n",
              "</table>\n",
              "</div>"
            ],
            "text/plain": [
              "   roll_no     name grade  marks       city\n",
              "0      102  Aravind     B     15   Gurugram\n",
              "1      101    Rahul     B     15      Delhi\n",
              "2      104  Prateek     A     20      Delhi\n",
              "3      103  Piyuesh     C      4   Gurugram\n",
              "4      105   Kartik     A     22  Hyderabad"
            ]
          },
          "execution_count": 43,
          "metadata": {},
          "output_type": "execute_result"
        }
      ],
      "source": [
        "student_df"
      ]
    },
    {
      "cell_type": "code",
      "execution_count": null,
      "metadata": {
        "id": "YXDlfvRSSf2l",
        "outputId": "6f8abb28-441b-47af-806d-6915c1a456b9"
      },
      "outputs": [
        {
          "data": {
            "text/html": [
              "<div>\n",
              "<style scoped>\n",
              "    .dataframe tbody tr th:only-of-type {\n",
              "        vertical-align: middle;\n",
              "    }\n",
              "\n",
              "    .dataframe tbody tr th {\n",
              "        vertical-align: top;\n",
              "    }\n",
              "\n",
              "    .dataframe thead th {\n",
              "        text-align: right;\n",
              "    }\n",
              "</style>\n",
              "<table border=\"1\" class=\"dataframe\">\n",
              "  <thead>\n",
              "    <tr style=\"text-align: right;\">\n",
              "      <th></th>\n",
              "      <th>roll_no</th>\n",
              "      <th>name</th>\n",
              "      <th>grade</th>\n",
              "      <th>marks</th>\n",
              "      <th>city</th>\n",
              "      <th>company</th>\n",
              "      <th>package (lpa)</th>\n",
              "    </tr>\n",
              "  </thead>\n",
              "  <tbody>\n",
              "    <tr>\n",
              "      <td>0</td>\n",
              "      <td>102</td>\n",
              "      <td>Aravind</td>\n",
              "      <td>B</td>\n",
              "      <td>15</td>\n",
              "      <td>Gurugram</td>\n",
              "      <td>ABC</td>\n",
              "      <td>8.0</td>\n",
              "    </tr>\n",
              "    <tr>\n",
              "      <td>1</td>\n",
              "      <td>101</td>\n",
              "      <td>Rahul</td>\n",
              "      <td>B</td>\n",
              "      <td>15</td>\n",
              "      <td>Delhi</td>\n",
              "      <td>ABC</td>\n",
              "      <td>11.0</td>\n",
              "    </tr>\n",
              "    <tr>\n",
              "      <td>2</td>\n",
              "      <td>104</td>\n",
              "      <td>Prateek</td>\n",
              "      <td>A</td>\n",
              "      <td>20</td>\n",
              "      <td>Delhi</td>\n",
              "      <td>NaN</td>\n",
              "      <td>NaN</td>\n",
              "    </tr>\n",
              "    <tr>\n",
              "      <td>3</td>\n",
              "      <td>103</td>\n",
              "      <td>Piyuesh</td>\n",
              "      <td>C</td>\n",
              "      <td>4</td>\n",
              "      <td>Gurugram</td>\n",
              "      <td>NaN</td>\n",
              "      <td>NaN</td>\n",
              "    </tr>\n",
              "    <tr>\n",
              "      <td>4</td>\n",
              "      <td>105</td>\n",
              "      <td>Kartik</td>\n",
              "      <td>A</td>\n",
              "      <td>22</td>\n",
              "      <td>Hyderabad</td>\n",
              "      <td>XYZ</td>\n",
              "      <td>14.5</td>\n",
              "    </tr>\n",
              "  </tbody>\n",
              "</table>\n",
              "</div>"
            ],
            "text/plain": [
              "   roll_no     name grade  marks       city company  package (lpa)\n",
              "0      102  Aravind     B     15   Gurugram     ABC            8.0\n",
              "1      101    Rahul     B     15      Delhi     ABC           11.0\n",
              "2      104  Prateek     A     20      Delhi     NaN            NaN\n",
              "3      103  Piyuesh     C      4   Gurugram     NaN            NaN\n",
              "4      105   Kartik     A     22  Hyderabad     XYZ           14.5"
            ]
          },
          "execution_count": 44,
          "metadata": {},
          "output_type": "execute_result"
        }
      ],
      "source": [
        "student_df.merge(student_selection, how='outer')"
      ]
    },
    {
      "cell_type": "markdown",
      "metadata": {
        "id": "wPDbZs0ISf2l"
      },
      "source": [
        "---\n",
        "\n",
        "***Now, consider it was a pool placement drive and students from multiple colleges participated. The college `\"ZU UNIVERSITY\"` got the list of students selected for the job. You need to find out the details of the students who got selected from the college `\"ZU UNIVERSITY\"`***\n",
        "\n",
        "\n",
        "---"
      ]
    },
    {
      "cell_type": "code",
      "execution_count": null,
      "metadata": {
        "id": "m65bkThxSf2l",
        "outputId": "f8336164-56db-41a7-c317-6d8940ceb9ad"
      },
      "outputs": [
        {
          "data": {
            "text/html": [
              "<div>\n",
              "<style scoped>\n",
              "    .dataframe tbody tr th:only-of-type {\n",
              "        vertical-align: middle;\n",
              "    }\n",
              "\n",
              "    .dataframe tbody tr th {\n",
              "        vertical-align: top;\n",
              "    }\n",
              "\n",
              "    .dataframe thead th {\n",
              "        text-align: right;\n",
              "    }\n",
              "</style>\n",
              "<table border=\"1\" class=\"dataframe\">\n",
              "  <thead>\n",
              "    <tr style=\"text-align: right;\">\n",
              "      <th></th>\n",
              "      <th>college</th>\n",
              "      <th>roll_no</th>\n",
              "      <th>name</th>\n",
              "      <th>grade</th>\n",
              "      <th>marks</th>\n",
              "      <th>city</th>\n",
              "    </tr>\n",
              "  </thead>\n",
              "  <tbody>\n",
              "    <tr>\n",
              "      <td>0</td>\n",
              "      <td>ZU UNIVERSITY</td>\n",
              "      <td>102</td>\n",
              "      <td>Aravind</td>\n",
              "      <td>B</td>\n",
              "      <td>15</td>\n",
              "      <td>Gurugram</td>\n",
              "    </tr>\n",
              "    <tr>\n",
              "      <td>1</td>\n",
              "      <td>ZU UNIVERSITY</td>\n",
              "      <td>101</td>\n",
              "      <td>Rahul</td>\n",
              "      <td>B</td>\n",
              "      <td>15</td>\n",
              "      <td>Delhi</td>\n",
              "    </tr>\n",
              "    <tr>\n",
              "      <td>2</td>\n",
              "      <td>ZU UNIVERSITY</td>\n",
              "      <td>104</td>\n",
              "      <td>Prateek</td>\n",
              "      <td>A</td>\n",
              "      <td>20</td>\n",
              "      <td>Delhi</td>\n",
              "    </tr>\n",
              "    <tr>\n",
              "      <td>3</td>\n",
              "      <td>ZU UNIVERSITY</td>\n",
              "      <td>103</td>\n",
              "      <td>Piyuesh</td>\n",
              "      <td>C</td>\n",
              "      <td>4</td>\n",
              "      <td>Gurugram</td>\n",
              "    </tr>\n",
              "    <tr>\n",
              "      <td>4</td>\n",
              "      <td>ZU UNIVERSITY</td>\n",
              "      <td>105</td>\n",
              "      <td>Kartik</td>\n",
              "      <td>A</td>\n",
              "      <td>22</td>\n",
              "      <td>Hyderabad</td>\n",
              "    </tr>\n",
              "  </tbody>\n",
              "</table>\n",
              "</div>"
            ],
            "text/plain": [
              "         college  roll_no     name grade  marks       city\n",
              "0  ZU UNIVERSITY      102  Aravind     B     15   Gurugram\n",
              "1  ZU UNIVERSITY      101    Rahul     B     15      Delhi\n",
              "2  ZU UNIVERSITY      104  Prateek     A     20      Delhi\n",
              "3  ZU UNIVERSITY      103  Piyuesh     C      4   Gurugram\n",
              "4  ZU UNIVERSITY      105   Kartik     A     22  Hyderabad"
            ]
          },
          "execution_count": 45,
          "metadata": {},
          "output_type": "execute_result"
        }
      ],
      "source": [
        "student_df = pd.DataFrame({\n",
        "    'college': ['ZU UNIVERSITY', 'ZU UNIVERSITY', 'ZU UNIVERSITY', 'ZU UNIVERSITY', 'ZU UNIVERSITY'],\n",
        "    'roll_no': [ 102, 101, 104, 103, 105],\n",
        "    'name' : ['Aravind', 'Rahul', 'Prateek', 'Piyuesh', 'Kartik'],\n",
        "    'grade': ['B', 'B', 'A', 'C', 'A'],\n",
        "    'marks': [ 15, 15, 20, 4, 22],\n",
        "    'city' : ['Gurugram', 'Delhi', 'Delhi', 'Gurugram', 'Hyderabad']\n",
        "})\n",
        "student_df"
      ]
    },
    {
      "cell_type": "code",
      "execution_count": null,
      "metadata": {
        "id": "esPsngnGSf2m",
        "outputId": "5d546525-6a47-4f15-f540-ff772fa2f60c"
      },
      "outputs": [
        {
          "data": {
            "text/html": [
              "<div>\n",
              "<style scoped>\n",
              "    .dataframe tbody tr th:only-of-type {\n",
              "        vertical-align: middle;\n",
              "    }\n",
              "\n",
              "    .dataframe tbody tr th {\n",
              "        vertical-align: top;\n",
              "    }\n",
              "\n",
              "    .dataframe thead th {\n",
              "        text-align: right;\n",
              "    }\n",
              "</style>\n",
              "<table border=\"1\" class=\"dataframe\">\n",
              "  <thead>\n",
              "    <tr style=\"text-align: right;\">\n",
              "      <th></th>\n",
              "      <th>college</th>\n",
              "      <th>name</th>\n",
              "      <th>company</th>\n",
              "      <th>package (lpa)</th>\n",
              "    </tr>\n",
              "  </thead>\n",
              "  <tbody>\n",
              "    <tr>\n",
              "      <td>0</td>\n",
              "      <td>ZU UNIVERSITY</td>\n",
              "      <td>Aravind</td>\n",
              "      <td>ABC</td>\n",
              "      <td>8.0</td>\n",
              "    </tr>\n",
              "    <tr>\n",
              "      <td>1</td>\n",
              "      <td>ZU UNIVERSITY</td>\n",
              "      <td>Rahul</td>\n",
              "      <td>XYZ</td>\n",
              "      <td>14.5</td>\n",
              "    </tr>\n",
              "    <tr>\n",
              "      <td>2</td>\n",
              "      <td>AB UNIVERSITY</td>\n",
              "      <td>Rahul</td>\n",
              "      <td>ABC</td>\n",
              "      <td>11.0</td>\n",
              "    </tr>\n",
              "    <tr>\n",
              "      <td>3</td>\n",
              "      <td>ZU UNIVERSITY</td>\n",
              "      <td>Prateek</td>\n",
              "      <td>AEP</td>\n",
              "      <td>6.0</td>\n",
              "    </tr>\n",
              "    <tr>\n",
              "      <td>4</td>\n",
              "      <td>AB UNIVERSITY</td>\n",
              "      <td>Harsh</td>\n",
              "      <td>ABC</td>\n",
              "      <td>6.0</td>\n",
              "    </tr>\n",
              "  </tbody>\n",
              "</table>\n",
              "</div>"
            ],
            "text/plain": [
              "         college     name company  package (lpa)\n",
              "0  ZU UNIVERSITY  Aravind     ABC            8.0\n",
              "1  ZU UNIVERSITY    Rahul     XYZ           14.5\n",
              "2  AB UNIVERSITY    Rahul     ABC           11.0\n",
              "3  ZU UNIVERSITY  Prateek     AEP            6.0\n",
              "4  AB UNIVERSITY    Harsh     ABC            6.0"
            ]
          },
          "execution_count": 46,
          "metadata": {},
          "output_type": "execute_result"
        }
      ],
      "source": [
        "pool = pd.DataFrame({\n",
        "        'college': ['ZU UNIVERSITY', 'ZU UNIVERSITY', 'AB UNIVERSITY', 'ZU UNIVERSITY','AB UNIVERSITY'],\n",
        "        'name' : ['Aravind', 'Rahul', 'Rahul', 'Prateek', 'Harsh'],\n",
        "        'company' : ['ABC', 'XYZ', 'ABC', 'AEP', 'ABC'],\n",
        "        'package (lpa)' : [ 8, 14.5, 11, 6, 6 ]\n",
        "})\n",
        "pool"
      ]
    },
    {
      "cell_type": "markdown",
      "metadata": {
        "id": "u1nfN7LnSf2m"
      },
      "source": [
        "---\n",
        "\n",
        "***Now, we have 2 columns common `college` and `name` in both the dataframes. So, here we will use the `inner join`. You just need to set the parameters `how='inner'` and as we have 2 common columns therefore, set the parameter `on=['college','name']`.***\n",
        "\n",
        "\n",
        "![](inner.png)\n",
        "\n",
        "---"
      ]
    },
    {
      "cell_type": "code",
      "execution_count": null,
      "metadata": {
        "id": "Z8nJR6SPSf2m",
        "outputId": "552a0c78-e9cd-4a05-c5b5-517d448b457c"
      },
      "outputs": [
        {
          "data": {
            "text/html": [
              "<div>\n",
              "<style scoped>\n",
              "    .dataframe tbody tr th:only-of-type {\n",
              "        vertical-align: middle;\n",
              "    }\n",
              "\n",
              "    .dataframe tbody tr th {\n",
              "        vertical-align: top;\n",
              "    }\n",
              "\n",
              "    .dataframe thead th {\n",
              "        text-align: right;\n",
              "    }\n",
              "</style>\n",
              "<table border=\"1\" class=\"dataframe\">\n",
              "  <thead>\n",
              "    <tr style=\"text-align: right;\">\n",
              "      <th></th>\n",
              "      <th>college</th>\n",
              "      <th>roll_no</th>\n",
              "      <th>name</th>\n",
              "      <th>grade</th>\n",
              "      <th>marks</th>\n",
              "      <th>city</th>\n",
              "      <th>company</th>\n",
              "      <th>package (lpa)</th>\n",
              "    </tr>\n",
              "  </thead>\n",
              "  <tbody>\n",
              "    <tr>\n",
              "      <td>0</td>\n",
              "      <td>ZU UNIVERSITY</td>\n",
              "      <td>102</td>\n",
              "      <td>Aravind</td>\n",
              "      <td>B</td>\n",
              "      <td>15</td>\n",
              "      <td>Gurugram</td>\n",
              "      <td>ABC</td>\n",
              "      <td>8.0</td>\n",
              "    </tr>\n",
              "    <tr>\n",
              "      <td>1</td>\n",
              "      <td>ZU UNIVERSITY</td>\n",
              "      <td>101</td>\n",
              "      <td>Rahul</td>\n",
              "      <td>B</td>\n",
              "      <td>15</td>\n",
              "      <td>Delhi</td>\n",
              "      <td>XYZ</td>\n",
              "      <td>14.5</td>\n",
              "    </tr>\n",
              "    <tr>\n",
              "      <td>2</td>\n",
              "      <td>ZU UNIVERSITY</td>\n",
              "      <td>104</td>\n",
              "      <td>Prateek</td>\n",
              "      <td>A</td>\n",
              "      <td>20</td>\n",
              "      <td>Delhi</td>\n",
              "      <td>AEP</td>\n",
              "      <td>6.0</td>\n",
              "    </tr>\n",
              "  </tbody>\n",
              "</table>\n",
              "</div>"
            ],
            "text/plain": [
              "         college  roll_no     name grade  marks      city company  \\\n",
              "0  ZU UNIVERSITY      102  Aravind     B     15  Gurugram     ABC   \n",
              "1  ZU UNIVERSITY      101    Rahul     B     15     Delhi     XYZ   \n",
              "2  ZU UNIVERSITY      104  Prateek     A     20     Delhi     AEP   \n",
              "\n",
              "   package (lpa)  \n",
              "0            8.0  \n",
              "1           14.5  \n",
              "2            6.0  "
            ]
          },
          "execution_count": 47,
          "metadata": {},
          "output_type": "execute_result"
        }
      ],
      "source": [
        "student_df.merge(pool, how='inner', on=['college', 'name'])"
      ]
    },
    {
      "cell_type": "markdown",
      "metadata": {
        "id": "yKSd3O8TSf2n"
      },
      "source": [
        "---\n",
        "\n",
        "### `NOW LET'S SOLVE THE PROBLEM`\n",
        "\n",
        "---\n",
        "\n",
        "We have another dataset `outlet_data.csv` in the dataset folder. It has column `Outlet_Identifier`, `Outlet_Establishment_Year`, `Outlet_Size` and `Outlet_Location_Type`.\n",
        "\n",
        "\n",
        "Now, we have `Outlet_Identifier` in both the datasets and we need to combine them and get the rest of the variables in our dataset. So we will do a `left join` to merge the data frames. Let's see how?\n",
        "\n",
        "---\n",
        "\n",
        "\n",
        "#### `READ THE OUTLET DATA`\n",
        "\n",
        "---"
      ]
    },
    {
      "cell_type": "code",
      "execution_count": null,
      "metadata": {
        "id": "iUpjGvmSSf2n"
      },
      "outputs": [],
      "source": [
        "### all merges with sample"
      ]
    },
    {
      "cell_type": "code",
      "execution_count": null,
      "metadata": {
        "id": "o3YOYI4OSf2n"
      },
      "outputs": [],
      "source": [
        "previous_data = pd.read_csv('datasets/outlet_size_concatenated_data.csv')"
      ]
    },
    {
      "cell_type": "code",
      "execution_count": null,
      "metadata": {
        "id": "jDkyEyfWSf2n",
        "outputId": "4755957c-71c4-4440-f899-bfe4b2d5aa1f"
      },
      "outputs": [
        {
          "data": {
            "text/html": [
              "<div>\n",
              "<style scoped>\n",
              "    .dataframe tbody tr th:only-of-type {\n",
              "        vertical-align: middle;\n",
              "    }\n",
              "\n",
              "    .dataframe tbody tr th {\n",
              "        vertical-align: top;\n",
              "    }\n",
              "\n",
              "    .dataframe thead th {\n",
              "        text-align: right;\n",
              "    }\n",
              "</style>\n",
              "<table border=\"1\" class=\"dataframe\">\n",
              "  <thead>\n",
              "    <tr style=\"text-align: right;\">\n",
              "      <th></th>\n",
              "      <th>Item_Identifier</th>\n",
              "      <th>Item_Weight</th>\n",
              "      <th>Item_Fat_Content</th>\n",
              "      <th>Item_Visibility</th>\n",
              "      <th>Item_Type</th>\n",
              "      <th>Item_MRP</th>\n",
              "      <th>Outlet_Identifier</th>\n",
              "      <th>Outlet_Type</th>\n",
              "      <th>Item_Outlet_Sales</th>\n",
              "    </tr>\n",
              "  </thead>\n",
              "  <tbody>\n",
              "    <tr>\n",
              "      <td>0</td>\n",
              "      <td>FDA03</td>\n",
              "      <td>18.50</td>\n",
              "      <td>Regular</td>\n",
              "      <td>0.045464</td>\n",
              "      <td>Dairy</td>\n",
              "      <td>144.1102</td>\n",
              "      <td>OUT046</td>\n",
              "      <td>Supermarket Type1</td>\n",
              "      <td>2187.1530</td>\n",
              "    </tr>\n",
              "    <tr>\n",
              "      <td>1</td>\n",
              "      <td>FDS46</td>\n",
              "      <td>17.60</td>\n",
              "      <td>Regular</td>\n",
              "      <td>0.047257</td>\n",
              "      <td>Snack Foods</td>\n",
              "      <td>119.6782</td>\n",
              "      <td>OUT046</td>\n",
              "      <td>Supermarket Type1</td>\n",
              "      <td>2145.2076</td>\n",
              "    </tr>\n",
              "    <tr>\n",
              "      <td>2</td>\n",
              "      <td>FDP49</td>\n",
              "      <td>9.00</td>\n",
              "      <td>Regular</td>\n",
              "      <td>0.069089</td>\n",
              "      <td>Breakfast</td>\n",
              "      <td>56.3614</td>\n",
              "      <td>OUT046</td>\n",
              "      <td>Supermarket Type1</td>\n",
              "      <td>1547.3192</td>\n",
              "    </tr>\n",
              "    <tr>\n",
              "      <td>3</td>\n",
              "      <td>FDU02</td>\n",
              "      <td>13.35</td>\n",
              "      <td>Low Fat</td>\n",
              "      <td>0.102492</td>\n",
              "      <td>Dairy</td>\n",
              "      <td>230.5352</td>\n",
              "      <td>OUT035</td>\n",
              "      <td>Supermarket Type1</td>\n",
              "      <td>2748.4224</td>\n",
              "    </tr>\n",
              "    <tr>\n",
              "      <td>4</td>\n",
              "      <td>NCB30</td>\n",
              "      <td>14.60</td>\n",
              "      <td>Low Fat</td>\n",
              "      <td>0.025698</td>\n",
              "      <td>Household</td>\n",
              "      <td>196.5084</td>\n",
              "      <td>OUT035</td>\n",
              "      <td>Supermarket Type1</td>\n",
              "      <td>1587.2672</td>\n",
              "    </tr>\n",
              "  </tbody>\n",
              "</table>\n",
              "</div>"
            ],
            "text/plain": [
              "  Item_Identifier  Item_Weight Item_Fat_Content  Item_Visibility    Item_Type  \\\n",
              "0           FDA03        18.50          Regular         0.045464        Dairy   \n",
              "1           FDS46        17.60          Regular         0.047257  Snack Foods   \n",
              "2           FDP49         9.00          Regular         0.069089    Breakfast   \n",
              "3           FDU02        13.35          Low Fat         0.102492        Dairy   \n",
              "4           NCB30        14.60          Low Fat         0.025698    Household   \n",
              "\n",
              "   Item_MRP Outlet_Identifier        Outlet_Type  Item_Outlet_Sales  \n",
              "0  144.1102            OUT046  Supermarket Type1          2187.1530  \n",
              "1  119.6782            OUT046  Supermarket Type1          2145.2076  \n",
              "2   56.3614            OUT046  Supermarket Type1          1547.3192  \n",
              "3  230.5352            OUT035  Supermarket Type1          2748.4224  \n",
              "4  196.5084            OUT035  Supermarket Type1          1587.2672  "
            ]
          },
          "execution_count": 49,
          "metadata": {},
          "output_type": "execute_result"
        }
      ],
      "source": [
        "previous_data.head()"
      ]
    },
    {
      "cell_type": "code",
      "execution_count": null,
      "metadata": {
        "id": "zMvzW784Sf2n"
      },
      "outputs": [],
      "source": [
        "# read the outlet data\n",
        "outlet_data = pd.read_csv('datasets/outlet_data.csv')"
      ]
    },
    {
      "cell_type": "code",
      "execution_count": null,
      "metadata": {
        "id": "6_kdjYOdSf2n",
        "outputId": "6cdf02c7-d5d4-4a9b-99a8-1baadb643d11"
      },
      "outputs": [
        {
          "data": {
            "text/html": [
              "<div>\n",
              "<style scoped>\n",
              "    .dataframe tbody tr th:only-of-type {\n",
              "        vertical-align: middle;\n",
              "    }\n",
              "\n",
              "    .dataframe tbody tr th {\n",
              "        vertical-align: top;\n",
              "    }\n",
              "\n",
              "    .dataframe thead th {\n",
              "        text-align: right;\n",
              "    }\n",
              "</style>\n",
              "<table border=\"1\" class=\"dataframe\">\n",
              "  <thead>\n",
              "    <tr style=\"text-align: right;\">\n",
              "      <th></th>\n",
              "      <th>Outlet_Identifier</th>\n",
              "      <th>Outlet_Establishment_Year</th>\n",
              "      <th>Outlet_Size</th>\n",
              "      <th>Outlet_Location_Type</th>\n",
              "    </tr>\n",
              "  </thead>\n",
              "  <tbody>\n",
              "    <tr>\n",
              "      <td>0</td>\n",
              "      <td>OUT013</td>\n",
              "      <td>1987</td>\n",
              "      <td>High</td>\n",
              "      <td>Tier 3</td>\n",
              "    </tr>\n",
              "    <tr>\n",
              "      <td>1</td>\n",
              "      <td>OUT018</td>\n",
              "      <td>2009</td>\n",
              "      <td>Medium</td>\n",
              "      <td>Tier 3</td>\n",
              "    </tr>\n",
              "    <tr>\n",
              "      <td>2</td>\n",
              "      <td>OUT019</td>\n",
              "      <td>1985</td>\n",
              "      <td>Small</td>\n",
              "      <td>Tier 1</td>\n",
              "    </tr>\n",
              "    <tr>\n",
              "      <td>3</td>\n",
              "      <td>OUT027</td>\n",
              "      <td>1985</td>\n",
              "      <td>Medium</td>\n",
              "      <td>Tier 3</td>\n",
              "    </tr>\n",
              "    <tr>\n",
              "      <td>4</td>\n",
              "      <td>OUT035</td>\n",
              "      <td>2004</td>\n",
              "      <td>Small</td>\n",
              "      <td>Tier 2</td>\n",
              "    </tr>\n",
              "  </tbody>\n",
              "</table>\n",
              "</div>"
            ],
            "text/plain": [
              "  Outlet_Identifier  Outlet_Establishment_Year Outlet_Size  \\\n",
              "0            OUT013                       1987        High   \n",
              "1            OUT018                       2009      Medium   \n",
              "2            OUT019                       1985       Small   \n",
              "3            OUT027                       1985      Medium   \n",
              "4            OUT035                       2004       Small   \n",
              "\n",
              "  Outlet_Location_Type  \n",
              "0               Tier 3  \n",
              "1               Tier 3  \n",
              "2               Tier 1  \n",
              "3               Tier 3  \n",
              "4               Tier 2  "
            ]
          },
          "execution_count": 51,
          "metadata": {},
          "output_type": "execute_result"
        }
      ],
      "source": [
        "# view the top rows of the data\n",
        "outlet_data.head()"
      ]
    },
    {
      "cell_type": "markdown",
      "metadata": {
        "id": "8HH8uK1RSf2n"
      },
      "source": [
        "---\n",
        "\n",
        "\n",
        "***Use the merge function to set parameter `how = 'left'` for the left join and the set the on parameter as the common column name as `on='Outlet_Identifier'`.***\n",
        "\n",
        "\n",
        "---"
      ]
    },
    {
      "cell_type": "code",
      "execution_count": null,
      "metadata": {
        "id": "_WQG-ZyWSf2n"
      },
      "outputs": [],
      "source": [
        "# merge the data\n",
        "combined_data = previous_data.merge(outlet_data, how='left', on='Outlet_Identifier')"
      ]
    },
    {
      "cell_type": "code",
      "execution_count": null,
      "metadata": {
        "id": "lodiOIxaSf2n",
        "outputId": "d391e194-39c6-4d44-e008-f644b893b119"
      },
      "outputs": [
        {
          "data": {
            "text/html": [
              "<div>\n",
              "<style scoped>\n",
              "    .dataframe tbody tr th:only-of-type {\n",
              "        vertical-align: middle;\n",
              "    }\n",
              "\n",
              "    .dataframe tbody tr th {\n",
              "        vertical-align: top;\n",
              "    }\n",
              "\n",
              "    .dataframe thead th {\n",
              "        text-align: right;\n",
              "    }\n",
              "</style>\n",
              "<table border=\"1\" class=\"dataframe\">\n",
              "  <thead>\n",
              "    <tr style=\"text-align: right;\">\n",
              "      <th></th>\n",
              "      <th>Item_Identifier</th>\n",
              "      <th>Item_Weight</th>\n",
              "      <th>Item_Fat_Content</th>\n",
              "      <th>Item_Visibility</th>\n",
              "      <th>Item_Type</th>\n",
              "      <th>Item_MRP</th>\n",
              "      <th>Outlet_Identifier</th>\n",
              "      <th>Outlet_Type</th>\n",
              "      <th>Item_Outlet_Sales</th>\n",
              "      <th>Outlet_Establishment_Year</th>\n",
              "      <th>Outlet_Size</th>\n",
              "      <th>Outlet_Location_Type</th>\n",
              "    </tr>\n",
              "  </thead>\n",
              "  <tbody>\n",
              "    <tr>\n",
              "      <td>0</td>\n",
              "      <td>FDA03</td>\n",
              "      <td>18.50</td>\n",
              "      <td>Regular</td>\n",
              "      <td>0.045464</td>\n",
              "      <td>Dairy</td>\n",
              "      <td>144.1102</td>\n",
              "      <td>OUT046</td>\n",
              "      <td>Supermarket Type1</td>\n",
              "      <td>2187.1530</td>\n",
              "      <td>1997</td>\n",
              "      <td>Small</td>\n",
              "      <td>Tier 1</td>\n",
              "    </tr>\n",
              "    <tr>\n",
              "      <td>1</td>\n",
              "      <td>FDS46</td>\n",
              "      <td>17.60</td>\n",
              "      <td>Regular</td>\n",
              "      <td>0.047257</td>\n",
              "      <td>Snack Foods</td>\n",
              "      <td>119.6782</td>\n",
              "      <td>OUT046</td>\n",
              "      <td>Supermarket Type1</td>\n",
              "      <td>2145.2076</td>\n",
              "      <td>1997</td>\n",
              "      <td>Small</td>\n",
              "      <td>Tier 1</td>\n",
              "    </tr>\n",
              "    <tr>\n",
              "      <td>2</td>\n",
              "      <td>FDP49</td>\n",
              "      <td>9.00</td>\n",
              "      <td>Regular</td>\n",
              "      <td>0.069089</td>\n",
              "      <td>Breakfast</td>\n",
              "      <td>56.3614</td>\n",
              "      <td>OUT046</td>\n",
              "      <td>Supermarket Type1</td>\n",
              "      <td>1547.3192</td>\n",
              "      <td>1997</td>\n",
              "      <td>Small</td>\n",
              "      <td>Tier 1</td>\n",
              "    </tr>\n",
              "    <tr>\n",
              "      <td>3</td>\n",
              "      <td>FDU02</td>\n",
              "      <td>13.35</td>\n",
              "      <td>Low Fat</td>\n",
              "      <td>0.102492</td>\n",
              "      <td>Dairy</td>\n",
              "      <td>230.5352</td>\n",
              "      <td>OUT035</td>\n",
              "      <td>Supermarket Type1</td>\n",
              "      <td>2748.4224</td>\n",
              "      <td>2004</td>\n",
              "      <td>Small</td>\n",
              "      <td>Tier 2</td>\n",
              "    </tr>\n",
              "    <tr>\n",
              "      <td>4</td>\n",
              "      <td>NCB30</td>\n",
              "      <td>14.60</td>\n",
              "      <td>Low Fat</td>\n",
              "      <td>0.025698</td>\n",
              "      <td>Household</td>\n",
              "      <td>196.5084</td>\n",
              "      <td>OUT035</td>\n",
              "      <td>Supermarket Type1</td>\n",
              "      <td>1587.2672</td>\n",
              "      <td>2004</td>\n",
              "      <td>Small</td>\n",
              "      <td>Tier 2</td>\n",
              "    </tr>\n",
              "  </tbody>\n",
              "</table>\n",
              "</div>"
            ],
            "text/plain": [
              "  Item_Identifier  Item_Weight Item_Fat_Content  Item_Visibility    Item_Type  \\\n",
              "0           FDA03        18.50          Regular         0.045464        Dairy   \n",
              "1           FDS46        17.60          Regular         0.047257  Snack Foods   \n",
              "2           FDP49         9.00          Regular         0.069089    Breakfast   \n",
              "3           FDU02        13.35          Low Fat         0.102492        Dairy   \n",
              "4           NCB30        14.60          Low Fat         0.025698    Household   \n",
              "\n",
              "   Item_MRP Outlet_Identifier        Outlet_Type  Item_Outlet_Sales  \\\n",
              "0  144.1102            OUT046  Supermarket Type1          2187.1530   \n",
              "1  119.6782            OUT046  Supermarket Type1          2145.2076   \n",
              "2   56.3614            OUT046  Supermarket Type1          1547.3192   \n",
              "3  230.5352            OUT035  Supermarket Type1          2748.4224   \n",
              "4  196.5084            OUT035  Supermarket Type1          1587.2672   \n",
              "\n",
              "   Outlet_Establishment_Year Outlet_Size Outlet_Location_Type  \n",
              "0                       1997       Small               Tier 1  \n",
              "1                       1997       Small               Tier 1  \n",
              "2                       1997       Small               Tier 1  \n",
              "3                       2004       Small               Tier 2  \n",
              "4                       2004       Small               Tier 2  "
            ]
          },
          "execution_count": 53,
          "metadata": {},
          "output_type": "execute_result"
        }
      ],
      "source": [
        "# view the data\n",
        "combined_data.head()"
      ]
    },
    {
      "cell_type": "code",
      "execution_count": null,
      "metadata": {
        "id": "kGYD8K_5Sf2o",
        "outputId": "c63c6065-f6e8-452d-ef54-33dbcd0eef54"
      },
      "outputs": [
        {
          "data": {
            "text/plain": [
              "(6113, 12)"
            ]
          },
          "execution_count": 54,
          "metadata": {},
          "output_type": "execute_result"
        }
      ],
      "source": [
        "combined_data.shape"
      ]
    },
    {
      "cell_type": "markdown",
      "metadata": {
        "id": "aPnXRNCTSf2o"
      },
      "source": [
        "----\n",
        "\n",
        "So, you can see that we got some extra variables in the dataset.\n",
        "\n",
        "----\n",
        "\n",
        "\n",
        "***Now, we have a sample list of Item_Identifiers in a separate file `item_identifier.csv`. We are required to provide all the details that we have related to that particular Item_Identifier. Let's see how can we do that with the help of a `RIGHT JOIN`***\n",
        "\n",
        "---\n",
        "\n",
        "\n",
        "#### `READ THE DATA`\n",
        "\n",
        "---"
      ]
    },
    {
      "cell_type": "code",
      "execution_count": null,
      "metadata": {
        "id": "ftU6F49qSf2o"
      },
      "outputs": [],
      "source": [
        "# read the data\n",
        "item_data = pd.read_csv('datasets/item_idenifier.csv')"
      ]
    },
    {
      "cell_type": "code",
      "execution_count": null,
      "metadata": {
        "id": "fObnUTylSf2o",
        "outputId": "464b7856-4bf1-4ce1-9482-4bd057f8331f"
      },
      "outputs": [
        {
          "data": {
            "text/html": [
              "<div>\n",
              "<style scoped>\n",
              "    .dataframe tbody tr th:only-of-type {\n",
              "        vertical-align: middle;\n",
              "    }\n",
              "\n",
              "    .dataframe tbody tr th {\n",
              "        vertical-align: top;\n",
              "    }\n",
              "\n",
              "    .dataframe thead th {\n",
              "        text-align: right;\n",
              "    }\n",
              "</style>\n",
              "<table border=\"1\" class=\"dataframe\">\n",
              "  <thead>\n",
              "    <tr style=\"text-align: right;\">\n",
              "      <th></th>\n",
              "      <th>Item_Identifier</th>\n",
              "    </tr>\n",
              "  </thead>\n",
              "  <tbody>\n",
              "    <tr>\n",
              "      <td>0</td>\n",
              "      <td>DRI51</td>\n",
              "    </tr>\n",
              "    <tr>\n",
              "      <td>1</td>\n",
              "      <td>FDL48</td>\n",
              "    </tr>\n",
              "    <tr>\n",
              "      <td>2</td>\n",
              "      <td>FDL38</td>\n",
              "    </tr>\n",
              "    <tr>\n",
              "      <td>3</td>\n",
              "      <td>FDF17</td>\n",
              "    </tr>\n",
              "    <tr>\n",
              "      <td>4</td>\n",
              "      <td>FDN56</td>\n",
              "    </tr>\n",
              "  </tbody>\n",
              "</table>\n",
              "</div>"
            ],
            "text/plain": [
              "  Item_Identifier\n",
              "0           DRI51\n",
              "1           FDL48\n",
              "2           FDL38\n",
              "3           FDF17\n",
              "4           FDN56"
            ]
          },
          "execution_count": 56,
          "metadata": {},
          "output_type": "execute_result"
        }
      ],
      "source": [
        "# view the top rows\n",
        "item_data.head()"
      ]
    },
    {
      "cell_type": "code",
      "execution_count": null,
      "metadata": {
        "id": "6sL04ptbSf2o",
        "outputId": "c9c98920-feb7-42cc-eae7-e8b8695a7b98"
      },
      "outputs": [
        {
          "data": {
            "text/plain": [
              "(100, 1)"
            ]
          },
          "execution_count": 57,
          "metadata": {},
          "output_type": "execute_result"
        }
      ],
      "source": [
        "item_data.shape"
      ]
    },
    {
      "cell_type": "markdown",
      "metadata": {
        "id": "dtMDGX_7Sf2o"
      },
      "source": [
        "***So, we have 100 Item_Identifiers and we need to provide the other details. We just need to use the merge function and set parameter `how='right'` and the common variable name is `Item_Identifier`.***\n",
        "\n",
        "---"
      ]
    },
    {
      "cell_type": "code",
      "execution_count": null,
      "metadata": {
        "id": "UMecHsuFSf2p"
      },
      "outputs": [],
      "source": [
        "item_details = combined_data.merge(item_data, how='right',on='Item_Identifier')"
      ]
    },
    {
      "cell_type": "code",
      "execution_count": null,
      "metadata": {
        "id": "5WfDCsOYSf2p",
        "outputId": "6e99f697-f9c2-43e5-896d-65de90cbd4dd"
      },
      "outputs": [
        {
          "data": {
            "text/html": [
              "<div>\n",
              "<style scoped>\n",
              "    .dataframe tbody tr th:only-of-type {\n",
              "        vertical-align: middle;\n",
              "    }\n",
              "\n",
              "    .dataframe tbody tr th {\n",
              "        vertical-align: top;\n",
              "    }\n",
              "\n",
              "    .dataframe thead th {\n",
              "        text-align: right;\n",
              "    }\n",
              "</style>\n",
              "<table border=\"1\" class=\"dataframe\">\n",
              "  <thead>\n",
              "    <tr style=\"text-align: right;\">\n",
              "      <th></th>\n",
              "      <th>Item_Identifier</th>\n",
              "      <th>Item_Weight</th>\n",
              "      <th>Item_Fat_Content</th>\n",
              "      <th>Item_Visibility</th>\n",
              "      <th>Item_Type</th>\n",
              "      <th>Item_MRP</th>\n",
              "      <th>Outlet_Identifier</th>\n",
              "      <th>Outlet_Type</th>\n",
              "      <th>Item_Outlet_Sales</th>\n",
              "      <th>Outlet_Establishment_Year</th>\n",
              "      <th>Outlet_Size</th>\n",
              "      <th>Outlet_Location_Type</th>\n",
              "    </tr>\n",
              "  </thead>\n",
              "  <tbody>\n",
              "    <tr>\n",
              "      <td>0</td>\n",
              "      <td>FDB11</td>\n",
              "      <td>16.000</td>\n",
              "      <td>Low Fat</td>\n",
              "      <td>0.060837</td>\n",
              "      <td>Starchy Foods</td>\n",
              "      <td>226.8404</td>\n",
              "      <td>OUT035</td>\n",
              "      <td>Supermarket Type1</td>\n",
              "      <td>6301.1312</td>\n",
              "      <td>2004</td>\n",
              "      <td>Small</td>\n",
              "      <td>Tier 2</td>\n",
              "    </tr>\n",
              "    <tr>\n",
              "      <td>1</td>\n",
              "      <td>FDB11</td>\n",
              "      <td>16.000</td>\n",
              "      <td>Low Fat</td>\n",
              "      <td>0.060943</td>\n",
              "      <td>Starchy Foods</td>\n",
              "      <td>225.6404</td>\n",
              "      <td>OUT049</td>\n",
              "      <td>Supermarket Type1</td>\n",
              "      <td>2925.5252</td>\n",
              "      <td>1999</td>\n",
              "      <td>Medium</td>\n",
              "      <td>Tier 1</td>\n",
              "    </tr>\n",
              "    <tr>\n",
              "      <td>2</td>\n",
              "      <td>FDB11</td>\n",
              "      <td>16.000</td>\n",
              "      <td>LF</td>\n",
              "      <td>0.060797</td>\n",
              "      <td>Starchy Foods</td>\n",
              "      <td>223.8404</td>\n",
              "      <td>OUT013</td>\n",
              "      <td>Supermarket Type1</td>\n",
              "      <td>3600.6464</td>\n",
              "      <td>1987</td>\n",
              "      <td>High</td>\n",
              "      <td>Tier 3</td>\n",
              "    </tr>\n",
              "    <tr>\n",
              "      <td>3</td>\n",
              "      <td>FDX20</td>\n",
              "      <td>7.365</td>\n",
              "      <td>Low Fat</td>\n",
              "      <td>0.042560</td>\n",
              "      <td>Fruits and Vegetables</td>\n",
              "      <td>226.1720</td>\n",
              "      <td>OUT046</td>\n",
              "      <td>Supermarket Type1</td>\n",
              "      <td>3169.2080</td>\n",
              "      <td>1997</td>\n",
              "      <td>Small</td>\n",
              "      <td>Tier 1</td>\n",
              "    </tr>\n",
              "    <tr>\n",
              "      <td>4</td>\n",
              "      <td>FDX20</td>\n",
              "      <td>7.365</td>\n",
              "      <td>Low Fat</td>\n",
              "      <td>0.042552</td>\n",
              "      <td>Fruits and Vegetables</td>\n",
              "      <td>225.1720</td>\n",
              "      <td>OUT035</td>\n",
              "      <td>Supermarket Type1</td>\n",
              "      <td>3395.5800</td>\n",
              "      <td>2004</td>\n",
              "      <td>Small</td>\n",
              "      <td>Tier 2</td>\n",
              "    </tr>\n",
              "    <tr>\n",
              "      <td>...</td>\n",
              "      <td>...</td>\n",
              "      <td>...</td>\n",
              "      <td>...</td>\n",
              "      <td>...</td>\n",
              "      <td>...</td>\n",
              "      <td>...</td>\n",
              "      <td>...</td>\n",
              "      <td>...</td>\n",
              "      <td>...</td>\n",
              "      <td>...</td>\n",
              "      <td>...</td>\n",
              "      <td>...</td>\n",
              "    </tr>\n",
              "    <tr>\n",
              "      <td>417</td>\n",
              "      <td>FDJ07</td>\n",
              "      <td>NaN</td>\n",
              "      <td>Low Fat</td>\n",
              "      <td>0.014354</td>\n",
              "      <td>Meat</td>\n",
              "      <td>115.5150</td>\n",
              "      <td>OUT027</td>\n",
              "      <td>Supermarket Type3</td>\n",
              "      <td>1631.2100</td>\n",
              "      <td>1985</td>\n",
              "      <td>Medium</td>\n",
              "      <td>Tier 3</td>\n",
              "    </tr>\n",
              "    <tr>\n",
              "      <td>418</td>\n",
              "      <td>FDF17</td>\n",
              "      <td>5.190</td>\n",
              "      <td>Low Fat</td>\n",
              "      <td>0.042687</td>\n",
              "      <td>Frozen Foods</td>\n",
              "      <td>195.9110</td>\n",
              "      <td>OUT049</td>\n",
              "      <td>Supermarket Type1</td>\n",
              "      <td>2946.1650</td>\n",
              "      <td>1999</td>\n",
              "      <td>Medium</td>\n",
              "      <td>Tier 1</td>\n",
              "    </tr>\n",
              "    <tr>\n",
              "      <td>419</td>\n",
              "      <td>FDV08</td>\n",
              "      <td>NaN</td>\n",
              "      <td>Low Fat</td>\n",
              "      <td>0.028456</td>\n",
              "      <td>Fruits and Vegetables</td>\n",
              "      <td>43.5454</td>\n",
              "      <td>OUT027</td>\n",
              "      <td>Supermarket Type3</td>\n",
              "      <td>755.0172</td>\n",
              "      <td>1985</td>\n",
              "      <td>Medium</td>\n",
              "      <td>Tier 3</td>\n",
              "    </tr>\n",
              "    <tr>\n",
              "      <td>420</td>\n",
              "      <td>FDV08</td>\n",
              "      <td>7.350</td>\n",
              "      <td>Low Fat</td>\n",
              "      <td>0.028711</td>\n",
              "      <td>Fruits and Vegetables</td>\n",
              "      <td>39.9454</td>\n",
              "      <td>OUT018</td>\n",
              "      <td>Supermarket Type2</td>\n",
              "      <td>377.5086</td>\n",
              "      <td>2009</td>\n",
              "      <td>Medium</td>\n",
              "      <td>Tier 3</td>\n",
              "    </tr>\n",
              "    <tr>\n",
              "      <td>421</td>\n",
              "      <td>FDV08</td>\n",
              "      <td>7.350</td>\n",
              "      <td>Low Fat</td>\n",
              "      <td>0.028571</td>\n",
              "      <td>Fruits and Vegetables</td>\n",
              "      <td>40.8454</td>\n",
              "      <td>OUT013</td>\n",
              "      <td>Supermarket Type1</td>\n",
              "      <td>587.2356</td>\n",
              "      <td>1987</td>\n",
              "      <td>High</td>\n",
              "      <td>Tier 3</td>\n",
              "    </tr>\n",
              "  </tbody>\n",
              "</table>\n",
              "<p>422 rows × 12 columns</p>\n",
              "</div>"
            ],
            "text/plain": [
              "    Item_Identifier  Item_Weight Item_Fat_Content  Item_Visibility  \\\n",
              "0             FDB11       16.000          Low Fat         0.060837   \n",
              "1             FDB11       16.000          Low Fat         0.060943   \n",
              "2             FDB11       16.000               LF         0.060797   \n",
              "3             FDX20        7.365          Low Fat         0.042560   \n",
              "4             FDX20        7.365          Low Fat         0.042552   \n",
              "..              ...          ...              ...              ...   \n",
              "417           FDJ07          NaN          Low Fat         0.014354   \n",
              "418           FDF17        5.190          Low Fat         0.042687   \n",
              "419           FDV08          NaN          Low Fat         0.028456   \n",
              "420           FDV08        7.350          Low Fat         0.028711   \n",
              "421           FDV08        7.350          Low Fat         0.028571   \n",
              "\n",
              "                 Item_Type  Item_MRP Outlet_Identifier        Outlet_Type  \\\n",
              "0            Starchy Foods  226.8404            OUT035  Supermarket Type1   \n",
              "1            Starchy Foods  225.6404            OUT049  Supermarket Type1   \n",
              "2            Starchy Foods  223.8404            OUT013  Supermarket Type1   \n",
              "3    Fruits and Vegetables  226.1720            OUT046  Supermarket Type1   \n",
              "4    Fruits and Vegetables  225.1720            OUT035  Supermarket Type1   \n",
              "..                     ...       ...               ...                ...   \n",
              "417                   Meat  115.5150            OUT027  Supermarket Type3   \n",
              "418           Frozen Foods  195.9110            OUT049  Supermarket Type1   \n",
              "419  Fruits and Vegetables   43.5454            OUT027  Supermarket Type3   \n",
              "420  Fruits and Vegetables   39.9454            OUT018  Supermarket Type2   \n",
              "421  Fruits and Vegetables   40.8454            OUT013  Supermarket Type1   \n",
              "\n",
              "     Item_Outlet_Sales  Outlet_Establishment_Year Outlet_Size  \\\n",
              "0            6301.1312                       2004       Small   \n",
              "1            2925.5252                       1999      Medium   \n",
              "2            3600.6464                       1987        High   \n",
              "3            3169.2080                       1997       Small   \n",
              "4            3395.5800                       2004       Small   \n",
              "..                 ...                        ...         ...   \n",
              "417          1631.2100                       1985      Medium   \n",
              "418          2946.1650                       1999      Medium   \n",
              "419           755.0172                       1985      Medium   \n",
              "420           377.5086                       2009      Medium   \n",
              "421           587.2356                       1987        High   \n",
              "\n",
              "    Outlet_Location_Type  \n",
              "0                 Tier 2  \n",
              "1                 Tier 1  \n",
              "2                 Tier 3  \n",
              "3                 Tier 1  \n",
              "4                 Tier 2  \n",
              "..                   ...  \n",
              "417               Tier 3  \n",
              "418               Tier 1  \n",
              "419               Tier 3  \n",
              "420               Tier 3  \n",
              "421               Tier 3  \n",
              "\n",
              "[422 rows x 12 columns]"
            ]
          },
          "execution_count": 59,
          "metadata": {},
          "output_type": "execute_result"
        }
      ],
      "source": [
        "item_details"
      ]
    },
    {
      "cell_type": "code",
      "execution_count": null,
      "metadata": {
        "id": "VqdZycjsSf2p"
      },
      "outputs": [],
      "source": []
    }
  ],
  "metadata": {
    "kernelspec": {
      "display_name": "Python 3",
      "language": "python",
      "name": "python3"
    },
    "language_info": {
      "codemirror_mode": {
        "name": "ipython",
        "version": 3
      },
      "file_extension": ".py",
      "mimetype": "text/x-python",
      "name": "python",
      "nbconvert_exporter": "python",
      "pygments_lexer": "ipython3",
      "version": "3.7.4"
    },
    "colab": {
      "provenance": [],
      "include_colab_link": true
    }
  },
  "nbformat": 4,
  "nbformat_minor": 0
}