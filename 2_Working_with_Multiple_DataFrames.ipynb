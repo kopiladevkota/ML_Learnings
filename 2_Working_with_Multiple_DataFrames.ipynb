{
  "cells": [
    {
      "cell_type": "markdown",
      "metadata": {
        "id": "view-in-github",
        "colab_type": "text"
      },
      "source": [
        "<a href=\"https://colab.research.google.com/github/kopiladevkota/Python/blob/main/2_Working_with_Multiple_DataFrames.ipynb\" target=\"_parent\"><img src=\"https://colab.research.google.com/assets/colab-badge.svg\" alt=\"Open In Colab\"/></a>"
      ]
    },
    {
      "cell_type": "markdown",
      "metadata": {
        "id": "34UXStUmw7Lr"
      },
      "source": [
        "---\n",
        "---\n",
        "\n",
        "<center><h1> 📍 📍 Working with Multiple DataFrames 📍 📍 </h1></center>\n",
        "\n",
        "\n",
        "---\n",
        "\n",
        "- In most of the real life projects you will not get data from a single resource. You might need to combine data that you gather from multiple sources. In this notebook, we will see how to work with multiple data files?\n",
        "\n",
        "\n",
        "***We have already worked with big mart sales data. Here, we have divided the data based on different outlet size. Let's see how to work with the multiple files***\n",
        "\n",
        "\n",
        "---\n",
        "\n",
        "#### `READ THE DATA`\n",
        "\n",
        "---"
      ]
    },
    {
      "cell_type": "code",
      "execution_count": null,
      "metadata": {
        "id": "rSs0lvJCw7Lt"
      },
      "outputs": [],
      "source": [
        "# importing the pandas library\n",
        "import pandas as pd"
      ]
    },
    {
      "cell_type": "markdown",
      "metadata": {
        "id": "WcNBOJmcw7Lu"
      },
      "source": [
        "---\n",
        "\n",
        "***Read 3 different files `outlet_size_small.csv`, `outlet_size_medium.csv` and `outlet_size_high.csv` stored in the folder datasets.***\n",
        "\n",
        "---"
      ]
    },
    {
      "cell_type": "code",
      "execution_count": null,
      "metadata": {
        "id": "x_UQgAJAw7Lu"
      },
      "outputs": [],
      "source": [
        "# read the datasets\n",
        "outlet_size_small = pd.read_csv('datasets/outlet_size_small.csv')\n",
        "outlet_size_medium = pd.read_csv('datasets/outlet_size_medium.csv')\n",
        "outlet_size_large = pd.read_csv('datasets/outlet_size_high.csv')"
      ]
    },
    {
      "cell_type": "markdown",
      "metadata": {
        "id": "yMNA036lw7Lv"
      },
      "source": [
        "***Let's check the shape of the data.***\n",
        "\n",
        "---"
      ]
    },
    {
      "cell_type": "code",
      "execution_count": null,
      "metadata": {
        "id": "x-jss0XWw7Lv"
      },
      "outputs": [],
      "source": [
        "outlet_size_small.shape, outlet_size_medium.shape, outlet_size_large.shape"
      ]
    },
    {
      "cell_type": "markdown",
      "metadata": {
        "id": "-lwtIoIJw7Lv"
      },
      "source": [
        "***So, there are 2388 small, 2793 medium and 932 large size outlets are there.***\n",
        "\n",
        "\n",
        "---\n",
        "\n",
        "***Let's have a look at the data***\n",
        "\n",
        "#### `OUTLET SIZE SMALL`\n",
        "---"
      ]
    },
    {
      "cell_type": "code",
      "execution_count": null,
      "metadata": {
        "id": "piS1-rJ2w7Lv"
      },
      "outputs": [],
      "source": [
        "outlet_size_small.head()"
      ]
    },
    {
      "cell_type": "markdown",
      "metadata": {
        "id": "HCCG4P4Lw7Lw"
      },
      "source": [
        "#### `OUTLET SIZE MEDIUM`\n",
        "\n",
        "---"
      ]
    },
    {
      "cell_type": "code",
      "execution_count": null,
      "metadata": {
        "id": "Lr3Twy92w7Lw"
      },
      "outputs": [],
      "source": [
        "outlet_size_medium.head()"
      ]
    },
    {
      "cell_type": "markdown",
      "metadata": {
        "id": "s3FN8FDtw7Lw"
      },
      "source": [
        "#### `OUTLET SIZE LARGE`\n",
        "\n",
        "---"
      ]
    },
    {
      "cell_type": "code",
      "execution_count": null,
      "metadata": {
        "id": "CWPvBHWAw7Lw"
      },
      "outputs": [],
      "source": [
        "outlet_size_large.head()"
      ]
    },
    {
      "cell_type": "markdown",
      "metadata": {
        "id": "vwMEX8uvw7Lw"
      },
      "source": [
        "---\n",
        "\n",
        "#### `CONCATENATE ALL THE DATAFRAMES`\n",
        "\n",
        "\n",
        "We will use the concat function to concatenate all the dataframes. You just need to pass the list of dataframes to concatenate.\n",
        "\n",
        "---\n",
        "\n",
        "#### `FOR ROW-WISE CONCATENATION USE AXIS=0`\n",
        "\n",
        "\n",
        "---"
      ]
    },
    {
      "cell_type": "code",
      "execution_count": null,
      "metadata": {
        "id": "CAoBI-dRw7Lx"
      },
      "outputs": [],
      "source": [
        "# dataframes list\n",
        "all_dataframes = [outlet_size_small, outlet_size_medium, outlet_size_large]"
      ]
    },
    {
      "cell_type": "code",
      "execution_count": null,
      "metadata": {
        "id": "QyhZcCDIw7Lx"
      },
      "outputs": [],
      "source": [
        "# concatenate all the dataframes\n",
        "data = pd.concat(all_dataframes, axis=0)"
      ]
    },
    {
      "cell_type": "code",
      "execution_count": null,
      "metadata": {
        "id": "kDPrfN6ow7Lx"
      },
      "outputs": [],
      "source": [
        "# shape of the data\n",
        "data.shape"
      ]
    },
    {
      "cell_type": "markdown",
      "metadata": {
        "id": "UsGIjjJIw7Lx"
      },
      "source": [
        "#### `FOR COLUMN-WISE CONCATENATION USE AXIS=1`\n",
        "\n",
        "\n",
        "It is not advised to concatenate dataframes column wise. If you want to then you need to take care of some checks like the number of rows must be same in both the dataframes. Indexes are sorted of both the dataframes. If you are done with all the checks then you can simply use `axis=1` to do the job.\n",
        "\n",
        "\n",
        "\n",
        "Let's see with the help of an example.\n",
        "\n",
        "\n",
        "---"
      ]
    },
    {
      "cell_type": "code",
      "execution_count": null,
      "metadata": {
        "id": "Dh00Bqg1w7Lx"
      },
      "outputs": [],
      "source": [
        "sample_dataframe = pd.DataFrame({\n",
        "    'roll_no': [ 102, 101, 104, 103, 105],\n",
        "    'name' : ['Aravind', 'Rahul', 'Prateek', 'Piyuesh', 'Kartik'],\n",
        "    'grade': ['B', 'B', 'A', 'C', 'A'],\n",
        "    'marks': [ 15, 15, 20, 4, 22],\n",
        "    'city' : ['Gurugram', 'Delhi', 'Delhi', 'Gurugram', 'Hyderabad']\n",
        "})\n",
        "sample_dataframe"
      ]
    },
    {
      "cell_type": "markdown",
      "metadata": {
        "id": "ewobKI99w7Lx"
      },
      "source": [
        "***Let's create a dataframe which contains column name `phone_no`. Here, we are assuming that order of phone numbers are correct as the order of names in the sample_dataframe.***\n",
        "\n",
        "---"
      ]
    },
    {
      "cell_type": "code",
      "execution_count": null,
      "metadata": {
        "id": "3bQA6CTkw7Lx"
      },
      "outputs": [],
      "source": [
        "# another sample dataframe\n",
        "phone_no = pd.DataFrame({ 'phone_no' : [212202, 202021, 212334, 213431, 211721]})\n",
        "phone_no"
      ]
    },
    {
      "cell_type": "code",
      "execution_count": null,
      "metadata": {
        "id": "9JW-mdXow7Ly"
      },
      "outputs": [],
      "source": [
        "combined = pd.concat([sample_dataframe,phone_no], axis=1)\n",
        "combined"
      ]
    },
    {
      "cell_type": "markdown",
      "metadata": {
        "id": "CzD2z6Lgw7Ly"
      },
      "source": [
        "---\n",
        "\n",
        "#### `Performing SQL-Like Joins in Pandas`\n",
        "\n",
        "\n",
        "#### `LET'S LEARN ABOUT THE JOINS IN PANDAS WITH SOME EXAMPLES`\n",
        "\n",
        "- We will create a sample dataframe of students data that will contain `roll_no`, `name`, `grade`, `marks` and `city`.\n",
        "\n",
        "\n",
        "---"
      ]
    },
    {
      "cell_type": "code",
      "execution_count": null,
      "metadata": {
        "id": "M4b-IUwqw7Ly",
        "outputId": "637f7965-7de2-40c4-e17f-b15fd7467c6d"
      },
      "outputs": [
        {
          "data": {
            "text/html": [
              "<div>\n",
              "<style scoped>\n",
              "    .dataframe tbody tr th:only-of-type {\n",
              "        vertical-align: middle;\n",
              "    }\n",
              "\n",
              "    .dataframe tbody tr th {\n",
              "        vertical-align: top;\n",
              "    }\n",
              "\n",
              "    .dataframe thead th {\n",
              "        text-align: right;\n",
              "    }\n",
              "</style>\n",
              "<table border=\"1\" class=\"dataframe\">\n",
              "  <thead>\n",
              "    <tr style=\"text-align: right;\">\n",
              "      <th></th>\n",
              "      <th>roll_no</th>\n",
              "      <th>name</th>\n",
              "      <th>grade</th>\n",
              "      <th>marks</th>\n",
              "      <th>city</th>\n",
              "    </tr>\n",
              "  </thead>\n",
              "  <tbody>\n",
              "    <tr>\n",
              "      <td>0</td>\n",
              "      <td>102</td>\n",
              "      <td>Aravind</td>\n",
              "      <td>B</td>\n",
              "      <td>15</td>\n",
              "      <td>Gurugram</td>\n",
              "    </tr>\n",
              "    <tr>\n",
              "      <td>1</td>\n",
              "      <td>101</td>\n",
              "      <td>Rahul</td>\n",
              "      <td>B</td>\n",
              "      <td>15</td>\n",
              "      <td>Delhi</td>\n",
              "    </tr>\n",
              "    <tr>\n",
              "      <td>2</td>\n",
              "      <td>104</td>\n",
              "      <td>Prateek</td>\n",
              "      <td>A</td>\n",
              "      <td>20</td>\n",
              "      <td>Delhi</td>\n",
              "    </tr>\n",
              "    <tr>\n",
              "      <td>3</td>\n",
              "      <td>103</td>\n",
              "      <td>Piyuesh</td>\n",
              "      <td>C</td>\n",
              "      <td>4</td>\n",
              "      <td>Gurugram</td>\n",
              "    </tr>\n",
              "    <tr>\n",
              "      <td>4</td>\n",
              "      <td>105</td>\n",
              "      <td>Kartik</td>\n",
              "      <td>A</td>\n",
              "      <td>22</td>\n",
              "      <td>Hyderabad</td>\n",
              "    </tr>\n",
              "  </tbody>\n",
              "</table>\n",
              "</div>"
            ],
            "text/plain": [
              "   roll_no     name grade  marks       city\n",
              "0      102  Aravind     B     15   Gurugram\n",
              "1      101    Rahul     B     15      Delhi\n",
              "2      104  Prateek     A     20      Delhi\n",
              "3      103  Piyuesh     C      4   Gurugram\n",
              "4      105   Kartik     A     22  Hyderabad"
            ]
          },
          "execution_count": 35,
          "metadata": {},
          "output_type": "execute_result"
        }
      ],
      "source": [
        "student_df = pd.DataFrame({\n",
        "    'roll_no': [ 102, 101, 104, 103, 105],\n",
        "    'name' : ['Aravind', 'Rahul', 'Prateek', 'Piyuesh', 'Kartik'],\n",
        "    'grade': ['B', 'B', 'A', 'C', 'A'],\n",
        "    'marks': [ 15, 15, 20, 4, 22],\n",
        "    'city' : ['Gurugram', 'Delhi', 'Delhi', 'Gurugram', 'Hyderabad']\n",
        "})\n",
        "student_df"
      ]
    },
    {
      "cell_type": "markdown",
      "metadata": {
        "id": "_bVqAY4Jw7Lz"
      },
      "source": [
        "---\n",
        "\n",
        "***Now, we have a mapping of city and state. We want to add another feature to our dataframe state using this mapping.***\n",
        "\n",
        "\n",
        "Let's create the city_state_mapping\n",
        "\n",
        "---"
      ]
    },
    {
      "cell_type": "code",
      "execution_count": null,
      "metadata": {
        "id": "sm-RKUABw7Lz",
        "outputId": "d59cf025-58e8-4494-9742-a5f742a5c1db"
      },
      "outputs": [
        {
          "data": {
            "text/html": [
              "<div>\n",
              "<style scoped>\n",
              "    .dataframe tbody tr th:only-of-type {\n",
              "        vertical-align: middle;\n",
              "    }\n",
              "\n",
              "    .dataframe tbody tr th {\n",
              "        vertical-align: top;\n",
              "    }\n",
              "\n",
              "    .dataframe thead th {\n",
              "        text-align: right;\n",
              "    }\n",
              "</style>\n",
              "<table border=\"1\" class=\"dataframe\">\n",
              "  <thead>\n",
              "    <tr style=\"text-align: right;\">\n",
              "      <th></th>\n",
              "      <th>city</th>\n",
              "      <th>state</th>\n",
              "    </tr>\n",
              "  </thead>\n",
              "  <tbody>\n",
              "    <tr>\n",
              "      <td>0</td>\n",
              "      <td>Gurugram</td>\n",
              "      <td>Haryana</td>\n",
              "    </tr>\n",
              "    <tr>\n",
              "      <td>1</td>\n",
              "      <td>Delhi</td>\n",
              "      <td>Delhi</td>\n",
              "    </tr>\n",
              "    <tr>\n",
              "      <td>2</td>\n",
              "      <td>Hyderabad</td>\n",
              "      <td>Telangana</td>\n",
              "    </tr>\n",
              "    <tr>\n",
              "      <td>3</td>\n",
              "      <td>Faridabad</td>\n",
              "      <td>Haryana</td>\n",
              "    </tr>\n",
              "  </tbody>\n",
              "</table>\n",
              "</div>"
            ],
            "text/plain": [
              "        city      state\n",
              "0   Gurugram    Haryana\n",
              "1      Delhi      Delhi\n",
              "2  Hyderabad  Telangana\n",
              "3  Faridabad    Haryana"
            ]
          },
          "execution_count": 36,
          "metadata": {},
          "output_type": "execute_result"
        }
      ],
      "source": [
        "city_state_mapping = pd.DataFrame({\n",
        "    'city' :  ['Gurugram', 'Delhi', 'Hyderabad', 'Faridabad'],\n",
        "    'state' : ['Haryana',  'Delhi', 'Telangana', 'Haryana']\n",
        "})\n",
        "city_state_mapping"
      ]
    },
    {
      "cell_type": "markdown",
      "metadata": {
        "id": "z0yW2wryw7Lz"
      },
      "source": [
        "***Now, we want to add another column state to the `student_df` using the `city_state_mapping`. We can do this by doing a left join. We need to use the merge function and set the parameters `how='left'` and `on='city`.***\n",
        "\n",
        "![](left.png)\n",
        "---"
      ]
    },
    {
      "cell_type": "code",
      "execution_count": null,
      "metadata": {
        "id": "DsPKvXKFw7Lz",
        "outputId": "5a0e25c2-5b11-4df6-aae5-9ad04a4e1468"
      },
      "outputs": [
        {
          "data": {
            "text/html": [
              "<div>\n",
              "<style scoped>\n",
              "    .dataframe tbody tr th:only-of-type {\n",
              "        vertical-align: middle;\n",
              "    }\n",
              "\n",
              "    .dataframe tbody tr th {\n",
              "        vertical-align: top;\n",
              "    }\n",
              "\n",
              "    .dataframe thead th {\n",
              "        text-align: right;\n",
              "    }\n",
              "</style>\n",
              "<table border=\"1\" class=\"dataframe\">\n",
              "  <thead>\n",
              "    <tr style=\"text-align: right;\">\n",
              "      <th></th>\n",
              "      <th>city</th>\n",
              "      <th>state</th>\n",
              "    </tr>\n",
              "  </thead>\n",
              "  <tbody>\n",
              "    <tr>\n",
              "      <td>0</td>\n",
              "      <td>Gurugram</td>\n",
              "      <td>Haryana</td>\n",
              "    </tr>\n",
              "    <tr>\n",
              "      <td>1</td>\n",
              "      <td>Delhi</td>\n",
              "      <td>Delhi</td>\n",
              "    </tr>\n",
              "    <tr>\n",
              "      <td>2</td>\n",
              "      <td>Hyderabad</td>\n",
              "      <td>Telangana</td>\n",
              "    </tr>\n",
              "    <tr>\n",
              "      <td>3</td>\n",
              "      <td>Faridabad</td>\n",
              "      <td>Haryana</td>\n",
              "    </tr>\n",
              "  </tbody>\n",
              "</table>\n",
              "</div>"
            ],
            "text/plain": [
              "        city      state\n",
              "0   Gurugram    Haryana\n",
              "1      Delhi      Delhi\n",
              "2  Hyderabad  Telangana\n",
              "3  Faridabad    Haryana"
            ]
          },
          "execution_count": 38,
          "metadata": {},
          "output_type": "execute_result"
        }
      ],
      "source": [
        "city_state_mapping"
      ]
    },
    {
      "cell_type": "code",
      "execution_count": null,
      "metadata": {
        "id": "TjLI8M1aw7Lz",
        "outputId": "4a6db00f-83a4-4b45-96c4-447b58fcc409"
      },
      "outputs": [
        {
          "data": {
            "text/html": [
              "<div>\n",
              "<style scoped>\n",
              "    .dataframe tbody tr th:only-of-type {\n",
              "        vertical-align: middle;\n",
              "    }\n",
              "\n",
              "    .dataframe tbody tr th {\n",
              "        vertical-align: top;\n",
              "    }\n",
              "\n",
              "    .dataframe thead th {\n",
              "        text-align: right;\n",
              "    }\n",
              "</style>\n",
              "<table border=\"1\" class=\"dataframe\">\n",
              "  <thead>\n",
              "    <tr style=\"text-align: right;\">\n",
              "      <th></th>\n",
              "      <th>roll_no</th>\n",
              "      <th>name</th>\n",
              "      <th>grade</th>\n",
              "      <th>marks</th>\n",
              "      <th>city</th>\n",
              "      <th>state</th>\n",
              "    </tr>\n",
              "  </thead>\n",
              "  <tbody>\n",
              "    <tr>\n",
              "      <td>0</td>\n",
              "      <td>102</td>\n",
              "      <td>Aravind</td>\n",
              "      <td>B</td>\n",
              "      <td>15</td>\n",
              "      <td>Gurugram</td>\n",
              "      <td>Haryana</td>\n",
              "    </tr>\n",
              "    <tr>\n",
              "      <td>1</td>\n",
              "      <td>101</td>\n",
              "      <td>Rahul</td>\n",
              "      <td>B</td>\n",
              "      <td>15</td>\n",
              "      <td>Delhi</td>\n",
              "      <td>Delhi</td>\n",
              "    </tr>\n",
              "    <tr>\n",
              "      <td>2</td>\n",
              "      <td>104</td>\n",
              "      <td>Prateek</td>\n",
              "      <td>A</td>\n",
              "      <td>20</td>\n",
              "      <td>Delhi</td>\n",
              "      <td>Delhi</td>\n",
              "    </tr>\n",
              "    <tr>\n",
              "      <td>3</td>\n",
              "      <td>103</td>\n",
              "      <td>Piyuesh</td>\n",
              "      <td>C</td>\n",
              "      <td>4</td>\n",
              "      <td>Gurugram</td>\n",
              "      <td>Haryana</td>\n",
              "    </tr>\n",
              "    <tr>\n",
              "      <td>4</td>\n",
              "      <td>105</td>\n",
              "      <td>Kartik</td>\n",
              "      <td>A</td>\n",
              "      <td>22</td>\n",
              "      <td>Hyderabad</td>\n",
              "      <td>Telangana</td>\n",
              "    </tr>\n",
              "  </tbody>\n",
              "</table>\n",
              "</div>"
            ],
            "text/plain": [
              "   roll_no     name grade  marks       city      state\n",
              "0      102  Aravind     B     15   Gurugram    Haryana\n",
              "1      101    Rahul     B     15      Delhi      Delhi\n",
              "2      104  Prateek     A     20      Delhi      Delhi\n",
              "3      103  Piyuesh     C      4   Gurugram    Haryana\n",
              "4      105   Kartik     A     22  Hyderabad  Telangana"
            ]
          },
          "execution_count": 37,
          "metadata": {},
          "output_type": "execute_result"
        }
      ],
      "source": [
        "student_df.merge(city_state_mapping, how='left', on='city')"
      ]
    },
    {
      "cell_type": "markdown",
      "metadata": {
        "id": "oAfOVP8Vw7Lz"
      },
      "source": [
        "***Now, we have another dataframe that contains roll_no of some students. We need to find out the other details of the students. We can do this by using `right join`. You just need to set `how='right'`.***\n",
        "\n",
        "![](right.png)\n",
        "---"
      ]
    },
    {
      "cell_type": "code",
      "execution_count": null,
      "metadata": {
        "id": "m50zzziCw7L0",
        "outputId": "66707971-42b1-4953-b457-88c2be48c4a1"
      },
      "outputs": [
        {
          "data": {
            "text/html": [
              "<div>\n",
              "<style scoped>\n",
              "    .dataframe tbody tr th:only-of-type {\n",
              "        vertical-align: middle;\n",
              "    }\n",
              "\n",
              "    .dataframe tbody tr th {\n",
              "        vertical-align: top;\n",
              "    }\n",
              "\n",
              "    .dataframe thead th {\n",
              "        text-align: right;\n",
              "    }\n",
              "</style>\n",
              "<table border=\"1\" class=\"dataframe\">\n",
              "  <thead>\n",
              "    <tr style=\"text-align: right;\">\n",
              "      <th></th>\n",
              "      <th>roll_no</th>\n",
              "    </tr>\n",
              "  </thead>\n",
              "  <tbody>\n",
              "    <tr>\n",
              "      <td>0</td>\n",
              "      <td>102</td>\n",
              "    </tr>\n",
              "    <tr>\n",
              "      <td>1</td>\n",
              "      <td>103</td>\n",
              "    </tr>\n",
              "  </tbody>\n",
              "</table>\n",
              "</div>"
            ],
            "text/plain": [
              "   roll_no\n",
              "0      102\n",
              "1      103"
            ]
          },
          "execution_count": 39,
          "metadata": {},
          "output_type": "execute_result"
        }
      ],
      "source": [
        "roll_no = pd.DataFrame({\n",
        "    'roll_no' : [ 102, 103]\n",
        "})\n",
        "roll_no"
      ]
    },
    {
      "cell_type": "code",
      "execution_count": null,
      "metadata": {
        "id": "pxolhnNdw7L0",
        "outputId": "5d3f0827-c573-4c1b-a873-7a07c36ef2e3"
      },
      "outputs": [
        {
          "data": {
            "text/html": [
              "<div>\n",
              "<style scoped>\n",
              "    .dataframe tbody tr th:only-of-type {\n",
              "        vertical-align: middle;\n",
              "    }\n",
              "\n",
              "    .dataframe tbody tr th {\n",
              "        vertical-align: top;\n",
              "    }\n",
              "\n",
              "    .dataframe thead th {\n",
              "        text-align: right;\n",
              "    }\n",
              "</style>\n",
              "<table border=\"1\" class=\"dataframe\">\n",
              "  <thead>\n",
              "    <tr style=\"text-align: right;\">\n",
              "      <th></th>\n",
              "      <th>roll_no</th>\n",
              "      <th>name</th>\n",
              "      <th>grade</th>\n",
              "      <th>marks</th>\n",
              "      <th>city</th>\n",
              "    </tr>\n",
              "  </thead>\n",
              "  <tbody>\n",
              "    <tr>\n",
              "      <td>0</td>\n",
              "      <td>102</td>\n",
              "      <td>Aravind</td>\n",
              "      <td>B</td>\n",
              "      <td>15</td>\n",
              "      <td>Gurugram</td>\n",
              "    </tr>\n",
              "    <tr>\n",
              "      <td>1</td>\n",
              "      <td>101</td>\n",
              "      <td>Rahul</td>\n",
              "      <td>B</td>\n",
              "      <td>15</td>\n",
              "      <td>Delhi</td>\n",
              "    </tr>\n",
              "    <tr>\n",
              "      <td>2</td>\n",
              "      <td>104</td>\n",
              "      <td>Prateek</td>\n",
              "      <td>A</td>\n",
              "      <td>20</td>\n",
              "      <td>Delhi</td>\n",
              "    </tr>\n",
              "    <tr>\n",
              "      <td>3</td>\n",
              "      <td>103</td>\n",
              "      <td>Piyuesh</td>\n",
              "      <td>C</td>\n",
              "      <td>4</td>\n",
              "      <td>Gurugram</td>\n",
              "    </tr>\n",
              "    <tr>\n",
              "      <td>4</td>\n",
              "      <td>105</td>\n",
              "      <td>Kartik</td>\n",
              "      <td>A</td>\n",
              "      <td>22</td>\n",
              "      <td>Hyderabad</td>\n",
              "    </tr>\n",
              "  </tbody>\n",
              "</table>\n",
              "</div>"
            ],
            "text/plain": [
              "   roll_no     name grade  marks       city\n",
              "0      102  Aravind     B     15   Gurugram\n",
              "1      101    Rahul     B     15      Delhi\n",
              "2      104  Prateek     A     20      Delhi\n",
              "3      103  Piyuesh     C      4   Gurugram\n",
              "4      105   Kartik     A     22  Hyderabad"
            ]
          },
          "execution_count": 40,
          "metadata": {},
          "output_type": "execute_result"
        }
      ],
      "source": [
        "student_df"
      ]
    },
    {
      "cell_type": "code",
      "execution_count": null,
      "metadata": {
        "id": "7crmASwsw7L0",
        "outputId": "0bb6b264-c3fc-40f4-95dd-3bc7a09e463b"
      },
      "outputs": [
        {
          "data": {
            "text/html": [
              "<div>\n",
              "<style scoped>\n",
              "    .dataframe tbody tr th:only-of-type {\n",
              "        vertical-align: middle;\n",
              "    }\n",
              "\n",
              "    .dataframe tbody tr th {\n",
              "        vertical-align: top;\n",
              "    }\n",
              "\n",
              "    .dataframe thead th {\n",
              "        text-align: right;\n",
              "    }\n",
              "</style>\n",
              "<table border=\"1\" class=\"dataframe\">\n",
              "  <thead>\n",
              "    <tr style=\"text-align: right;\">\n",
              "      <th></th>\n",
              "      <th>roll_no</th>\n",
              "      <th>name</th>\n",
              "      <th>grade</th>\n",
              "      <th>marks</th>\n",
              "      <th>city</th>\n",
              "    </tr>\n",
              "  </thead>\n",
              "  <tbody>\n",
              "    <tr>\n",
              "      <td>0</td>\n",
              "      <td>102</td>\n",
              "      <td>Aravind</td>\n",
              "      <td>B</td>\n",
              "      <td>15</td>\n",
              "      <td>Gurugram</td>\n",
              "    </tr>\n",
              "    <tr>\n",
              "      <td>1</td>\n",
              "      <td>103</td>\n",
              "      <td>Piyuesh</td>\n",
              "      <td>C</td>\n",
              "      <td>4</td>\n",
              "      <td>Gurugram</td>\n",
              "    </tr>\n",
              "  </tbody>\n",
              "</table>\n",
              "</div>"
            ],
            "text/plain": [
              "   roll_no     name grade  marks      city\n",
              "0      102  Aravind     B     15  Gurugram\n",
              "1      103  Piyuesh     C      4  Gurugram"
            ]
          },
          "execution_count": 41,
          "metadata": {},
          "output_type": "execute_result"
        }
      ],
      "source": [
        "student_df.merge(roll_no, how='right', on='roll_no')"
      ]
    },
    {
      "cell_type": "markdown",
      "metadata": {
        "id": "_XINNaEHw7L0"
      },
      "source": [
        "***Now, students participated in a placement drive and some of the students got placed and the details are given in the `student_selection` dataframe.***\n",
        "\n",
        "---"
      ]
    },
    {
      "cell_type": "code",
      "execution_count": null,
      "metadata": {
        "id": "Pu-eIoP7w7L0",
        "outputId": "6c76e28c-30bf-4ce5-bdb4-82b11712a14d"
      },
      "outputs": [
        {
          "data": {
            "text/html": [
              "<div>\n",
              "<style scoped>\n",
              "    .dataframe tbody tr th:only-of-type {\n",
              "        vertical-align: middle;\n",
              "    }\n",
              "\n",
              "    .dataframe tbody tr th {\n",
              "        vertical-align: top;\n",
              "    }\n",
              "\n",
              "    .dataframe thead th {\n",
              "        text-align: right;\n",
              "    }\n",
              "</style>\n",
              "<table border=\"1\" class=\"dataframe\">\n",
              "  <thead>\n",
              "    <tr style=\"text-align: right;\">\n",
              "      <th></th>\n",
              "      <th>roll_no</th>\n",
              "      <th>company</th>\n",
              "      <th>package (lpa)</th>\n",
              "    </tr>\n",
              "  </thead>\n",
              "  <tbody>\n",
              "    <tr>\n",
              "      <td>0</td>\n",
              "      <td>102</td>\n",
              "      <td>ABC</td>\n",
              "      <td>8.0</td>\n",
              "    </tr>\n",
              "    <tr>\n",
              "      <td>1</td>\n",
              "      <td>105</td>\n",
              "      <td>XYZ</td>\n",
              "      <td>14.5</td>\n",
              "    </tr>\n",
              "    <tr>\n",
              "      <td>2</td>\n",
              "      <td>101</td>\n",
              "      <td>ABC</td>\n",
              "      <td>11.0</td>\n",
              "    </tr>\n",
              "  </tbody>\n",
              "</table>\n",
              "</div>"
            ],
            "text/plain": [
              "   roll_no company  package (lpa)\n",
              "0      102     ABC            8.0\n",
              "1      105     XYZ           14.5\n",
              "2      101     ABC           11.0"
            ]
          },
          "execution_count": 42,
          "metadata": {},
          "output_type": "execute_result"
        }
      ],
      "source": [
        "student_selection = pd.DataFrame({\n",
        "    'roll_no' : [102, 105, 101],\n",
        "    'company' : ['ABC', 'XYZ', 'ABC'],\n",
        "    'package (lpa)' : [ 8, 14.5, 11 ]\n",
        "})\n",
        "student_selection"
      ]
    },
    {
      "cell_type": "markdown",
      "metadata": {
        "id": "8ZPKVc5Iw7L1"
      },
      "source": [
        "***Now, we want to combine the `student_df` and `student_selection`. We can do this by using `outer/full join`. You need to set parameter `how = 'outer'`.***\n",
        "\n",
        "![](outer.png)\n",
        "\n",
        "---"
      ]
    },
    {
      "cell_type": "code",
      "execution_count": null,
      "metadata": {
        "id": "7LmKMdfqw7L1",
        "outputId": "ee857a1f-3f12-4069-acf3-f6dfefe92d60"
      },
      "outputs": [
        {
          "data": {
            "text/html": [
              "<div>\n",
              "<style scoped>\n",
              "    .dataframe tbody tr th:only-of-type {\n",
              "        vertical-align: middle;\n",
              "    }\n",
              "\n",
              "    .dataframe tbody tr th {\n",
              "        vertical-align: top;\n",
              "    }\n",
              "\n",
              "    .dataframe thead th {\n",
              "        text-align: right;\n",
              "    }\n",
              "</style>\n",
              "<table border=\"1\" class=\"dataframe\">\n",
              "  <thead>\n",
              "    <tr style=\"text-align: right;\">\n",
              "      <th></th>\n",
              "      <th>roll_no</th>\n",
              "      <th>name</th>\n",
              "      <th>grade</th>\n",
              "      <th>marks</th>\n",
              "      <th>city</th>\n",
              "    </tr>\n",
              "  </thead>\n",
              "  <tbody>\n",
              "    <tr>\n",
              "      <td>0</td>\n",
              "      <td>102</td>\n",
              "      <td>Aravind</td>\n",
              "      <td>B</td>\n",
              "      <td>15</td>\n",
              "      <td>Gurugram</td>\n",
              "    </tr>\n",
              "    <tr>\n",
              "      <td>1</td>\n",
              "      <td>101</td>\n",
              "      <td>Rahul</td>\n",
              "      <td>B</td>\n",
              "      <td>15</td>\n",
              "      <td>Delhi</td>\n",
              "    </tr>\n",
              "    <tr>\n",
              "      <td>2</td>\n",
              "      <td>104</td>\n",
              "      <td>Prateek</td>\n",
              "      <td>A</td>\n",
              "      <td>20</td>\n",
              "      <td>Delhi</td>\n",
              "    </tr>\n",
              "    <tr>\n",
              "      <td>3</td>\n",
              "      <td>103</td>\n",
              "      <td>Piyuesh</td>\n",
              "      <td>C</td>\n",
              "      <td>4</td>\n",
              "      <td>Gurugram</td>\n",
              "    </tr>\n",
              "    <tr>\n",
              "      <td>4</td>\n",
              "      <td>105</td>\n",
              "      <td>Kartik</td>\n",
              "      <td>A</td>\n",
              "      <td>22</td>\n",
              "      <td>Hyderabad</td>\n",
              "    </tr>\n",
              "  </tbody>\n",
              "</table>\n",
              "</div>"
            ],
            "text/plain": [
              "   roll_no     name grade  marks       city\n",
              "0      102  Aravind     B     15   Gurugram\n",
              "1      101    Rahul     B     15      Delhi\n",
              "2      104  Prateek     A     20      Delhi\n",
              "3      103  Piyuesh     C      4   Gurugram\n",
              "4      105   Kartik     A     22  Hyderabad"
            ]
          },
          "execution_count": 43,
          "metadata": {},
          "output_type": "execute_result"
        }
      ],
      "source": [
        "student_df"
      ]
    },
    {
      "cell_type": "code",
      "execution_count": null,
      "metadata": {
        "id": "XNUhU6S2w7L1",
        "outputId": "7de6f330-87e9-4450-9aca-3b0f57f1cb70"
      },
      "outputs": [
        {
          "data": {
            "text/html": [
              "<div>\n",
              "<style scoped>\n",
              "    .dataframe tbody tr th:only-of-type {\n",
              "        vertical-align: middle;\n",
              "    }\n",
              "\n",
              "    .dataframe tbody tr th {\n",
              "        vertical-align: top;\n",
              "    }\n",
              "\n",
              "    .dataframe thead th {\n",
              "        text-align: right;\n",
              "    }\n",
              "</style>\n",
              "<table border=\"1\" class=\"dataframe\">\n",
              "  <thead>\n",
              "    <tr style=\"text-align: right;\">\n",
              "      <th></th>\n",
              "      <th>roll_no</th>\n",
              "      <th>name</th>\n",
              "      <th>grade</th>\n",
              "      <th>marks</th>\n",
              "      <th>city</th>\n",
              "      <th>company</th>\n",
              "      <th>package (lpa)</th>\n",
              "    </tr>\n",
              "  </thead>\n",
              "  <tbody>\n",
              "    <tr>\n",
              "      <td>0</td>\n",
              "      <td>102</td>\n",
              "      <td>Aravind</td>\n",
              "      <td>B</td>\n",
              "      <td>15</td>\n",
              "      <td>Gurugram</td>\n",
              "      <td>ABC</td>\n",
              "      <td>8.0</td>\n",
              "    </tr>\n",
              "    <tr>\n",
              "      <td>1</td>\n",
              "      <td>101</td>\n",
              "      <td>Rahul</td>\n",
              "      <td>B</td>\n",
              "      <td>15</td>\n",
              "      <td>Delhi</td>\n",
              "      <td>ABC</td>\n",
              "      <td>11.0</td>\n",
              "    </tr>\n",
              "    <tr>\n",
              "      <td>2</td>\n",
              "      <td>104</td>\n",
              "      <td>Prateek</td>\n",
              "      <td>A</td>\n",
              "      <td>20</td>\n",
              "      <td>Delhi</td>\n",
              "      <td>NaN</td>\n",
              "      <td>NaN</td>\n",
              "    </tr>\n",
              "    <tr>\n",
              "      <td>3</td>\n",
              "      <td>103</td>\n",
              "      <td>Piyuesh</td>\n",
              "      <td>C</td>\n",
              "      <td>4</td>\n",
              "      <td>Gurugram</td>\n",
              "      <td>NaN</td>\n",
              "      <td>NaN</td>\n",
              "    </tr>\n",
              "    <tr>\n",
              "      <td>4</td>\n",
              "      <td>105</td>\n",
              "      <td>Kartik</td>\n",
              "      <td>A</td>\n",
              "      <td>22</td>\n",
              "      <td>Hyderabad</td>\n",
              "      <td>XYZ</td>\n",
              "      <td>14.5</td>\n",
              "    </tr>\n",
              "  </tbody>\n",
              "</table>\n",
              "</div>"
            ],
            "text/plain": [
              "   roll_no     name grade  marks       city company  package (lpa)\n",
              "0      102  Aravind     B     15   Gurugram     ABC            8.0\n",
              "1      101    Rahul     B     15      Delhi     ABC           11.0\n",
              "2      104  Prateek     A     20      Delhi     NaN            NaN\n",
              "3      103  Piyuesh     C      4   Gurugram     NaN            NaN\n",
              "4      105   Kartik     A     22  Hyderabad     XYZ           14.5"
            ]
          },
          "execution_count": 44,
          "metadata": {},
          "output_type": "execute_result"
        }
      ],
      "source": [
        "student_df.merge(student_selection, how='outer')"
      ]
    },
    {
      "cell_type": "markdown",
      "metadata": {
        "id": "piUs61c0w7L1"
      },
      "source": [
        "---\n",
        "\n",
        "***Now, consider it was a pool placement drive and students from multiple colleges participated. The college `\"ZU UNIVERSITY\"` got the list of students selected for the job. You need to find out the details of the students who got selected from the college `\"ZU UNIVERSITY\"`***\n",
        "\n",
        "\n",
        "---"
      ]
    },
    {
      "cell_type": "code",
      "execution_count": null,
      "metadata": {
        "id": "X1zTIkUjw7L1",
        "outputId": "e51506f6-6a0b-4049-c8b6-6cbe9bdbc76e"
      },
      "outputs": [
        {
          "data": {
            "text/html": [
              "<div>\n",
              "<style scoped>\n",
              "    .dataframe tbody tr th:only-of-type {\n",
              "        vertical-align: middle;\n",
              "    }\n",
              "\n",
              "    .dataframe tbody tr th {\n",
              "        vertical-align: top;\n",
              "    }\n",
              "\n",
              "    .dataframe thead th {\n",
              "        text-align: right;\n",
              "    }\n",
              "</style>\n",
              "<table border=\"1\" class=\"dataframe\">\n",
              "  <thead>\n",
              "    <tr style=\"text-align: right;\">\n",
              "      <th></th>\n",
              "      <th>college</th>\n",
              "      <th>roll_no</th>\n",
              "      <th>name</th>\n",
              "      <th>grade</th>\n",
              "      <th>marks</th>\n",
              "      <th>city</th>\n",
              "    </tr>\n",
              "  </thead>\n",
              "  <tbody>\n",
              "    <tr>\n",
              "      <td>0</td>\n",
              "      <td>ZU UNIVERSITY</td>\n",
              "      <td>102</td>\n",
              "      <td>Aravind</td>\n",
              "      <td>B</td>\n",
              "      <td>15</td>\n",
              "      <td>Gurugram</td>\n",
              "    </tr>\n",
              "    <tr>\n",
              "      <td>1</td>\n",
              "      <td>ZU UNIVERSITY</td>\n",
              "      <td>101</td>\n",
              "      <td>Rahul</td>\n",
              "      <td>B</td>\n",
              "      <td>15</td>\n",
              "      <td>Delhi</td>\n",
              "    </tr>\n",
              "    <tr>\n",
              "      <td>2</td>\n",
              "      <td>ZU UNIVERSITY</td>\n",
              "      <td>104</td>\n",
              "      <td>Prateek</td>\n",
              "      <td>A</td>\n",
              "      <td>20</td>\n",
              "      <td>Delhi</td>\n",
              "    </tr>\n",
              "    <tr>\n",
              "      <td>3</td>\n",
              "      <td>ZU UNIVERSITY</td>\n",
              "      <td>103</td>\n",
              "      <td>Piyuesh</td>\n",
              "      <td>C</td>\n",
              "      <td>4</td>\n",
              "      <td>Gurugram</td>\n",
              "    </tr>\n",
              "    <tr>\n",
              "      <td>4</td>\n",
              "      <td>ZU UNIVERSITY</td>\n",
              "      <td>105</td>\n",
              "      <td>Kartik</td>\n",
              "      <td>A</td>\n",
              "      <td>22</td>\n",
              "      <td>Hyderabad</td>\n",
              "    </tr>\n",
              "  </tbody>\n",
              "</table>\n",
              "</div>"
            ],
            "text/plain": [
              "         college  roll_no     name grade  marks       city\n",
              "0  ZU UNIVERSITY      102  Aravind     B     15   Gurugram\n",
              "1  ZU UNIVERSITY      101    Rahul     B     15      Delhi\n",
              "2  ZU UNIVERSITY      104  Prateek     A     20      Delhi\n",
              "3  ZU UNIVERSITY      103  Piyuesh     C      4   Gurugram\n",
              "4  ZU UNIVERSITY      105   Kartik     A     22  Hyderabad"
            ]
          },
          "execution_count": 45,
          "metadata": {},
          "output_type": "execute_result"
        }
      ],
      "source": [
        "student_df = pd.DataFrame({\n",
        "    'college': ['ZU UNIVERSITY', 'ZU UNIVERSITY', 'ZU UNIVERSITY', 'ZU UNIVERSITY', 'ZU UNIVERSITY'],\n",
        "    'roll_no': [ 102, 101, 104, 103, 105],\n",
        "    'name' : ['Aravind', 'Rahul', 'Prateek', 'Piyuesh', 'Kartik'],\n",
        "    'grade': ['B', 'B', 'A', 'C', 'A'],\n",
        "    'marks': [ 15, 15, 20, 4, 22],\n",
        "    'city' : ['Gurugram', 'Delhi', 'Delhi', 'Gurugram', 'Hyderabad']\n",
        "})\n",
        "student_df"
      ]
    },
    {
      "cell_type": "code",
      "execution_count": null,
      "metadata": {
        "id": "4xjMqOo1w7L2",
        "outputId": "3d161e87-e984-4d05-fa15-dff7b949d07e"
      },
      "outputs": [
        {
          "data": {
            "text/html": [
              "<div>\n",
              "<style scoped>\n",
              "    .dataframe tbody tr th:only-of-type {\n",
              "        vertical-align: middle;\n",
              "    }\n",
              "\n",
              "    .dataframe tbody tr th {\n",
              "        vertical-align: top;\n",
              "    }\n",
              "\n",
              "    .dataframe thead th {\n",
              "        text-align: right;\n",
              "    }\n",
              "</style>\n",
              "<table border=\"1\" class=\"dataframe\">\n",
              "  <thead>\n",
              "    <tr style=\"text-align: right;\">\n",
              "      <th></th>\n",
              "      <th>college</th>\n",
              "      <th>name</th>\n",
              "      <th>company</th>\n",
              "      <th>package (lpa)</th>\n",
              "    </tr>\n",
              "  </thead>\n",
              "  <tbody>\n",
              "    <tr>\n",
              "      <td>0</td>\n",
              "      <td>ZU UNIVERSITY</td>\n",
              "      <td>Aravind</td>\n",
              "      <td>ABC</td>\n",
              "      <td>8.0</td>\n",
              "    </tr>\n",
              "    <tr>\n",
              "      <td>1</td>\n",
              "      <td>ZU UNIVERSITY</td>\n",
              "      <td>Rahul</td>\n",
              "      <td>XYZ</td>\n",
              "      <td>14.5</td>\n",
              "    </tr>\n",
              "    <tr>\n",
              "      <td>2</td>\n",
              "      <td>AB UNIVERSITY</td>\n",
              "      <td>Rahul</td>\n",
              "      <td>ABC</td>\n",
              "      <td>11.0</td>\n",
              "    </tr>\n",
              "    <tr>\n",
              "      <td>3</td>\n",
              "      <td>ZU UNIVERSITY</td>\n",
              "      <td>Prateek</td>\n",
              "      <td>AEP</td>\n",
              "      <td>6.0</td>\n",
              "    </tr>\n",
              "    <tr>\n",
              "      <td>4</td>\n",
              "      <td>AB UNIVERSITY</td>\n",
              "      <td>Harsh</td>\n",
              "      <td>ABC</td>\n",
              "      <td>6.0</td>\n",
              "    </tr>\n",
              "  </tbody>\n",
              "</table>\n",
              "</div>"
            ],
            "text/plain": [
              "         college     name company  package (lpa)\n",
              "0  ZU UNIVERSITY  Aravind     ABC            8.0\n",
              "1  ZU UNIVERSITY    Rahul     XYZ           14.5\n",
              "2  AB UNIVERSITY    Rahul     ABC           11.0\n",
              "3  ZU UNIVERSITY  Prateek     AEP            6.0\n",
              "4  AB UNIVERSITY    Harsh     ABC            6.0"
            ]
          },
          "execution_count": 46,
          "metadata": {},
          "output_type": "execute_result"
        }
      ],
      "source": [
        "pool = pd.DataFrame({\n",
        "        'college': ['ZU UNIVERSITY', 'ZU UNIVERSITY', 'AB UNIVERSITY', 'ZU UNIVERSITY','AB UNIVERSITY'],\n",
        "        'name' : ['Aravind', 'Rahul', 'Rahul', 'Prateek', 'Harsh'],\n",
        "        'company' : ['ABC', 'XYZ', 'ABC', 'AEP', 'ABC'],\n",
        "        'package (lpa)' : [ 8, 14.5, 11, 6, 6 ]\n",
        "})\n",
        "pool"
      ]
    },
    {
      "cell_type": "markdown",
      "metadata": {
        "id": "bSXE0zFLw7L2"
      },
      "source": [
        "---\n",
        "\n",
        "***Now, we have 2 columns common `college` and `name` in both the dataframes. So, here we will use the `inner join`. You just need to set the parameters `how='inner'` and as we have 2 common columns therefore, set the parameter `on=['college','name']`.***\n",
        "\n",
        "\n",
        "![](inner.png)\n",
        "\n",
        "---"
      ]
    },
    {
      "cell_type": "code",
      "execution_count": null,
      "metadata": {
        "id": "VwxmWFnww7L2",
        "outputId": "df6cf730-40a9-4621-98a4-7dd735b8b361"
      },
      "outputs": [
        {
          "data": {
            "text/html": [
              "<div>\n",
              "<style scoped>\n",
              "    .dataframe tbody tr th:only-of-type {\n",
              "        vertical-align: middle;\n",
              "    }\n",
              "\n",
              "    .dataframe tbody tr th {\n",
              "        vertical-align: top;\n",
              "    }\n",
              "\n",
              "    .dataframe thead th {\n",
              "        text-align: right;\n",
              "    }\n",
              "</style>\n",
              "<table border=\"1\" class=\"dataframe\">\n",
              "  <thead>\n",
              "    <tr style=\"text-align: right;\">\n",
              "      <th></th>\n",
              "      <th>college</th>\n",
              "      <th>roll_no</th>\n",
              "      <th>name</th>\n",
              "      <th>grade</th>\n",
              "      <th>marks</th>\n",
              "      <th>city</th>\n",
              "      <th>company</th>\n",
              "      <th>package (lpa)</th>\n",
              "    </tr>\n",
              "  </thead>\n",
              "  <tbody>\n",
              "    <tr>\n",
              "      <td>0</td>\n",
              "      <td>ZU UNIVERSITY</td>\n",
              "      <td>102</td>\n",
              "      <td>Aravind</td>\n",
              "      <td>B</td>\n",
              "      <td>15</td>\n",
              "      <td>Gurugram</td>\n",
              "      <td>ABC</td>\n",
              "      <td>8.0</td>\n",
              "    </tr>\n",
              "    <tr>\n",
              "      <td>1</td>\n",
              "      <td>ZU UNIVERSITY</td>\n",
              "      <td>101</td>\n",
              "      <td>Rahul</td>\n",
              "      <td>B</td>\n",
              "      <td>15</td>\n",
              "      <td>Delhi</td>\n",
              "      <td>XYZ</td>\n",
              "      <td>14.5</td>\n",
              "    </tr>\n",
              "    <tr>\n",
              "      <td>2</td>\n",
              "      <td>ZU UNIVERSITY</td>\n",
              "      <td>104</td>\n",
              "      <td>Prateek</td>\n",
              "      <td>A</td>\n",
              "      <td>20</td>\n",
              "      <td>Delhi</td>\n",
              "      <td>AEP</td>\n",
              "      <td>6.0</td>\n",
              "    </tr>\n",
              "  </tbody>\n",
              "</table>\n",
              "</div>"
            ],
            "text/plain": [
              "         college  roll_no     name grade  marks      city company  \\\n",
              "0  ZU UNIVERSITY      102  Aravind     B     15  Gurugram     ABC   \n",
              "1  ZU UNIVERSITY      101    Rahul     B     15     Delhi     XYZ   \n",
              "2  ZU UNIVERSITY      104  Prateek     A     20     Delhi     AEP   \n",
              "\n",
              "   package (lpa)  \n",
              "0            8.0  \n",
              "1           14.5  \n",
              "2            6.0  "
            ]
          },
          "execution_count": 47,
          "metadata": {},
          "output_type": "execute_result"
        }
      ],
      "source": [
        "student_df.merge(pool, how='inner', on=['college', 'name'])"
      ]
    },
    {
      "cell_type": "markdown",
      "metadata": {
        "id": "ho2u8ba0w7L2"
      },
      "source": [
        "---\n",
        "\n",
        "### `NOW LET'S SOLVE THE PROBLEM`\n",
        "\n",
        "---\n",
        "\n",
        "We have another dataset `outlet_data.csv` in the dataset folder. It has column `Outlet_Identifier`, `Outlet_Establishment_Year`, `Outlet_Size` and `Outlet_Location_Type`.\n",
        "\n",
        "\n",
        "Now, we have `Outlet_Identifier` in both the datasets and we need to combine them and get the rest of the variables in our dataset. So we will do a `left join` to merge the data frames. Let's see how?\n",
        "\n",
        "---\n",
        "\n",
        "\n",
        "#### `READ THE OUTLET DATA`\n",
        "\n",
        "---"
      ]
    },
    {
      "cell_type": "code",
      "execution_count": null,
      "metadata": {
        "id": "M22iHb8-w7L2"
      },
      "outputs": [],
      "source": [
        "### all merges with sample"
      ]
    },
    {
      "cell_type": "code",
      "execution_count": null,
      "metadata": {
        "id": "8r12987Vw7L2"
      },
      "outputs": [],
      "source": [
        "previous_data = pd.read_csv('datasets/outlet_size_concatenated_data.csv')"
      ]
    },
    {
      "cell_type": "code",
      "execution_count": null,
      "metadata": {
        "id": "cWby77Kkw7L2",
        "outputId": "faf60ccb-4aae-4c6e-bf32-872fdcf100af"
      },
      "outputs": [
        {
          "data": {
            "text/html": [
              "<div>\n",
              "<style scoped>\n",
              "    .dataframe tbody tr th:only-of-type {\n",
              "        vertical-align: middle;\n",
              "    }\n",
              "\n",
              "    .dataframe tbody tr th {\n",
              "        vertical-align: top;\n",
              "    }\n",
              "\n",
              "    .dataframe thead th {\n",
              "        text-align: right;\n",
              "    }\n",
              "</style>\n",
              "<table border=\"1\" class=\"dataframe\">\n",
              "  <thead>\n",
              "    <tr style=\"text-align: right;\">\n",
              "      <th></th>\n",
              "      <th>Item_Identifier</th>\n",
              "      <th>Item_Weight</th>\n",
              "      <th>Item_Fat_Content</th>\n",
              "      <th>Item_Visibility</th>\n",
              "      <th>Item_Type</th>\n",
              "      <th>Item_MRP</th>\n",
              "      <th>Outlet_Identifier</th>\n",
              "      <th>Outlet_Type</th>\n",
              "      <th>Item_Outlet_Sales</th>\n",
              "    </tr>\n",
              "  </thead>\n",
              "  <tbody>\n",
              "    <tr>\n",
              "      <td>0</td>\n",
              "      <td>FDA03</td>\n",
              "      <td>18.50</td>\n",
              "      <td>Regular</td>\n",
              "      <td>0.045464</td>\n",
              "      <td>Dairy</td>\n",
              "      <td>144.1102</td>\n",
              "      <td>OUT046</td>\n",
              "      <td>Supermarket Type1</td>\n",
              "      <td>2187.1530</td>\n",
              "    </tr>\n",
              "    <tr>\n",
              "      <td>1</td>\n",
              "      <td>FDS46</td>\n",
              "      <td>17.60</td>\n",
              "      <td>Regular</td>\n",
              "      <td>0.047257</td>\n",
              "      <td>Snack Foods</td>\n",
              "      <td>119.6782</td>\n",
              "      <td>OUT046</td>\n",
              "      <td>Supermarket Type1</td>\n",
              "      <td>2145.2076</td>\n",
              "    </tr>\n",
              "    <tr>\n",
              "      <td>2</td>\n",
              "      <td>FDP49</td>\n",
              "      <td>9.00</td>\n",
              "      <td>Regular</td>\n",
              "      <td>0.069089</td>\n",
              "      <td>Breakfast</td>\n",
              "      <td>56.3614</td>\n",
              "      <td>OUT046</td>\n",
              "      <td>Supermarket Type1</td>\n",
              "      <td>1547.3192</td>\n",
              "    </tr>\n",
              "    <tr>\n",
              "      <td>3</td>\n",
              "      <td>FDU02</td>\n",
              "      <td>13.35</td>\n",
              "      <td>Low Fat</td>\n",
              "      <td>0.102492</td>\n",
              "      <td>Dairy</td>\n",
              "      <td>230.5352</td>\n",
              "      <td>OUT035</td>\n",
              "      <td>Supermarket Type1</td>\n",
              "      <td>2748.4224</td>\n",
              "    </tr>\n",
              "    <tr>\n",
              "      <td>4</td>\n",
              "      <td>NCB30</td>\n",
              "      <td>14.60</td>\n",
              "      <td>Low Fat</td>\n",
              "      <td>0.025698</td>\n",
              "      <td>Household</td>\n",
              "      <td>196.5084</td>\n",
              "      <td>OUT035</td>\n",
              "      <td>Supermarket Type1</td>\n",
              "      <td>1587.2672</td>\n",
              "    </tr>\n",
              "  </tbody>\n",
              "</table>\n",
              "</div>"
            ],
            "text/plain": [
              "  Item_Identifier  Item_Weight Item_Fat_Content  Item_Visibility    Item_Type  \\\n",
              "0           FDA03        18.50          Regular         0.045464        Dairy   \n",
              "1           FDS46        17.60          Regular         0.047257  Snack Foods   \n",
              "2           FDP49         9.00          Regular         0.069089    Breakfast   \n",
              "3           FDU02        13.35          Low Fat         0.102492        Dairy   \n",
              "4           NCB30        14.60          Low Fat         0.025698    Household   \n",
              "\n",
              "   Item_MRP Outlet_Identifier        Outlet_Type  Item_Outlet_Sales  \n",
              "0  144.1102            OUT046  Supermarket Type1          2187.1530  \n",
              "1  119.6782            OUT046  Supermarket Type1          2145.2076  \n",
              "2   56.3614            OUT046  Supermarket Type1          1547.3192  \n",
              "3  230.5352            OUT035  Supermarket Type1          2748.4224  \n",
              "4  196.5084            OUT035  Supermarket Type1          1587.2672  "
            ]
          },
          "execution_count": 49,
          "metadata": {},
          "output_type": "execute_result"
        }
      ],
      "source": [
        "previous_data.head()"
      ]
    },
    {
      "cell_type": "code",
      "execution_count": null,
      "metadata": {
        "id": "eF8XSwQuw7L3"
      },
      "outputs": [],
      "source": [
        "# read the outlet data\n",
        "outlet_data = pd.read_csv('datasets/outlet_data.csv')"
      ]
    },
    {
      "cell_type": "code",
      "execution_count": null,
      "metadata": {
        "id": "gOc4hXZpw7L3",
        "outputId": "ed1a45b4-17dc-4e23-8705-fa74f06683eb"
      },
      "outputs": [
        {
          "data": {
            "text/html": [
              "<div>\n",
              "<style scoped>\n",
              "    .dataframe tbody tr th:only-of-type {\n",
              "        vertical-align: middle;\n",
              "    }\n",
              "\n",
              "    .dataframe tbody tr th {\n",
              "        vertical-align: top;\n",
              "    }\n",
              "\n",
              "    .dataframe thead th {\n",
              "        text-align: right;\n",
              "    }\n",
              "</style>\n",
              "<table border=\"1\" class=\"dataframe\">\n",
              "  <thead>\n",
              "    <tr style=\"text-align: right;\">\n",
              "      <th></th>\n",
              "      <th>Outlet_Identifier</th>\n",
              "      <th>Outlet_Establishment_Year</th>\n",
              "      <th>Outlet_Size</th>\n",
              "      <th>Outlet_Location_Type</th>\n",
              "    </tr>\n",
              "  </thead>\n",
              "  <tbody>\n",
              "    <tr>\n",
              "      <td>0</td>\n",
              "      <td>OUT013</td>\n",
              "      <td>1987</td>\n",
              "      <td>High</td>\n",
              "      <td>Tier 3</td>\n",
              "    </tr>\n",
              "    <tr>\n",
              "      <td>1</td>\n",
              "      <td>OUT018</td>\n",
              "      <td>2009</td>\n",
              "      <td>Medium</td>\n",
              "      <td>Tier 3</td>\n",
              "    </tr>\n",
              "    <tr>\n",
              "      <td>2</td>\n",
              "      <td>OUT019</td>\n",
              "      <td>1985</td>\n",
              "      <td>Small</td>\n",
              "      <td>Tier 1</td>\n",
              "    </tr>\n",
              "    <tr>\n",
              "      <td>3</td>\n",
              "      <td>OUT027</td>\n",
              "      <td>1985</td>\n",
              "      <td>Medium</td>\n",
              "      <td>Tier 3</td>\n",
              "    </tr>\n",
              "    <tr>\n",
              "      <td>4</td>\n",
              "      <td>OUT035</td>\n",
              "      <td>2004</td>\n",
              "      <td>Small</td>\n",
              "      <td>Tier 2</td>\n",
              "    </tr>\n",
              "  </tbody>\n",
              "</table>\n",
              "</div>"
            ],
            "text/plain": [
              "  Outlet_Identifier  Outlet_Establishment_Year Outlet_Size  \\\n",
              "0            OUT013                       1987        High   \n",
              "1            OUT018                       2009      Medium   \n",
              "2            OUT019                       1985       Small   \n",
              "3            OUT027                       1985      Medium   \n",
              "4            OUT035                       2004       Small   \n",
              "\n",
              "  Outlet_Location_Type  \n",
              "0               Tier 3  \n",
              "1               Tier 3  \n",
              "2               Tier 1  \n",
              "3               Tier 3  \n",
              "4               Tier 2  "
            ]
          },
          "execution_count": 51,
          "metadata": {},
          "output_type": "execute_result"
        }
      ],
      "source": [
        "# view the top rows of the data\n",
        "outlet_data.head()"
      ]
    },
    {
      "cell_type": "markdown",
      "metadata": {
        "id": "PeuI4RlNw7L3"
      },
      "source": [
        "---\n",
        "\n",
        "\n",
        "***Use the merge function to set parameter `how = 'left'` for the left join and the set the on parameter as the common column name as `on='Outlet_Identifier'`.***\n",
        "\n",
        "\n",
        "---"
      ]
    },
    {
      "cell_type": "code",
      "execution_count": null,
      "metadata": {
        "id": "KCbu1RECw7L3"
      },
      "outputs": [],
      "source": [
        "# merge the data\n",
        "combined_data = previous_data.merge(outlet_data, how='left', on='Outlet_Identifier')"
      ]
    },
    {
      "cell_type": "code",
      "execution_count": null,
      "metadata": {
        "id": "HAphCrvpw7L3",
        "outputId": "4647bfbc-ea82-4712-be6e-9590ff6cd4c1"
      },
      "outputs": [
        {
          "data": {
            "text/html": [
              "<div>\n",
              "<style scoped>\n",
              "    .dataframe tbody tr th:only-of-type {\n",
              "        vertical-align: middle;\n",
              "    }\n",
              "\n",
              "    .dataframe tbody tr th {\n",
              "        vertical-align: top;\n",
              "    }\n",
              "\n",
              "    .dataframe thead th {\n",
              "        text-align: right;\n",
              "    }\n",
              "</style>\n",
              "<table border=\"1\" class=\"dataframe\">\n",
              "  <thead>\n",
              "    <tr style=\"text-align: right;\">\n",
              "      <th></th>\n",
              "      <th>Item_Identifier</th>\n",
              "      <th>Item_Weight</th>\n",
              "      <th>Item_Fat_Content</th>\n",
              "      <th>Item_Visibility</th>\n",
              "      <th>Item_Type</th>\n",
              "      <th>Item_MRP</th>\n",
              "      <th>Outlet_Identifier</th>\n",
              "      <th>Outlet_Type</th>\n",
              "      <th>Item_Outlet_Sales</th>\n",
              "      <th>Outlet_Establishment_Year</th>\n",
              "      <th>Outlet_Size</th>\n",
              "      <th>Outlet_Location_Type</th>\n",
              "    </tr>\n",
              "  </thead>\n",
              "  <tbody>\n",
              "    <tr>\n",
              "      <td>0</td>\n",
              "      <td>FDA03</td>\n",
              "      <td>18.50</td>\n",
              "      <td>Regular</td>\n",
              "      <td>0.045464</td>\n",
              "      <td>Dairy</td>\n",
              "      <td>144.1102</td>\n",
              "      <td>OUT046</td>\n",
              "      <td>Supermarket Type1</td>\n",
              "      <td>2187.1530</td>\n",
              "      <td>1997</td>\n",
              "      <td>Small</td>\n",
              "      <td>Tier 1</td>\n",
              "    </tr>\n",
              "    <tr>\n",
              "      <td>1</td>\n",
              "      <td>FDS46</td>\n",
              "      <td>17.60</td>\n",
              "      <td>Regular</td>\n",
              "      <td>0.047257</td>\n",
              "      <td>Snack Foods</td>\n",
              "      <td>119.6782</td>\n",
              "      <td>OUT046</td>\n",
              "      <td>Supermarket Type1</td>\n",
              "      <td>2145.2076</td>\n",
              "      <td>1997</td>\n",
              "      <td>Small</td>\n",
              "      <td>Tier 1</td>\n",
              "    </tr>\n",
              "    <tr>\n",
              "      <td>2</td>\n",
              "      <td>FDP49</td>\n",
              "      <td>9.00</td>\n",
              "      <td>Regular</td>\n",
              "      <td>0.069089</td>\n",
              "      <td>Breakfast</td>\n",
              "      <td>56.3614</td>\n",
              "      <td>OUT046</td>\n",
              "      <td>Supermarket Type1</td>\n",
              "      <td>1547.3192</td>\n",
              "      <td>1997</td>\n",
              "      <td>Small</td>\n",
              "      <td>Tier 1</td>\n",
              "    </tr>\n",
              "    <tr>\n",
              "      <td>3</td>\n",
              "      <td>FDU02</td>\n",
              "      <td>13.35</td>\n",
              "      <td>Low Fat</td>\n",
              "      <td>0.102492</td>\n",
              "      <td>Dairy</td>\n",
              "      <td>230.5352</td>\n",
              "      <td>OUT035</td>\n",
              "      <td>Supermarket Type1</td>\n",
              "      <td>2748.4224</td>\n",
              "      <td>2004</td>\n",
              "      <td>Small</td>\n",
              "      <td>Tier 2</td>\n",
              "    </tr>\n",
              "    <tr>\n",
              "      <td>4</td>\n",
              "      <td>NCB30</td>\n",
              "      <td>14.60</td>\n",
              "      <td>Low Fat</td>\n",
              "      <td>0.025698</td>\n",
              "      <td>Household</td>\n",
              "      <td>196.5084</td>\n",
              "      <td>OUT035</td>\n",
              "      <td>Supermarket Type1</td>\n",
              "      <td>1587.2672</td>\n",
              "      <td>2004</td>\n",
              "      <td>Small</td>\n",
              "      <td>Tier 2</td>\n",
              "    </tr>\n",
              "  </tbody>\n",
              "</table>\n",
              "</div>"
            ],
            "text/plain": [
              "  Item_Identifier  Item_Weight Item_Fat_Content  Item_Visibility    Item_Type  \\\n",
              "0           FDA03        18.50          Regular         0.045464        Dairy   \n",
              "1           FDS46        17.60          Regular         0.047257  Snack Foods   \n",
              "2           FDP49         9.00          Regular         0.069089    Breakfast   \n",
              "3           FDU02        13.35          Low Fat         0.102492        Dairy   \n",
              "4           NCB30        14.60          Low Fat         0.025698    Household   \n",
              "\n",
              "   Item_MRP Outlet_Identifier        Outlet_Type  Item_Outlet_Sales  \\\n",
              "0  144.1102            OUT046  Supermarket Type1          2187.1530   \n",
              "1  119.6782            OUT046  Supermarket Type1          2145.2076   \n",
              "2   56.3614            OUT046  Supermarket Type1          1547.3192   \n",
              "3  230.5352            OUT035  Supermarket Type1          2748.4224   \n",
              "4  196.5084            OUT035  Supermarket Type1          1587.2672   \n",
              "\n",
              "   Outlet_Establishment_Year Outlet_Size Outlet_Location_Type  \n",
              "0                       1997       Small               Tier 1  \n",
              "1                       1997       Small               Tier 1  \n",
              "2                       1997       Small               Tier 1  \n",
              "3                       2004       Small               Tier 2  \n",
              "4                       2004       Small               Tier 2  "
            ]
          },
          "execution_count": 53,
          "metadata": {},
          "output_type": "execute_result"
        }
      ],
      "source": [
        "# view the data\n",
        "combined_data.head()"
      ]
    },
    {
      "cell_type": "code",
      "execution_count": null,
      "metadata": {
        "id": "GytrLnj-w7L3",
        "outputId": "cd2d9832-a75b-4ed9-9473-4b0961034fab"
      },
      "outputs": [
        {
          "data": {
            "text/plain": [
              "(6113, 12)"
            ]
          },
          "execution_count": 54,
          "metadata": {},
          "output_type": "execute_result"
        }
      ],
      "source": [
        "combined_data.shape"
      ]
    },
    {
      "cell_type": "markdown",
      "metadata": {
        "id": "1kVTXClSw7L3"
      },
      "source": [
        "----\n",
        "\n",
        "So, you can see that we got some extra variables in the dataset.\n",
        "\n",
        "----\n",
        "\n",
        "\n",
        "***Now, we have a sample list of Item_Identifiers in a separate file `item_identifier.csv`. We are required to provide all the details that we have related to that particular Item_Identifier. Let's see how can we do that with the help of a `RIGHT JOIN`***\n",
        "\n",
        "---\n",
        "\n",
        "\n",
        "#### `READ THE DATA`\n",
        "\n",
        "---"
      ]
    },
    {
      "cell_type": "code",
      "execution_count": null,
      "metadata": {
        "id": "LCgrgxU8w7L3"
      },
      "outputs": [],
      "source": [
        "# read the data\n",
        "item_data = pd.read_csv('datasets/item_idenifier.csv')"
      ]
    },
    {
      "cell_type": "code",
      "execution_count": null,
      "metadata": {
        "id": "0PemjqLaw7L4",
        "outputId": "867ac26e-230e-4432-fb49-1a361a875f4c"
      },
      "outputs": [
        {
          "data": {
            "text/html": [
              "<div>\n",
              "<style scoped>\n",
              "    .dataframe tbody tr th:only-of-type {\n",
              "        vertical-align: middle;\n",
              "    }\n",
              "\n",
              "    .dataframe tbody tr th {\n",
              "        vertical-align: top;\n",
              "    }\n",
              "\n",
              "    .dataframe thead th {\n",
              "        text-align: right;\n",
              "    }\n",
              "</style>\n",
              "<table border=\"1\" class=\"dataframe\">\n",
              "  <thead>\n",
              "    <tr style=\"text-align: right;\">\n",
              "      <th></th>\n",
              "      <th>Item_Identifier</th>\n",
              "    </tr>\n",
              "  </thead>\n",
              "  <tbody>\n",
              "    <tr>\n",
              "      <td>0</td>\n",
              "      <td>DRI51</td>\n",
              "    </tr>\n",
              "    <tr>\n",
              "      <td>1</td>\n",
              "      <td>FDL48</td>\n",
              "    </tr>\n",
              "    <tr>\n",
              "      <td>2</td>\n",
              "      <td>FDL38</td>\n",
              "    </tr>\n",
              "    <tr>\n",
              "      <td>3</td>\n",
              "      <td>FDF17</td>\n",
              "    </tr>\n",
              "    <tr>\n",
              "      <td>4</td>\n",
              "      <td>FDN56</td>\n",
              "    </tr>\n",
              "  </tbody>\n",
              "</table>\n",
              "</div>"
            ],
            "text/plain": [
              "  Item_Identifier\n",
              "0           DRI51\n",
              "1           FDL48\n",
              "2           FDL38\n",
              "3           FDF17\n",
              "4           FDN56"
            ]
          },
          "execution_count": 56,
          "metadata": {},
          "output_type": "execute_result"
        }
      ],
      "source": [
        "# view the top rows\n",
        "item_data.head()"
      ]
    },
    {
      "cell_type": "code",
      "execution_count": null,
      "metadata": {
        "id": "dGFLmg8Kw7L4",
        "outputId": "e977a43e-c76a-4cb3-fb93-95cab773965a"
      },
      "outputs": [
        {
          "data": {
            "text/plain": [
              "(100, 1)"
            ]
          },
          "execution_count": 57,
          "metadata": {},
          "output_type": "execute_result"
        }
      ],
      "source": [
        "item_data.shape"
      ]
    },
    {
      "cell_type": "markdown",
      "metadata": {
        "id": "8F7fzJbiw7L4"
      },
      "source": [
        "***So, we have 100 Item_Identifiers and we need to provide the other details. We just need to use the merge function and set parameter `how='right'` and the common variable name is `Item_Identifier`.***\n",
        "\n",
        "---"
      ]
    },
    {
      "cell_type": "code",
      "execution_count": null,
      "metadata": {
        "id": "qHrN3X19w7L4"
      },
      "outputs": [],
      "source": [
        "item_details = combined_data.merge(item_data, how='right',on='Item_Identifier')"
      ]
    },
    {
      "cell_type": "code",
      "execution_count": null,
      "metadata": {
        "id": "h16QCQsyw7L4",
        "outputId": "86c64a37-dba7-4153-de35-e48cde317bc3"
      },
      "outputs": [
        {
          "data": {
            "text/html": [
              "<div>\n",
              "<style scoped>\n",
              "    .dataframe tbody tr th:only-of-type {\n",
              "        vertical-align: middle;\n",
              "    }\n",
              "\n",
              "    .dataframe tbody tr th {\n",
              "        vertical-align: top;\n",
              "    }\n",
              "\n",
              "    .dataframe thead th {\n",
              "        text-align: right;\n",
              "    }\n",
              "</style>\n",
              "<table border=\"1\" class=\"dataframe\">\n",
              "  <thead>\n",
              "    <tr style=\"text-align: right;\">\n",
              "      <th></th>\n",
              "      <th>Item_Identifier</th>\n",
              "      <th>Item_Weight</th>\n",
              "      <th>Item_Fat_Content</th>\n",
              "      <th>Item_Visibility</th>\n",
              "      <th>Item_Type</th>\n",
              "      <th>Item_MRP</th>\n",
              "      <th>Outlet_Identifier</th>\n",
              "      <th>Outlet_Type</th>\n",
              "      <th>Item_Outlet_Sales</th>\n",
              "      <th>Outlet_Establishment_Year</th>\n",
              "      <th>Outlet_Size</th>\n",
              "      <th>Outlet_Location_Type</th>\n",
              "    </tr>\n",
              "  </thead>\n",
              "  <tbody>\n",
              "    <tr>\n",
              "      <td>0</td>\n",
              "      <td>FDB11</td>\n",
              "      <td>16.000</td>\n",
              "      <td>Low Fat</td>\n",
              "      <td>0.060837</td>\n",
              "      <td>Starchy Foods</td>\n",
              "      <td>226.8404</td>\n",
              "      <td>OUT035</td>\n",
              "      <td>Supermarket Type1</td>\n",
              "      <td>6301.1312</td>\n",
              "      <td>2004</td>\n",
              "      <td>Small</td>\n",
              "      <td>Tier 2</td>\n",
              "    </tr>\n",
              "    <tr>\n",
              "      <td>1</td>\n",
              "      <td>FDB11</td>\n",
              "      <td>16.000</td>\n",
              "      <td>Low Fat</td>\n",
              "      <td>0.060943</td>\n",
              "      <td>Starchy Foods</td>\n",
              "      <td>225.6404</td>\n",
              "      <td>OUT049</td>\n",
              "      <td>Supermarket Type1</td>\n",
              "      <td>2925.5252</td>\n",
              "      <td>1999</td>\n",
              "      <td>Medium</td>\n",
              "      <td>Tier 1</td>\n",
              "    </tr>\n",
              "    <tr>\n",
              "      <td>2</td>\n",
              "      <td>FDB11</td>\n",
              "      <td>16.000</td>\n",
              "      <td>LF</td>\n",
              "      <td>0.060797</td>\n",
              "      <td>Starchy Foods</td>\n",
              "      <td>223.8404</td>\n",
              "      <td>OUT013</td>\n",
              "      <td>Supermarket Type1</td>\n",
              "      <td>3600.6464</td>\n",
              "      <td>1987</td>\n",
              "      <td>High</td>\n",
              "      <td>Tier 3</td>\n",
              "    </tr>\n",
              "    <tr>\n",
              "      <td>3</td>\n",
              "      <td>FDX20</td>\n",
              "      <td>7.365</td>\n",
              "      <td>Low Fat</td>\n",
              "      <td>0.042560</td>\n",
              "      <td>Fruits and Vegetables</td>\n",
              "      <td>226.1720</td>\n",
              "      <td>OUT046</td>\n",
              "      <td>Supermarket Type1</td>\n",
              "      <td>3169.2080</td>\n",
              "      <td>1997</td>\n",
              "      <td>Small</td>\n",
              "      <td>Tier 1</td>\n",
              "    </tr>\n",
              "    <tr>\n",
              "      <td>4</td>\n",
              "      <td>FDX20</td>\n",
              "      <td>7.365</td>\n",
              "      <td>Low Fat</td>\n",
              "      <td>0.042552</td>\n",
              "      <td>Fruits and Vegetables</td>\n",
              "      <td>225.1720</td>\n",
              "      <td>OUT035</td>\n",
              "      <td>Supermarket Type1</td>\n",
              "      <td>3395.5800</td>\n",
              "      <td>2004</td>\n",
              "      <td>Small</td>\n",
              "      <td>Tier 2</td>\n",
              "    </tr>\n",
              "    <tr>\n",
              "      <td>...</td>\n",
              "      <td>...</td>\n",
              "      <td>...</td>\n",
              "      <td>...</td>\n",
              "      <td>...</td>\n",
              "      <td>...</td>\n",
              "      <td>...</td>\n",
              "      <td>...</td>\n",
              "      <td>...</td>\n",
              "      <td>...</td>\n",
              "      <td>...</td>\n",
              "      <td>...</td>\n",
              "      <td>...</td>\n",
              "    </tr>\n",
              "    <tr>\n",
              "      <td>417</td>\n",
              "      <td>FDJ07</td>\n",
              "      <td>NaN</td>\n",
              "      <td>Low Fat</td>\n",
              "      <td>0.014354</td>\n",
              "      <td>Meat</td>\n",
              "      <td>115.5150</td>\n",
              "      <td>OUT027</td>\n",
              "      <td>Supermarket Type3</td>\n",
              "      <td>1631.2100</td>\n",
              "      <td>1985</td>\n",
              "      <td>Medium</td>\n",
              "      <td>Tier 3</td>\n",
              "    </tr>\n",
              "    <tr>\n",
              "      <td>418</td>\n",
              "      <td>FDF17</td>\n",
              "      <td>5.190</td>\n",
              "      <td>Low Fat</td>\n",
              "      <td>0.042687</td>\n",
              "      <td>Frozen Foods</td>\n",
              "      <td>195.9110</td>\n",
              "      <td>OUT049</td>\n",
              "      <td>Supermarket Type1</td>\n",
              "      <td>2946.1650</td>\n",
              "      <td>1999</td>\n",
              "      <td>Medium</td>\n",
              "      <td>Tier 1</td>\n",
              "    </tr>\n",
              "    <tr>\n",
              "      <td>419</td>\n",
              "      <td>FDV08</td>\n",
              "      <td>NaN</td>\n",
              "      <td>Low Fat</td>\n",
              "      <td>0.028456</td>\n",
              "      <td>Fruits and Vegetables</td>\n",
              "      <td>43.5454</td>\n",
              "      <td>OUT027</td>\n",
              "      <td>Supermarket Type3</td>\n",
              "      <td>755.0172</td>\n",
              "      <td>1985</td>\n",
              "      <td>Medium</td>\n",
              "      <td>Tier 3</td>\n",
              "    </tr>\n",
              "    <tr>\n",
              "      <td>420</td>\n",
              "      <td>FDV08</td>\n",
              "      <td>7.350</td>\n",
              "      <td>Low Fat</td>\n",
              "      <td>0.028711</td>\n",
              "      <td>Fruits and Vegetables</td>\n",
              "      <td>39.9454</td>\n",
              "      <td>OUT018</td>\n",
              "      <td>Supermarket Type2</td>\n",
              "      <td>377.5086</td>\n",
              "      <td>2009</td>\n",
              "      <td>Medium</td>\n",
              "      <td>Tier 3</td>\n",
              "    </tr>\n",
              "    <tr>\n",
              "      <td>421</td>\n",
              "      <td>FDV08</td>\n",
              "      <td>7.350</td>\n",
              "      <td>Low Fat</td>\n",
              "      <td>0.028571</td>\n",
              "      <td>Fruits and Vegetables</td>\n",
              "      <td>40.8454</td>\n",
              "      <td>OUT013</td>\n",
              "      <td>Supermarket Type1</td>\n",
              "      <td>587.2356</td>\n",
              "      <td>1987</td>\n",
              "      <td>High</td>\n",
              "      <td>Tier 3</td>\n",
              "    </tr>\n",
              "  </tbody>\n",
              "</table>\n",
              "<p>422 rows × 12 columns</p>\n",
              "</div>"
            ],
            "text/plain": [
              "    Item_Identifier  Item_Weight Item_Fat_Content  Item_Visibility  \\\n",
              "0             FDB11       16.000          Low Fat         0.060837   \n",
              "1             FDB11       16.000          Low Fat         0.060943   \n",
              "2             FDB11       16.000               LF         0.060797   \n",
              "3             FDX20        7.365          Low Fat         0.042560   \n",
              "4             FDX20        7.365          Low Fat         0.042552   \n",
              "..              ...          ...              ...              ...   \n",
              "417           FDJ07          NaN          Low Fat         0.014354   \n",
              "418           FDF17        5.190          Low Fat         0.042687   \n",
              "419           FDV08          NaN          Low Fat         0.028456   \n",
              "420           FDV08        7.350          Low Fat         0.028711   \n",
              "421           FDV08        7.350          Low Fat         0.028571   \n",
              "\n",
              "                 Item_Type  Item_MRP Outlet_Identifier        Outlet_Type  \\\n",
              "0            Starchy Foods  226.8404            OUT035  Supermarket Type1   \n",
              "1            Starchy Foods  225.6404            OUT049  Supermarket Type1   \n",
              "2            Starchy Foods  223.8404            OUT013  Supermarket Type1   \n",
              "3    Fruits and Vegetables  226.1720            OUT046  Supermarket Type1   \n",
              "4    Fruits and Vegetables  225.1720            OUT035  Supermarket Type1   \n",
              "..                     ...       ...               ...                ...   \n",
              "417                   Meat  115.5150            OUT027  Supermarket Type3   \n",
              "418           Frozen Foods  195.9110            OUT049  Supermarket Type1   \n",
              "419  Fruits and Vegetables   43.5454            OUT027  Supermarket Type3   \n",
              "420  Fruits and Vegetables   39.9454            OUT018  Supermarket Type2   \n",
              "421  Fruits and Vegetables   40.8454            OUT013  Supermarket Type1   \n",
              "\n",
              "     Item_Outlet_Sales  Outlet_Establishment_Year Outlet_Size  \\\n",
              "0            6301.1312                       2004       Small   \n",
              "1            2925.5252                       1999      Medium   \n",
              "2            3600.6464                       1987        High   \n",
              "3            3169.2080                       1997       Small   \n",
              "4            3395.5800                       2004       Small   \n",
              "..                 ...                        ...         ...   \n",
              "417          1631.2100                       1985      Medium   \n",
              "418          2946.1650                       1999      Medium   \n",
              "419           755.0172                       1985      Medium   \n",
              "420           377.5086                       2009      Medium   \n",
              "421           587.2356                       1987        High   \n",
              "\n",
              "    Outlet_Location_Type  \n",
              "0                 Tier 2  \n",
              "1                 Tier 1  \n",
              "2                 Tier 3  \n",
              "3                 Tier 1  \n",
              "4                 Tier 2  \n",
              "..                   ...  \n",
              "417               Tier 3  \n",
              "418               Tier 1  \n",
              "419               Tier 3  \n",
              "420               Tier 3  \n",
              "421               Tier 3  \n",
              "\n",
              "[422 rows x 12 columns]"
            ]
          },
          "execution_count": 59,
          "metadata": {},
          "output_type": "execute_result"
        }
      ],
      "source": [
        "item_details"
      ]
    },
    {
      "cell_type": "code",
      "execution_count": null,
      "metadata": {
        "id": "H4l75ISrw7L4"
      },
      "outputs": [],
      "source": []
    }
  ],
  "metadata": {
    "kernelspec": {
      "display_name": "Python 3",
      "language": "python",
      "name": "python3"
    },
    "language_info": {
      "codemirror_mode": {
        "name": "ipython",
        "version": 3
      },
      "file_extension": ".py",
      "mimetype": "text/x-python",
      "name": "python",
      "nbconvert_exporter": "python",
      "pygments_lexer": "ipython3",
      "version": "3.7.4"
    },
    "colab": {
      "provenance": [],
      "include_colab_link": true
    }
  },
  "nbformat": 4,
  "nbformat_minor": 0
}