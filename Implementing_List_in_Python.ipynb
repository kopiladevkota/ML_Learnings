{
  "nbformat": 4,
  "nbformat_minor": 0,
  "metadata": {
    "colab": {
      "provenance": [],
      "authorship_tag": "ABX9TyMBlEjziRjqUR/+eKNcTRC/",
      "include_colab_link": true
    },
    "kernelspec": {
      "name": "python3",
      "display_name": "Python 3"
    },
    "language_info": {
      "name": "python"
    }
  },
  "cells": [
    {
      "cell_type": "markdown",
      "metadata": {
        "id": "view-in-github",
        "colab_type": "text"
      },
      "source": [
        "<a href=\"https://colab.research.google.com/github/kopiladevkota/Python/blob/main/Implementing_List_in_Python.ipynb\" target=\"_parent\"><img src=\"https://colab.research.google.com/assets/colab-badge.svg\" alt=\"Open In Colab\"/></a>"
      ]
    },
    {
      "cell_type": "code",
      "source": [
        "#creating a list\n",
        "my_list = [1,2,3,4,5,6,7,8,9,10]"
      ],
      "metadata": {
        "id": "wa-HkQro_XEq"
      },
      "execution_count": 1,
      "outputs": []
    },
    {
      "cell_type": "code",
      "execution_count": 2,
      "metadata": {
        "id": "tV10xPN83KEk",
        "colab": {
          "base_uri": "https://localhost:8080/"
        },
        "outputId": "b0fb6c21-b2af-4c55-bc18-0b67ce8c7a1e"
      },
      "outputs": [
        {
          "output_type": "execute_result",
          "data": {
            "text/plain": [
              "[1, 2, 3, 4, 5, 6, 7, 8, 9, 10]"
            ]
          },
          "metadata": {},
          "execution_count": 2
        }
      ],
      "source": [
        "my_list"
      ]
    },
    {
      "cell_type": "code",
      "source": [
        "my_list[1]"
      ],
      "metadata": {
        "colab": {
          "base_uri": "https://localhost:8080/"
        },
        "id": "vtnnoc8l_rnI",
        "outputId": "4371d80d-448c-419c-fead-c4006cdfe560"
      },
      "execution_count": 3,
      "outputs": [
        {
          "output_type": "execute_result",
          "data": {
            "text/plain": [
              "2"
            ]
          },
          "metadata": {},
          "execution_count": 3
        }
      ]
    },
    {
      "cell_type": "code",
      "source": [
        "my_list[-2]"
      ],
      "metadata": {
        "colab": {
          "base_uri": "https://localhost:8080/"
        },
        "id": "HFQElgvB_uPf",
        "outputId": "b1d062e4-2c53-4374-e558-8d6c64f642d8"
      },
      "execution_count": 4,
      "outputs": [
        {
          "output_type": "execute_result",
          "data": {
            "text/plain": [
              "9"
            ]
          },
          "metadata": {},
          "execution_count": 4
        }
      ]
    },
    {
      "cell_type": "code",
      "source": [
        "my_list[-9]"
      ],
      "metadata": {
        "colab": {
          "base_uri": "https://localhost:8080/"
        },
        "id": "kWLZofuR_wjr",
        "outputId": "6d1fc397-f0c9-4b56-b8cf-aeb36877d565"
      },
      "execution_count": 5,
      "outputs": [
        {
          "output_type": "execute_result",
          "data": {
            "text/plain": [
              "2"
            ]
          },
          "metadata": {},
          "execution_count": 5
        }
      ]
    },
    {
      "cell_type": "markdown",
      "source": [
        "List slicing\n"
      ],
      "metadata": {
        "id": "2FpokYfVABZO"
      }
    },
    {
      "cell_type": "code",
      "source": [
        "my_list[1:4]"
      ],
      "metadata": {
        "colab": {
          "base_uri": "https://localhost:8080/"
        },
        "id": "R4e4kqb4_6G9",
        "outputId": "ace78671-2078-4da2-e9a4-3fa1840d78c2"
      },
      "execution_count": 6,
      "outputs": [
        {
          "output_type": "execute_result",
          "data": {
            "text/plain": [
              "[2, 3, 4]"
            ]
          },
          "metadata": {},
          "execution_count": 6
        }
      ]
    },
    {
      "cell_type": "code",
      "source": [
        "my_list[::2]"
      ],
      "metadata": {
        "colab": {
          "base_uri": "https://localhost:8080/"
        },
        "id": "paz7plY9AErB",
        "outputId": "94c82a26-cf95-434a-ed1c-6a8286fd5bca"
      },
      "execution_count": 7,
      "outputs": [
        {
          "output_type": "execute_result",
          "data": {
            "text/plain": [
              "[1, 3, 5, 7, 9]"
            ]
          },
          "metadata": {},
          "execution_count": 7
        }
      ]
    },
    {
      "cell_type": "code",
      "source": [
        "my_list[2:5:2]"
      ],
      "metadata": {
        "colab": {
          "base_uri": "https://localhost:8080/"
        },
        "id": "FHWC6JykANKl",
        "outputId": "e7191ecf-2693-4192-9055-a82423f2e991"
      },
      "execution_count": 8,
      "outputs": [
        {
          "output_type": "execute_result",
          "data": {
            "text/plain": [
              "[3, 5]"
            ]
          },
          "metadata": {},
          "execution_count": 8
        }
      ]
    },
    {
      "cell_type": "code",
      "source": [
        "my_list[2:-2]"
      ],
      "metadata": {
        "colab": {
          "base_uri": "https://localhost:8080/"
        },
        "id": "jhOls9-WARhA",
        "outputId": "1d7a2a5f-1f3e-4c61-83be-8703b9549705"
      },
      "execution_count": 9,
      "outputs": [
        {
          "output_type": "execute_result",
          "data": {
            "text/plain": [
              "[3, 4, 5, 6, 7, 8]"
            ]
          },
          "metadata": {},
          "execution_count": 9
        }
      ]
    },
    {
      "cell_type": "code",
      "source": [
        "#reverse hte list using tep valueas -1\n",
        "my_list[::-1]"
      ],
      "metadata": {
        "colab": {
          "base_uri": "https://localhost:8080/"
        },
        "id": "iKKxMgK3AUy3",
        "outputId": "dfc9bc4c-a8c5-4a73-b8fd-bc9346c5913b"
      },
      "execution_count": 11,
      "outputs": [
        {
          "output_type": "execute_result",
          "data": {
            "text/plain": [
              "[10, 9, 8, 7, 6, 5, 4, 3, 2, 1]"
            ]
          },
          "metadata": {},
          "execution_count": 11
        }
      ]
    },
    {
      "cell_type": "code",
      "source": [
        "#Append elements to the list\n",
        "my_list.append(3)\n",
        "my_list"
      ],
      "metadata": {
        "colab": {
          "base_uri": "https://localhost:8080/"
        },
        "id": "rZMOwmAoAd7K",
        "outputId": "2e2233fe-e500-4385-e55d-3599c161c4a8"
      },
      "execution_count": 14,
      "outputs": [
        {
          "output_type": "execute_result",
          "data": {
            "text/plain": [
              "[1, 2, 3, 4, 5, 6, 7, 8, 9, 10, 3, 3]"
            ]
          },
          "metadata": {},
          "execution_count": 14
        }
      ]
    },
    {
      "cell_type": "code",
      "source": [
        "my_list.append([1,2])"
      ],
      "metadata": {
        "id": "Vc3ianyjAtSF"
      },
      "execution_count": 15,
      "outputs": []
    },
    {
      "cell_type": "code",
      "source": [
        "my_list"
      ],
      "metadata": {
        "colab": {
          "base_uri": "https://localhost:8080/"
        },
        "id": "orj2pbIkA6ie",
        "outputId": "8c4ad1bb-948a-4031-a8f0-6c39802ead51"
      },
      "execution_count": 16,
      "outputs": [
        {
          "output_type": "execute_result",
          "data": {
            "text/plain": [
              "[1, 2, 3, 4, 5, 6, 7, 8, 9, 10, 3, 3, [1, 2]]"
            ]
          },
          "metadata": {},
          "execution_count": 16
        }
      ]
    },
    {
      "cell_type": "code",
      "source": [
        "my_list.extend([2,2,3,4])\n",
        "my_list"
      ],
      "metadata": {
        "colab": {
          "base_uri": "https://localhost:8080/"
        },
        "id": "oRKUnf1wA8I3",
        "outputId": "289f2006-3a3b-406c-b1b3-5f6175f0ae90"
      },
      "execution_count": 17,
      "outputs": [
        {
          "output_type": "execute_result",
          "data": {
            "text/plain": [
              "[1, 2, 3, 4, 5, 6, 7, 8, 9, 10, 3, 3, [1, 2], 2, 2, 3, 4]"
            ]
          },
          "metadata": {},
          "execution_count": 17
        }
      ]
    },
    {
      "cell_type": "code",
      "source": [
        "my_list.index(4)"
      ],
      "metadata": {
        "colab": {
          "base_uri": "https://localhost:8080/"
        },
        "id": "ey965m8rBQxW",
        "outputId": "b7ae7a16-5ff4-4d78-dcfd-cbd76d2db357"
      },
      "execution_count": 18,
      "outputs": [
        {
          "output_type": "execute_result",
          "data": {
            "text/plain": [
              "3"
            ]
          },
          "metadata": {},
          "execution_count": 18
        }
      ]
    },
    {
      "cell_type": "code",
      "source": [
        "my_list.index([1,2])"
      ],
      "metadata": {
        "colab": {
          "base_uri": "https://localhost:8080/"
        },
        "id": "AHrIRq_LBWmB",
        "outputId": "d70c0a37-2a1a-471c-a22b-1e6fddfb3ed8"
      },
      "execution_count": 20,
      "outputs": [
        {
          "output_type": "execute_result",
          "data": {
            "text/plain": [
              "12"
            ]
          },
          "metadata": {},
          "execution_count": 20
        }
      ]
    },
    {
      "cell_type": "code",
      "source": [
        "my_list.insert(1,'w')"
      ],
      "metadata": {
        "id": "0jiLUUwkBhbP"
      },
      "execution_count": 21,
      "outputs": []
    },
    {
      "cell_type": "code",
      "source": [
        "my_list"
      ],
      "metadata": {
        "colab": {
          "base_uri": "https://localhost:8080/"
        },
        "id": "zCzKNtouBpLC",
        "outputId": "f7eae933-18f2-4712-833c-838f041140aa"
      },
      "execution_count": 22,
      "outputs": [
        {
          "output_type": "execute_result",
          "data": {
            "text/plain": [
              "[1, 'w', 2, 3, 4, 5, 6, 7, 8, 9, 10, 3, 3, [1, 2], 2, 2, 3, 4]"
            ]
          },
          "metadata": {},
          "execution_count": 22
        }
      ]
    },
    {
      "cell_type": "code",
      "source": [
        "my_list.insert(4,'python')"
      ],
      "metadata": {
        "id": "e0j4xlc_Bq8q"
      },
      "execution_count": 23,
      "outputs": []
    },
    {
      "cell_type": "code",
      "source": [
        "my_list"
      ],
      "metadata": {
        "colab": {
          "base_uri": "https://localhost:8080/"
        },
        "id": "G54F5c9NBxVy",
        "outputId": "c4b4ca76-a501-4f29-aed1-8d25b8560873"
      },
      "execution_count": 24,
      "outputs": [
        {
          "output_type": "execute_result",
          "data": {
            "text/plain": [
              "[1, 'w', 2, 3, 'python', 4, 5, 6, 7, 8, 9, 10, 3, 3, [1, 2], 2, 2, 3, 4]"
            ]
          },
          "metadata": {},
          "execution_count": 24
        }
      ]
    },
    {
      "cell_type": "code",
      "source": [
        "90 in my_list"
      ],
      "metadata": {
        "colab": {
          "base_uri": "https://localhost:8080/"
        },
        "id": "TqJvFSRZBy8F",
        "outputId": "b0d5407c-af57-46e1-c101-70d787c4a733"
      },
      "execution_count": 25,
      "outputs": [
        {
          "output_type": "execute_result",
          "data": {
            "text/plain": [
              "False"
            ]
          },
          "metadata": {},
          "execution_count": 25
        }
      ]
    },
    {
      "cell_type": "code",
      "source": [
        "[1,2] in my_list"
      ],
      "metadata": {
        "colab": {
          "base_uri": "https://localhost:8080/"
        },
        "id": "MGNymfXbB6mM",
        "outputId": "b1042801-d4db-45ab-cd61-bdb8afea7b03"
      },
      "execution_count": 27,
      "outputs": [
        {
          "output_type": "execute_result",
          "data": {
            "text/plain": [
              "True"
            ]
          },
          "metadata": {},
          "execution_count": 27
        }
      ]
    },
    {
      "cell_type": "code",
      "source": [
        "[117] not in my_list"
      ],
      "metadata": {
        "colab": {
          "base_uri": "https://localhost:8080/"
        },
        "id": "1YA4mmn6B-6y",
        "outputId": "fd0e1247-6df8-4183-8d86-01b1cb28c0c7"
      },
      "execution_count": 29,
      "outputs": [
        {
          "output_type": "execute_result",
          "data": {
            "text/plain": [
              "True"
            ]
          },
          "metadata": {},
          "execution_count": 29
        }
      ]
    },
    {
      "cell_type": "code",
      "source": [
        "#removing elements from the list\n",
        "my_list"
      ],
      "metadata": {
        "colab": {
          "base_uri": "https://localhost:8080/"
        },
        "id": "4mu9aFc3CEk1",
        "outputId": "e3b50fe7-df37-4de5-eb17-008d88fae07d"
      },
      "execution_count": 30,
      "outputs": [
        {
          "output_type": "execute_result",
          "data": {
            "text/plain": [
              "[1, 'w', 2, 3, 'python', 4, 5, 6, 7, 8, 9, 10, 3, 3, [1, 2], 2, 2, 3, 4]"
            ]
          },
          "metadata": {},
          "execution_count": 30
        }
      ]
    },
    {
      "cell_type": "code",
      "source": [
        "my_list.remove(3)\n",
        "my_list"
      ],
      "metadata": {
        "colab": {
          "base_uri": "https://localhost:8080/"
        },
        "id": "-ckSyxOWCTX6",
        "outputId": "ffb8df79-d155-45e8-e713-3a6cf7521103"
      },
      "execution_count": 31,
      "outputs": [
        {
          "output_type": "execute_result",
          "data": {
            "text/plain": [
              "[1, 'w', 2, 'python', 4, 5, 6, 7, 8, 9, 10, 3, 3, [1, 2], 2, 2, 3, 4]"
            ]
          },
          "metadata": {},
          "execution_count": 31
        }
      ]
    },
    {
      "cell_type": "code",
      "source": [
        "my_list.remove(3)\n",
        "my_list"
      ],
      "metadata": {
        "colab": {
          "base_uri": "https://localhost:8080/"
        },
        "id": "5rFks5VDCX_N",
        "outputId": "5d73610d-0f71-4c32-f8a1-2f687ebed590"
      },
      "execution_count": 32,
      "outputs": [
        {
          "output_type": "execute_result",
          "data": {
            "text/plain": [
              "[1, 'w', 2, 'python', 4, 5, 6, 7, 8, 9, 10, 3, [1, 2], 2, 2, 3, 4]"
            ]
          },
          "metadata": {},
          "execution_count": 32
        }
      ]
    },
    {
      "cell_type": "code",
      "source": [
        "del my_list[0]\n",
        "my_list"
      ],
      "metadata": {
        "colab": {
          "base_uri": "https://localhost:8080/"
        },
        "id": "e6CAe0KxCbL0",
        "outputId": "f3cedcbb-2981-47c8-c28b-90c760f40f26"
      },
      "execution_count": 33,
      "outputs": [
        {
          "output_type": "execute_result",
          "data": {
            "text/plain": [
              "['w', 2, 'python', 4, 5, 6, 7, 8, 9, 10, 3, [1, 2], 2, 2, 3, 4]"
            ]
          },
          "metadata": {},
          "execution_count": 33
        }
      ]
    },
    {
      "cell_type": "code",
      "source": [
        "#iterate a list\n",
        "for element in my_list:\n",
        "    print(element)"
      ],
      "metadata": {
        "colab": {
          "base_uri": "https://localhost:8080/"
        },
        "id": "F0l75CD9CiWJ",
        "outputId": "0e997e39-7c7c-459f-88fc-3d9e8e8111ce"
      },
      "execution_count": 35,
      "outputs": [
        {
          "output_type": "stream",
          "name": "stdout",
          "text": [
            "w\n",
            "2\n",
            "python\n",
            "4\n",
            "5\n",
            "6\n",
            "7\n",
            "8\n",
            "9\n",
            "10\n",
            "3\n",
            "[1, 2]\n",
            "2\n",
            "2\n",
            "3\n",
            "4\n"
          ]
        }
      ]
    },
    {
      "cell_type": "code",
      "source": [
        "#find out the length of the list\n",
        "len(my_list)"
      ],
      "metadata": {
        "colab": {
          "base_uri": "https://localhost:8080/"
        },
        "id": "BzwAarWMCzlh",
        "outputId": "3e0cec2b-7941-4ffc-b29a-d7ddb288dcec"
      },
      "execution_count": 36,
      "outputs": [
        {
          "output_type": "execute_result",
          "data": {
            "text/plain": [
              "16"
            ]
          },
          "metadata": {},
          "execution_count": 36
        }
      ]
    },
    {
      "cell_type": "code",
      "source": [
        "#sorting the list\n",
        "sample_list ={2,33,42,1,34,35}\n",
        "sorted(sample_list)"
      ],
      "metadata": {
        "colab": {
          "base_uri": "https://localhost:8080/"
        },
        "id": "5sbvSzVYDA_E",
        "outputId": "ddfaf8dd-a1b1-4e27-a70f-bb369158b7c7"
      },
      "execution_count": 37,
      "outputs": [
        {
          "output_type": "execute_result",
          "data": {
            "text/plain": [
              "[1, 2, 33, 34, 35, 42]"
            ]
          },
          "metadata": {},
          "execution_count": 37
        }
      ]
    },
    {
      "cell_type": "code",
      "source": [
        "sorted(sample_list,reverse= True)"
      ],
      "metadata": {
        "colab": {
          "base_uri": "https://localhost:8080/"
        },
        "id": "xI3OBInVDUe4",
        "outputId": "b92a2af0-72ff-4dbf-d640-38ec4ac9a647"
      },
      "execution_count": 38,
      "outputs": [
        {
          "output_type": "execute_result",
          "data": {
            "text/plain": [
              "[42, 35, 34, 33, 2, 1]"
            ]
          },
          "metadata": {},
          "execution_count": 38
        }
      ]
    },
    {
      "cell_type": "markdown",
      "source": [
        "Nested List : Some or all element in the list are also type of list"
      ],
      "metadata": {
        "id": "_BBbK6uQDiW0"
      }
    },
    {
      "cell_type": "code",
      "source": [
        "my_list2 =[1,2,[1,2,1],['A', 'B' , 'C'], 'W', ['A', 'A', 'A']]\n",
        "my_list2"
      ],
      "metadata": {
        "colab": {
          "base_uri": "https://localhost:8080/"
        },
        "id": "j-NQcz3RDeh-",
        "outputId": "a5469ca7-1acb-4d26-afed-89d4088562d4"
      },
      "execution_count": 40,
      "outputs": [
        {
          "output_type": "execute_result",
          "data": {
            "text/plain": [
              "[1, 2, [1, 2, 1], ['A', 'B', 'C'], 'W', ['A', 'A', 'A']]"
            ]
          },
          "metadata": {},
          "execution_count": 40
        }
      ]
    },
    {
      "cell_type": "code",
      "source": [
        "len(my_list2)"
      ],
      "metadata": {
        "colab": {
          "base_uri": "https://localhost:8080/"
        },
        "id": "_TLNU989EFLe",
        "outputId": "21a90e05-c158-470c-f949-cad077b8a56e"
      },
      "execution_count": 41,
      "outputs": [
        {
          "output_type": "execute_result",
          "data": {
            "text/plain": [
              "6"
            ]
          },
          "metadata": {},
          "execution_count": 41
        }
      ]
    },
    {
      "cell_type": "code",
      "source": [
        "my_list2[2]"
      ],
      "metadata": {
        "colab": {
          "base_uri": "https://localhost:8080/"
        },
        "id": "D2hmuV_2ENMX",
        "outputId": "c9ce6b1e-11d5-48e6-9d72-e52992cebbce"
      },
      "execution_count": 42,
      "outputs": [
        {
          "output_type": "execute_result",
          "data": {
            "text/plain": [
              "[1, 2, 1]"
            ]
          },
          "metadata": {},
          "execution_count": 42
        }
      ]
    },
    {
      "cell_type": "code",
      "source": [
        "my_list2[-3][-1]"
      ],
      "metadata": {
        "colab": {
          "base_uri": "https://localhost:8080/",
          "height": 36
        },
        "id": "WKO2Yf6HESh_",
        "outputId": "ec1b1a46-efbd-4e96-ad8d-ca099b4f58a1"
      },
      "execution_count": 43,
      "outputs": [
        {
          "output_type": "execute_result",
          "data": {
            "text/plain": [
              "'C'"
            ],
            "application/vnd.google.colaboratory.intrinsic+json": {
              "type": "string"
            }
          },
          "metadata": {},
          "execution_count": 43
        }
      ]
    },
    {
      "cell_type": "markdown",
      "source": [
        "LIST-PROJECT IN PYTHON\n"
      ],
      "metadata": {
        "id": "YtC49X9ME-kL"
      }
    },
    {
      "cell_type": "markdown",
      "source": [
        "Problem statement : ABC company conducted an assesssment test to hire a data scientist. The candidates were evaluated on 5 different subject A, B, C, D & E. The marks of 5 different subjects out of 100 are given below. Help the company to ffind out the answers of the following questions:\n"
      ],
      "metadata": {
        "id": "33o_bZp4FJbp"
      }
    },
    {
      "cell_type": "code",
      "source": [
        "#student marks\n",
        "student_marks =[['Name', ['A', 'B', 'C', 'D', 'E']],\n",
        "                ['Ankit', [41, 34, 45, 55, 63]],\n",
        "                 ['Kopila', [42, 23, 34, 44, 53]],\n",
        "                 ['Deepika', [31, 23, 14, 54, 67]],\n",
        "                 ['Ganesh', [23, 82, 24, 63, 34]],\n",
        "                 ['Pranav', [21, 23, 25, 56, 56]],]\n",
        "student_marks"
      ],
      "metadata": {
        "colab": {
          "base_uri": "https://localhost:8080/"
        },
        "id": "H6Haje7CEbSv",
        "outputId": "c3aa36f9-c451-48ee-9d61-75e053865287"
      },
      "execution_count": 44,
      "outputs": [
        {
          "output_type": "execute_result",
          "data": {
            "text/plain": [
              "[['Name', ['A', 'B', 'C', 'D', 'E']],\n",
              " ['Ankit', [41, 34, 45, 55, 63]],\n",
              " ['Kopila', [42, 23, 34, 44, 53]],\n",
              " ['Deepika', [31, 23, 14, 54, 67]],\n",
              " ['Ganesh', [23, 82, 24, 63, 34]],\n",
              " ['Pranav', [21, 23, 25, 56, 56]]]"
            ]
          },
          "metadata": {},
          "execution_count": 44
        }
      ]
    },
    {
      "cell_type": "code",
      "source": [
        "student_marks[0]"
      ],
      "metadata": {
        "colab": {
          "base_uri": "https://localhost:8080/"
        },
        "id": "bJQWITNOHH_O",
        "outputId": "1174ef9d-4932-4851-f6a7-583159833220"
      },
      "execution_count": 45,
      "outputs": [
        {
          "output_type": "execute_result",
          "data": {
            "text/plain": [
              "['Name', ['A', 'B', 'C', 'D', 'E']]"
            ]
          },
          "metadata": {},
          "execution_count": 45
        }
      ]
    },
    {
      "cell_type": "code",
      "source": [
        "student_marks[1][0]"
      ],
      "metadata": {
        "colab": {
          "base_uri": "https://localhost:8080/",
          "height": 36
        },
        "id": "KrrKt9mkSewF",
        "outputId": "830e15f7-6eb8-4191-90a8-b04fc1a0e110"
      },
      "execution_count": 46,
      "outputs": [
        {
          "output_type": "execute_result",
          "data": {
            "text/plain": [
              "'Ankit'"
            ],
            "application/vnd.google.colaboratory.intrinsic+json": {
              "type": "string"
            }
          },
          "metadata": {},
          "execution_count": 46
        }
      ]
    },
    {
      "cell_type": "code",
      "source": [
        "student_marks[2][1][1]"
      ],
      "metadata": {
        "colab": {
          "base_uri": "https://localhost:8080/"
        },
        "id": "gqWKydQISmQh",
        "outputId": "b1a2aea8-e398-4e37-9518-0b3e80d99d91"
      },
      "execution_count": 47,
      "outputs": [
        {
          "output_type": "execute_result",
          "data": {
            "text/plain": [
              "23"
            ]
          },
          "metadata": {},
          "execution_count": 47
        }
      ]
    },
    {
      "cell_type": "markdown",
      "source": [
        "Who scored the highest marks?"
      ],
      "metadata": {
        "id": "xi5U0p6-Swv6"
      }
    },
    {
      "cell_type": "markdown",
      "source": [
        "Step 1 : Select name of student and marks in subject B"
      ],
      "metadata": {
        "id": "8W5EkUTBS-2h"
      }
    },
    {
      "cell_type": "code",
      "source": [
        "for student in student_marks[1:0]:\n",
        "  name = student[0]\n",
        "  marks_in_B = student[1][1]\n",
        "  print(name,marks_in_B)"
      ],
      "metadata": {
        "id": "CutCAtr_SrGs"
      },
      "execution_count": 48,
      "outputs": []
    },
    {
      "cell_type": "markdown",
      "source": [
        "Step 2 : Store the filtered name and marks in another list."
      ],
      "metadata": {
        "id": "6zMGe0-XS6N6"
      }
    },
    {
      "cell_type": "code",
      "source": [
        "#list to store the marks\n",
        "student_with_marks_in_B = []\n",
        "for student in student_marks[1:]:\n",
        "  name = student[0]\n",
        "  marks_in_B = student[1][1]\n",
        "  student_with_marks_in_B.append([marks_in_B,name])"
      ],
      "metadata": {
        "id": "P8TxUO_QTiV-"
      },
      "execution_count": 52,
      "outputs": []
    },
    {
      "cell_type": "code",
      "source": [
        "student_with_marks_in_B"
      ],
      "metadata": {
        "colab": {
          "base_uri": "https://localhost:8080/"
        },
        "id": "mUoR7zLmUEHm",
        "outputId": "76ebf04d-6b58-497c-d399-944d3f579ba1"
      },
      "execution_count": 53,
      "outputs": [
        {
          "output_type": "execute_result",
          "data": {
            "text/plain": [
              "[[34, 'Ankit'],\n",
              " [23, 'Kopila'],\n",
              " [23, 'Deepika'],\n",
              " [82, 'Ganesh'],\n",
              " [23, 'Pranav']]"
            ]
          },
          "metadata": {},
          "execution_count": 53
        }
      ]
    },
    {
      "cell_type": "markdown",
      "source": [
        "Step 3 : Sort the list (We kept the marks as first index)"
      ],
      "metadata": {
        "id": "hH5X7G2xUJq7"
      }
    },
    {
      "cell_type": "code",
      "source": [
        "sorted(student_with_marks_in_B)"
      ],
      "metadata": {
        "colab": {
          "base_uri": "https://localhost:8080/"
        },
        "id": "WAqyLG4lUTa-",
        "outputId": "4aa18598-c5e6-44fa-db59-01d982aa5072"
      },
      "execution_count": 51,
      "outputs": [
        {
          "output_type": "execute_result",
          "data": {
            "text/plain": [
              "[[23, 'Deepika'],\n",
              " [23, 'Kopila'],\n",
              " [23, 'Pranav'],\n",
              " [34, 'Ankit'],\n",
              " [82, 'Ganesh']]"
            ]
          },
          "metadata": {},
          "execution_count": 51
        }
      ]
    },
    {
      "cell_type": "markdown",
      "source": [
        "Step 4 : Get the final index of sorted list"
      ],
      "metadata": {
        "id": "q_VmzZ44UqAn"
      }
    },
    {
      "cell_type": "code",
      "source": [
        "sorted(student_with_marks_in_B)[-1][1]"
      ],
      "metadata": {
        "colab": {
          "base_uri": "https://localhost:8080/",
          "height": 36
        },
        "id": "ijBr6VGNUx5k",
        "outputId": "e99bb775-1e72-45e5-c46e-f005edb9022e"
      },
      "execution_count": 54,
      "outputs": [
        {
          "output_type": "execute_result",
          "data": {
            "text/plain": [
              "'Ganesh'"
            ],
            "application/vnd.google.colaboratory.intrinsic+json": {
              "type": "string"
            }
          },
          "metadata": {},
          "execution_count": 54
        }
      ]
    },
    {
      "cell_type": "markdown",
      "source": [
        "so we got the answer of first quetion,Ganesh has scored the highest score"
      ],
      "metadata": {
        "id": "gPFlNz8lU8IA"
      }
    },
    {
      "cell_type": "code",
      "source": [],
      "metadata": {
        "id": "nyGdAlvcUHJ5"
      },
      "execution_count": null,
      "outputs": []
    }
  ]
}