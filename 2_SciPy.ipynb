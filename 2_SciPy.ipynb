{
  "nbformat": 4,
  "nbformat_minor": 0,
  "metadata": {
    "kernelspec": {
      "display_name": "Python 3",
      "language": "python",
      "name": "python3"
    },
    "language_info": {
      "codemirror_mode": {
        "name": "ipython",
        "version": 3
      },
      "file_extension": ".py",
      "mimetype": "text/x-python",
      "name": "python",
      "nbconvert_exporter": "python",
      "pygments_lexer": "ipython3",
      "version": "3.7.3"
    },
    "colab": {
      "provenance": [],
      "include_colab_link": true
    }
  },
  "cells": [
    {
      "cell_type": "markdown",
      "metadata": {
        "id": "view-in-github",
        "colab_type": "text"
      },
      "source": [
        "<a href=\"https://colab.research.google.com/github/kopiladevkota/Python/blob/main/2_SciPy.ipynb\" target=\"_parent\"><img src=\"https://colab.research.google.com/assets/colab-badge.svg\" alt=\"Open In Colab\"/></a>"
      ]
    },
    {
      "cell_type": "markdown",
      "metadata": {
        "id": "61BL8dcvicf_"
      },
      "source": [
        "---\n",
        "\n",
        "<center><h1>📍 📍 SciPy 📍 📍</h1></center>\n",
        "\n",
        "---\n",
        "\n",
        "***SciPy is a open source scientific library for python. The SciPy library depends on NumPy, which provides convenient and fast N-dimensional array manipulation.***\n",
        "\n",
        "---"
      ]
    },
    {
      "cell_type": "code",
      "metadata": {
        "id": "oNhLoX8vicgJ"
      },
      "source": [
        "# import the scipy library\n",
        "import scipy"
      ],
      "execution_count": null,
      "outputs": []
    },
    {
      "cell_type": "markdown",
      "metadata": {
        "id": "ClP0paC0icgv"
      },
      "source": [
        "***If you got an error while running the above cell, import it by using the following command***\n",
        "\n",
        "***`!pip3 install numpy`***\n",
        "\n",
        "---"
      ]
    },
    {
      "cell_type": "code",
      "metadata": {
        "id": "b2NS9J12icg0"
      },
      "source": [
        "# check the version of scipy\n",
        "scipy.__version__"
      ],
      "execution_count": null,
      "outputs": []
    },
    {
      "cell_type": "markdown",
      "metadata": {
        "id": "kmHln7RwichH"
      },
      "source": [
        "#### `COMPUTE THE Nth DERIVATE OF A FUNCTION`\n",
        "\n",
        "---"
      ]
    },
    {
      "cell_type": "code",
      "metadata": {
        "id": "eAa-m1gCichM"
      },
      "source": [
        "# import the derivative from scipy\n",
        "from scipy.misc import derivative"
      ],
      "execution_count": null,
      "outputs": []
    },
    {
      "cell_type": "code",
      "metadata": {
        "id": "mfs776jQichb"
      },
      "source": [
        "# define the function\n",
        "def my_function(x):\n",
        "    return x**2 + x + 1\n",
        "\n",
        "# calculate the first derivative of the function at x = 2\n",
        "\n",
        "derivative(func= my_function, x0=2)"
      ],
      "execution_count": null,
      "outputs": []
    },
    {
      "cell_type": "markdown",
      "metadata": {
        "id": "RyvIZOGiichp"
      },
      "source": [
        "#### Function: `f(x) = x**2 + x + 1`\n",
        "#### Derivate:  `f'(x) = 2*x + 1`\n",
        "#### Solution:  `f'(2) = 2*2 + 1 = 5`\n",
        "\n",
        "---\n",
        "\n",
        "***Now, calculate the second derivative***\n",
        "\n",
        "---"
      ]
    },
    {
      "cell_type": "code",
      "metadata": {
        "id": "_tvIPnd0icht"
      },
      "source": [
        "derivative(func=my_function,x0=2,n=2)"
      ],
      "execution_count": null,
      "outputs": []
    },
    {
      "cell_type": "markdown",
      "metadata": {
        "id": "Gy-Fxizfich4"
      },
      "source": [
        "---\n",
        "\n",
        "#### `PERMUTATION AND COMBINATIONS`\n",
        "\n",
        "---"
      ]
    },
    {
      "cell_type": "code",
      "metadata": {
        "id": "M8zXWf9Vich8"
      },
      "source": [
        "# COMBINATIONS\n",
        "from scipy.special import comb\n",
        "\n",
        "# total number of combinations from 4 different values taken 2 at a time\n",
        "# Value of 4C2\n",
        "com = comb(4, 2)\n",
        "\n",
        "print(com)"
      ],
      "execution_count": null,
      "outputs": []
    },
    {
      "cell_type": "code",
      "metadata": {
        "id": "r6JsIZMqiciL"
      },
      "source": [
        "# PERMUTATIONS: Value of 4P2\n",
        "from scipy.special import perm\n",
        "per = perm(4, 2)\n",
        "\n",
        "print(per)"
      ],
      "execution_count": null,
      "outputs": []
    },
    {
      "cell_type": "markdown",
      "metadata": {
        "id": "B_W1pIsAiciY"
      },
      "source": [
        "---\n",
        "\n",
        "\n",
        "#### `LINEAR ALGEBRA`\n",
        "\n",
        "\n",
        "\n",
        "---"
      ]
    },
    {
      "cell_type": "code",
      "metadata": {
        "id": "0VpDvrcdicib"
      },
      "source": [
        "# import linear algebra module and numpy\n",
        "from scipy import linalg\n",
        "import numpy as np"
      ],
      "execution_count": null,
      "outputs": []
    },
    {
      "cell_type": "code",
      "metadata": {
        "id": "LNYJZAaTicim"
      },
      "source": [
        "# square matrix\n",
        "matrix = np.array([[1, 5, 2],\n",
        "                   [3, 2, 1],\n",
        "                   [1, 2, 1]])"
      ],
      "execution_count": null,
      "outputs": []
    },
    {
      "cell_type": "code",
      "metadata": {
        "id": "kSOBJvEIiciy"
      },
      "source": [
        "matrix"
      ],
      "execution_count": null,
      "outputs": []
    },
    {
      "cell_type": "code",
      "metadata": {
        "id": "art0Ir25ici-"
      },
      "source": [
        "# pass values to det() function\n",
        "linalg.det(matrix)"
      ],
      "execution_count": null,
      "outputs": []
    },
    {
      "cell_type": "code",
      "metadata": {
        "id": "HFXKWxjPicjK"
      },
      "source": [
        "# inverse of a matrix\n",
        "linalg.inv(matrix)"
      ],
      "execution_count": null,
      "outputs": []
    },
    {
      "cell_type": "markdown",
      "metadata": {
        "id": "hXohnFWticjT"
      },
      "source": [
        "***Learn more about SciPy here: https://docs.scipy.org/doc/***\n",
        "\n",
        "---"
      ]
    }
  ]
}