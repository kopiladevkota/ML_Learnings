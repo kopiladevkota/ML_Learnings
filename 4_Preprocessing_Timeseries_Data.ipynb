{
  "cells": [
    {
      "cell_type": "markdown",
      "metadata": {
        "id": "view-in-github",
        "colab_type": "text"
      },
      "source": [
        "<a href=\"https://colab.research.google.com/github/kopiladevkota/Python/blob/main/4_Preprocessing_Timeseries_Data.ipynb\" target=\"_parent\"><img src=\"https://colab.research.google.com/assets/colab-badge.svg\" alt=\"Open In Colab\"/></a>"
      ]
    },
    {
      "cell_type": "markdown",
      "metadata": {
        "id": "VbQGgiWMTjb6"
      },
      "source": [
        "---\n",
        "\n",
        "<center><h1>📍 📍 Preprocessing Timeseries Data 📍 📍</h1></center>\n",
        "\n",
        "---\n",
        "\n",
        "\n",
        "**`Pandas`** contains extensive capabilities and features for working with time series data for all domains. Using the NumPy datetime64 and timedelta64 dtypes, pandas has consolidated a large number of features from other Python libraries like scikits.timeseries as well as created a tremendous amount of new functionality for manipulating time series data.\n",
        "\n",
        "---"
      ]
    },
    {
      "cell_type": "code",
      "execution_count": null,
      "metadata": {
        "scrolled": false,
        "id": "m16OY41_Tjb8"
      },
      "outputs": [],
      "source": [
        "# importing the pandas library and datetime module of Python Standard Library\n",
        "import pandas as pd\n",
        "import datetime"
      ]
    },
    {
      "cell_type": "code",
      "execution_count": null,
      "metadata": {
        "scrolled": false,
        "id": "4E7tnKUPTjb9"
      },
      "outputs": [],
      "source": [
        "# read the data set\n",
        "data = pd.read_csv('datasets/time_series.csv')"
      ]
    },
    {
      "cell_type": "code",
      "execution_count": null,
      "metadata": {
        "scrolled": false,
        "id": "xHalpbAJTjb9",
        "outputId": "fb06240d-cc75-4bf1-ebee-2243ec9f3cc7"
      },
      "outputs": [
        {
          "data": {
            "text/html": [
              "<div>\n",
              "<style scoped>\n",
              "    .dataframe tbody tr th:only-of-type {\n",
              "        vertical-align: middle;\n",
              "    }\n",
              "\n",
              "    .dataframe tbody tr th {\n",
              "        vertical-align: top;\n",
              "    }\n",
              "\n",
              "    .dataframe thead th {\n",
              "        text-align: right;\n",
              "    }\n",
              "</style>\n",
              "<table border=\"1\" class=\"dataframe\">\n",
              "  <thead>\n",
              "    <tr style=\"text-align: right;\">\n",
              "      <th></th>\n",
              "      <th>ID</th>\n",
              "      <th>Datetime</th>\n",
              "      <th>Count</th>\n",
              "    </tr>\n",
              "  </thead>\n",
              "  <tbody>\n",
              "    <tr>\n",
              "      <td>0</td>\n",
              "      <td>0</td>\n",
              "      <td>25-08-2012 00:00</td>\n",
              "      <td>8</td>\n",
              "    </tr>\n",
              "    <tr>\n",
              "      <td>1</td>\n",
              "      <td>1</td>\n",
              "      <td>25-08-2012 01:00</td>\n",
              "      <td>2</td>\n",
              "    </tr>\n",
              "    <tr>\n",
              "      <td>2</td>\n",
              "      <td>2</td>\n",
              "      <td>25-08-2012 02:00</td>\n",
              "      <td>6</td>\n",
              "    </tr>\n",
              "    <tr>\n",
              "      <td>3</td>\n",
              "      <td>3</td>\n",
              "      <td>25-08-2012 03:00</td>\n",
              "      <td>2</td>\n",
              "    </tr>\n",
              "    <tr>\n",
              "      <td>4</td>\n",
              "      <td>4</td>\n",
              "      <td>25-08-2012 04:00</td>\n",
              "      <td>2</td>\n",
              "    </tr>\n",
              "  </tbody>\n",
              "</table>\n",
              "</div>"
            ],
            "text/plain": [
              "   ID          Datetime  Count\n",
              "0   0  25-08-2012 00:00      8\n",
              "1   1  25-08-2012 01:00      2\n",
              "2   2  25-08-2012 02:00      6\n",
              "3   3  25-08-2012 03:00      2\n",
              "4   4  25-08-2012 04:00      2"
            ]
          },
          "execution_count": 103,
          "metadata": {},
          "output_type": "execute_result"
        }
      ],
      "source": [
        "# view the top rows\n",
        "data.head(5)"
      ]
    },
    {
      "cell_type": "markdown",
      "metadata": {
        "id": "4EwmdlPmTjb-"
      },
      "source": [
        "---\n",
        "\n",
        "***Data Types of columns***\n",
        "\n",
        "---"
      ]
    },
    {
      "cell_type": "code",
      "execution_count": null,
      "metadata": {
        "scrolled": false,
        "id": "GEoBJA0qTjb-",
        "outputId": "34cce59d-cdc2-4a57-f30f-a2c3c43937d1"
      },
      "outputs": [
        {
          "data": {
            "text/plain": [
              "ID           int64\n",
              "Datetime    object\n",
              "Count        int64\n",
              "dtype: object"
            ]
          },
          "execution_count": 104,
          "metadata": {},
          "output_type": "execute_result"
        }
      ],
      "source": [
        "data.dtypes"
      ]
    },
    {
      "cell_type": "markdown",
      "metadata": {
        "id": "SsXIhKfTTjb_"
      },
      "source": [
        "***By Default: All datetime based columns are considered as strings.***\n",
        "\n",
        "---\n",
        "\n",
        "#### `CHANGE THE DATA TYPE TO DATETIME`\n",
        "\n",
        "---"
      ]
    },
    {
      "cell_type": "code",
      "execution_count": null,
      "metadata": {
        "scrolled": false,
        "id": "e4vOviRPTjb_"
      },
      "outputs": [],
      "source": [
        "# change type to datetime\n",
        "data.Datetime = pd.to_datetime(data.Datetime)"
      ]
    },
    {
      "cell_type": "code",
      "execution_count": null,
      "metadata": {
        "scrolled": false,
        "id": "um8GWoxVTjb_",
        "outputId": "c79ed98a-ba76-4bfa-e682-aa00c5c6b2be"
      },
      "outputs": [
        {
          "data": {
            "text/plain": [
              "ID                   int64\n",
              "Datetime    datetime64[ns]\n",
              "Count                int64\n",
              "dtype: object"
            ]
          },
          "execution_count": 106,
          "metadata": {},
          "output_type": "execute_result"
        }
      ],
      "source": [
        "# check the data types again\n",
        "data.dtypes"
      ]
    },
    {
      "cell_type": "code",
      "execution_count": null,
      "metadata": {
        "scrolled": false,
        "id": "F0wPPFIlTjcA",
        "outputId": "ee498b56-0aa1-4c3d-bdd5-3de067b23899"
      },
      "outputs": [
        {
          "data": {
            "text/html": [
              "<div>\n",
              "<style scoped>\n",
              "    .dataframe tbody tr th:only-of-type {\n",
              "        vertical-align: middle;\n",
              "    }\n",
              "\n",
              "    .dataframe tbody tr th {\n",
              "        vertical-align: top;\n",
              "    }\n",
              "\n",
              "    .dataframe thead th {\n",
              "        text-align: right;\n",
              "    }\n",
              "</style>\n",
              "<table border=\"1\" class=\"dataframe\">\n",
              "  <thead>\n",
              "    <tr style=\"text-align: right;\">\n",
              "      <th></th>\n",
              "      <th>ID</th>\n",
              "      <th>Datetime</th>\n",
              "      <th>Count</th>\n",
              "    </tr>\n",
              "  </thead>\n",
              "  <tbody>\n",
              "    <tr>\n",
              "      <td>0</td>\n",
              "      <td>0</td>\n",
              "      <td>2012-08-25 00:00:00</td>\n",
              "      <td>8</td>\n",
              "    </tr>\n",
              "    <tr>\n",
              "      <td>1</td>\n",
              "      <td>1</td>\n",
              "      <td>2012-08-25 01:00:00</td>\n",
              "      <td>2</td>\n",
              "    </tr>\n",
              "    <tr>\n",
              "      <td>2</td>\n",
              "      <td>2</td>\n",
              "      <td>2012-08-25 02:00:00</td>\n",
              "      <td>6</td>\n",
              "    </tr>\n",
              "    <tr>\n",
              "      <td>3</td>\n",
              "      <td>3</td>\n",
              "      <td>2012-08-25 03:00:00</td>\n",
              "      <td>2</td>\n",
              "    </tr>\n",
              "    <tr>\n",
              "      <td>4</td>\n",
              "      <td>4</td>\n",
              "      <td>2012-08-25 04:00:00</td>\n",
              "      <td>2</td>\n",
              "    </tr>\n",
              "    <tr>\n",
              "      <td>...</td>\n",
              "      <td>...</td>\n",
              "      <td>...</td>\n",
              "      <td>...</td>\n",
              "    </tr>\n",
              "    <tr>\n",
              "      <td>18283</td>\n",
              "      <td>18283</td>\n",
              "      <td>2014-09-25 19:00:00</td>\n",
              "      <td>868</td>\n",
              "    </tr>\n",
              "    <tr>\n",
              "      <td>18284</td>\n",
              "      <td>18284</td>\n",
              "      <td>2014-09-25 20:00:00</td>\n",
              "      <td>732</td>\n",
              "    </tr>\n",
              "    <tr>\n",
              "      <td>18285</td>\n",
              "      <td>18285</td>\n",
              "      <td>2014-09-25 21:00:00</td>\n",
              "      <td>702</td>\n",
              "    </tr>\n",
              "    <tr>\n",
              "      <td>18286</td>\n",
              "      <td>18286</td>\n",
              "      <td>2014-09-25 22:00:00</td>\n",
              "      <td>580</td>\n",
              "    </tr>\n",
              "    <tr>\n",
              "      <td>18287</td>\n",
              "      <td>18287</td>\n",
              "      <td>2014-09-25 23:00:00</td>\n",
              "      <td>534</td>\n",
              "    </tr>\n",
              "  </tbody>\n",
              "</table>\n",
              "<p>18288 rows × 3 columns</p>\n",
              "</div>"
            ],
            "text/plain": [
              "          ID            Datetime  Count\n",
              "0          0 2012-08-25 00:00:00      8\n",
              "1          1 2012-08-25 01:00:00      2\n",
              "2          2 2012-08-25 02:00:00      6\n",
              "3          3 2012-08-25 03:00:00      2\n",
              "4          4 2012-08-25 04:00:00      2\n",
              "...      ...                 ...    ...\n",
              "18283  18283 2014-09-25 19:00:00    868\n",
              "18284  18284 2014-09-25 20:00:00    732\n",
              "18285  18285 2014-09-25 21:00:00    702\n",
              "18286  18286 2014-09-25 22:00:00    580\n",
              "18287  18287 2014-09-25 23:00:00    534\n",
              "\n",
              "[18288 rows x 3 columns]"
            ]
          },
          "execution_count": 107,
          "metadata": {},
          "output_type": "execute_result"
        }
      ],
      "source": [
        "data"
      ]
    },
    {
      "cell_type": "code",
      "execution_count": null,
      "metadata": {
        "scrolled": false,
        "id": "kqlvu-tsTjcA",
        "outputId": "a26b532e-3e8f-47a6-bb17-d5b17e3b3a27"
      },
      "outputs": [
        {
          "data": {
            "text/plain": [
              "0        Saturday\n",
              "1        Saturday\n",
              "2        Saturday\n",
              "3        Saturday\n",
              "4        Saturday\n",
              "           ...   \n",
              "18283    Thursday\n",
              "18284    Thursday\n",
              "18285    Thursday\n",
              "18286    Thursday\n",
              "18287    Thursday\n",
              "Name: Datetime, Length: 18288, dtype: object"
            ]
          },
          "execution_count": 108,
          "metadata": {},
          "output_type": "execute_result"
        }
      ],
      "source": [
        "data.Datetime.apply(lambda x: x.day_name())"
      ]
    },
    {
      "cell_type": "code",
      "execution_count": null,
      "metadata": {
        "scrolled": false,
        "id": "d3xUGX2ITjcA",
        "outputId": "f69d8479-2a11-404b-f7e0-1ef37570c997"
      },
      "outputs": [
        {
          "data": {
            "text/plain": [
              "0           August\n",
              "1           August\n",
              "2           August\n",
              "3           August\n",
              "4           August\n",
              "           ...    \n",
              "18283    September\n",
              "18284    September\n",
              "18285    September\n",
              "18286    September\n",
              "18287    September\n",
              "Name: Datetime, Length: 18288, dtype: object"
            ]
          },
          "execution_count": 109,
          "metadata": {},
          "output_type": "execute_result"
        }
      ],
      "source": [
        "data.Datetime.apply(lambda x: x.month_name())"
      ]
    },
    {
      "cell_type": "markdown",
      "metadata": {
        "id": "82OsbfF9TjcA"
      },
      "source": [
        "---\n",
        "\n",
        "***Let's see another data file with the time series data.***\n",
        "\n",
        "---"
      ]
    },
    {
      "cell_type": "code",
      "execution_count": null,
      "metadata": {
        "scrolled": false,
        "id": "HBvIXantTjcA"
      },
      "outputs": [],
      "source": [
        "data_2 = pd.read_csv('datasets/time_series_2.csv')"
      ]
    },
    {
      "cell_type": "code",
      "execution_count": null,
      "metadata": {
        "scrolled": false,
        "id": "44kJIiAlTjcB",
        "outputId": "9fd51238-0779-4e89-b95b-6c6ebdb101cb"
      },
      "outputs": [
        {
          "data": {
            "text/html": [
              "<div>\n",
              "<style scoped>\n",
              "    .dataframe tbody tr th:only-of-type {\n",
              "        vertical-align: middle;\n",
              "    }\n",
              "\n",
              "    .dataframe tbody tr th {\n",
              "        vertical-align: top;\n",
              "    }\n",
              "\n",
              "    .dataframe thead th {\n",
              "        text-align: right;\n",
              "    }\n",
              "</style>\n",
              "<table border=\"1\" class=\"dataframe\">\n",
              "  <thead>\n",
              "    <tr style=\"text-align: right;\">\n",
              "      <th></th>\n",
              "      <th>ID</th>\n",
              "      <th>Datetime</th>\n",
              "      <th>Count</th>\n",
              "    </tr>\n",
              "  </thead>\n",
              "  <tbody>\n",
              "    <tr>\n",
              "      <td>0</td>\n",
              "      <td>0</td>\n",
              "      <td>25 Aug 2012</td>\n",
              "      <td>8</td>\n",
              "    </tr>\n",
              "    <tr>\n",
              "      <td>1</td>\n",
              "      <td>1</td>\n",
              "      <td>25 Aug 2012</td>\n",
              "      <td>2</td>\n",
              "    </tr>\n",
              "    <tr>\n",
              "      <td>2</td>\n",
              "      <td>2</td>\n",
              "      <td>25 Aug 2012</td>\n",
              "      <td>6</td>\n",
              "    </tr>\n",
              "    <tr>\n",
              "      <td>3</td>\n",
              "      <td>3</td>\n",
              "      <td>25 Aug 2012</td>\n",
              "      <td>2</td>\n",
              "    </tr>\n",
              "    <tr>\n",
              "      <td>4</td>\n",
              "      <td>4</td>\n",
              "      <td>25 Aug 2012</td>\n",
              "      <td>2</td>\n",
              "    </tr>\n",
              "    <tr>\n",
              "      <td>...</td>\n",
              "      <td>...</td>\n",
              "      <td>...</td>\n",
              "      <td>...</td>\n",
              "    </tr>\n",
              "    <tr>\n",
              "      <td>18283</td>\n",
              "      <td>18283</td>\n",
              "      <td>25 Sep 2014</td>\n",
              "      <td>868</td>\n",
              "    </tr>\n",
              "    <tr>\n",
              "      <td>18284</td>\n",
              "      <td>18284</td>\n",
              "      <td>25 Sep 2014</td>\n",
              "      <td>732</td>\n",
              "    </tr>\n",
              "    <tr>\n",
              "      <td>18285</td>\n",
              "      <td>18285</td>\n",
              "      <td>25 Sep 2014</td>\n",
              "      <td>702</td>\n",
              "    </tr>\n",
              "    <tr>\n",
              "      <td>18286</td>\n",
              "      <td>18286</td>\n",
              "      <td>25 Sep 2014</td>\n",
              "      <td>580</td>\n",
              "    </tr>\n",
              "    <tr>\n",
              "      <td>18287</td>\n",
              "      <td>18287</td>\n",
              "      <td>25 Sep 2014</td>\n",
              "      <td>534</td>\n",
              "    </tr>\n",
              "  </tbody>\n",
              "</table>\n",
              "<p>18288 rows × 3 columns</p>\n",
              "</div>"
            ],
            "text/plain": [
              "          ID      Datetime  Count\n",
              "0          0  25 Aug 2012       8\n",
              "1          1  25 Aug 2012       2\n",
              "2          2  25 Aug 2012       6\n",
              "3          3  25 Aug 2012       2\n",
              "4          4  25 Aug 2012       2\n",
              "...      ...           ...    ...\n",
              "18283  18283  25 Sep 2014     868\n",
              "18284  18284  25 Sep 2014     732\n",
              "18285  18285  25 Sep 2014     702\n",
              "18286  18286  25 Sep 2014     580\n",
              "18287  18287  25 Sep 2014     534\n",
              "\n",
              "[18288 rows x 3 columns]"
            ]
          },
          "execution_count": 112,
          "metadata": {},
          "output_type": "execute_result"
        }
      ],
      "source": [
        "# view the top rows of the data\n",
        "data_2"
      ]
    },
    {
      "cell_type": "markdown",
      "metadata": {
        "id": "LNQVpadFTjcB"
      },
      "source": [
        "---\n",
        "\n",
        "***We can read the date time by specifying the format.***\n",
        "\n",
        "***Here are some of the common used directives.***\n",
        "\n",
        "----"
      ]
    },
    {
      "cell_type": "markdown",
      "metadata": {
        "id": "Ip2xzJOTTjcB"
      },
      "source": [
        "| **Directive** | **Meaning**                                            |\n",
        "| ---           | ---                                                    |\n",
        "|  **%a**       | Weekday as locale’s abbreviated name.                  |\n",
        "|  **%A**       | Weekday as locale’s full name.                         |  \n",
        "|  **%d**       | Day of the month as a zero-padded decimal number.      |\n",
        "|  **%b**       | Month as locale’s abbreviated name.\t                 |\n",
        "|  **%B**       | Month as locale’s full name.\t                         |\n",
        "|  **%m**       | Month as a zero-padded decimal number.                 |\n",
        "|  **%y**       | Year without century as a zero-padded decimal number.  |\n",
        "|  **%Y**       | Year with century as a decimal number.                 |\n",
        "|  **%H**       | Hour (24-hour clock) as a zero-padded decimal number.  |\n",
        "\n",
        "---\n",
        "\n",
        "***You can read more about the other directives and datetime library here: https://docs.python.org/3/library/datetime.html***\n",
        "\n",
        "---"
      ]
    },
    {
      "cell_type": "code",
      "execution_count": null,
      "metadata": {
        "scrolled": false,
        "id": "ZHk4lVTbTjcB"
      },
      "outputs": [],
      "source": [
        "# convert to datetime by specifying the data time format\n",
        "data_2.Datetime = pd.to_datetime(data_2.Datetime, format=\"%d %b %Y \")"
      ]
    },
    {
      "cell_type": "code",
      "execution_count": null,
      "metadata": {
        "scrolled": false,
        "id": "yzxKFfeKTjcB",
        "outputId": "8853dff2-a3a2-40eb-d4c0-e6a0c1cf5824"
      },
      "outputs": [
        {
          "data": {
            "text/html": [
              "<div>\n",
              "<style scoped>\n",
              "    .dataframe tbody tr th:only-of-type {\n",
              "        vertical-align: middle;\n",
              "    }\n",
              "\n",
              "    .dataframe tbody tr th {\n",
              "        vertical-align: top;\n",
              "    }\n",
              "\n",
              "    .dataframe thead th {\n",
              "        text-align: right;\n",
              "    }\n",
              "</style>\n",
              "<table border=\"1\" class=\"dataframe\">\n",
              "  <thead>\n",
              "    <tr style=\"text-align: right;\">\n",
              "      <th></th>\n",
              "      <th>ID</th>\n",
              "      <th>Datetime</th>\n",
              "      <th>Count</th>\n",
              "    </tr>\n",
              "  </thead>\n",
              "  <tbody>\n",
              "    <tr>\n",
              "      <td>0</td>\n",
              "      <td>0</td>\n",
              "      <td>2012-08-25</td>\n",
              "      <td>8</td>\n",
              "    </tr>\n",
              "    <tr>\n",
              "      <td>1</td>\n",
              "      <td>1</td>\n",
              "      <td>2012-08-25</td>\n",
              "      <td>2</td>\n",
              "    </tr>\n",
              "    <tr>\n",
              "      <td>2</td>\n",
              "      <td>2</td>\n",
              "      <td>2012-08-25</td>\n",
              "      <td>6</td>\n",
              "    </tr>\n",
              "    <tr>\n",
              "      <td>3</td>\n",
              "      <td>3</td>\n",
              "      <td>2012-08-25</td>\n",
              "      <td>2</td>\n",
              "    </tr>\n",
              "    <tr>\n",
              "      <td>4</td>\n",
              "      <td>4</td>\n",
              "      <td>2012-08-25</td>\n",
              "      <td>2</td>\n",
              "    </tr>\n",
              "  </tbody>\n",
              "</table>\n",
              "</div>"
            ],
            "text/plain": [
              "   ID   Datetime  Count\n",
              "0   0 2012-08-25      8\n",
              "1   1 2012-08-25      2\n",
              "2   2 2012-08-25      6\n",
              "3   3 2012-08-25      2\n",
              "4   4 2012-08-25      2"
            ]
          },
          "execution_count": 114,
          "metadata": {},
          "output_type": "execute_result"
        }
      ],
      "source": [
        "data_2.head()"
      ]
    },
    {
      "cell_type": "markdown",
      "metadata": {
        "id": "kwUoPz5kTjcB"
      },
      "source": [
        "---\n",
        "\n",
        "#### `TIME BASED FEATURES`\n",
        "\n",
        "---\n",
        "\n",
        "\n",
        "---\n",
        "\n",
        "***Create features like `month` and `month_name` from the data.***\n",
        "\n",
        "---"
      ]
    },
    {
      "cell_type": "code",
      "execution_count": null,
      "metadata": {
        "scrolled": false,
        "id": "NbNUX1HzTjcB",
        "outputId": "4abb9e3b-e630-400e-af48-4a61886695f9"
      },
      "outputs": [
        {
          "data": {
            "text/html": [
              "<div>\n",
              "<style scoped>\n",
              "    .dataframe tbody tr th:only-of-type {\n",
              "        vertical-align: middle;\n",
              "    }\n",
              "\n",
              "    .dataframe tbody tr th {\n",
              "        vertical-align: top;\n",
              "    }\n",
              "\n",
              "    .dataframe thead th {\n",
              "        text-align: right;\n",
              "    }\n",
              "</style>\n",
              "<table border=\"1\" class=\"dataframe\">\n",
              "  <thead>\n",
              "    <tr style=\"text-align: right;\">\n",
              "      <th></th>\n",
              "      <th>ID</th>\n",
              "      <th>Datetime</th>\n",
              "      <th>Count</th>\n",
              "    </tr>\n",
              "  </thead>\n",
              "  <tbody>\n",
              "    <tr>\n",
              "      <td>0</td>\n",
              "      <td>0</td>\n",
              "      <td>2012-08-25 00:00:00</td>\n",
              "      <td>8</td>\n",
              "    </tr>\n",
              "    <tr>\n",
              "      <td>1</td>\n",
              "      <td>1</td>\n",
              "      <td>2012-08-25 01:00:00</td>\n",
              "      <td>2</td>\n",
              "    </tr>\n",
              "    <tr>\n",
              "      <td>2</td>\n",
              "      <td>2</td>\n",
              "      <td>2012-08-25 02:00:00</td>\n",
              "      <td>6</td>\n",
              "    </tr>\n",
              "    <tr>\n",
              "      <td>3</td>\n",
              "      <td>3</td>\n",
              "      <td>2012-08-25 03:00:00</td>\n",
              "      <td>2</td>\n",
              "    </tr>\n",
              "    <tr>\n",
              "      <td>4</td>\n",
              "      <td>4</td>\n",
              "      <td>2012-08-25 04:00:00</td>\n",
              "      <td>2</td>\n",
              "    </tr>\n",
              "    <tr>\n",
              "      <td>...</td>\n",
              "      <td>...</td>\n",
              "      <td>...</td>\n",
              "      <td>...</td>\n",
              "    </tr>\n",
              "    <tr>\n",
              "      <td>18283</td>\n",
              "      <td>18283</td>\n",
              "      <td>2014-09-25 19:00:00</td>\n",
              "      <td>868</td>\n",
              "    </tr>\n",
              "    <tr>\n",
              "      <td>18284</td>\n",
              "      <td>18284</td>\n",
              "      <td>2014-09-25 20:00:00</td>\n",
              "      <td>732</td>\n",
              "    </tr>\n",
              "    <tr>\n",
              "      <td>18285</td>\n",
              "      <td>18285</td>\n",
              "      <td>2014-09-25 21:00:00</td>\n",
              "      <td>702</td>\n",
              "    </tr>\n",
              "    <tr>\n",
              "      <td>18286</td>\n",
              "      <td>18286</td>\n",
              "      <td>2014-09-25 22:00:00</td>\n",
              "      <td>580</td>\n",
              "    </tr>\n",
              "    <tr>\n",
              "      <td>18287</td>\n",
              "      <td>18287</td>\n",
              "      <td>2014-09-25 23:00:00</td>\n",
              "      <td>534</td>\n",
              "    </tr>\n",
              "  </tbody>\n",
              "</table>\n",
              "<p>18288 rows × 3 columns</p>\n",
              "</div>"
            ],
            "text/plain": [
              "          ID            Datetime  Count\n",
              "0          0 2012-08-25 00:00:00      8\n",
              "1          1 2012-08-25 01:00:00      2\n",
              "2          2 2012-08-25 02:00:00      6\n",
              "3          3 2012-08-25 03:00:00      2\n",
              "4          4 2012-08-25 04:00:00      2\n",
              "...      ...                 ...    ...\n",
              "18283  18283 2014-09-25 19:00:00    868\n",
              "18284  18284 2014-09-25 20:00:00    732\n",
              "18285  18285 2014-09-25 21:00:00    702\n",
              "18286  18286 2014-09-25 22:00:00    580\n",
              "18287  18287 2014-09-25 23:00:00    534\n",
              "\n",
              "[18288 rows x 3 columns]"
            ]
          },
          "execution_count": 115,
          "metadata": {},
          "output_type": "execute_result"
        }
      ],
      "source": [
        "data"
      ]
    },
    {
      "cell_type": "code",
      "execution_count": null,
      "metadata": {
        "scrolled": false,
        "id": "uUHi43aRTjcC"
      },
      "outputs": [],
      "source": [
        "# create month and month_name\n",
        "data['month'] = data.Datetime.dt.month\n",
        "data['month_name'] = data.Datetime.dt.month_name()"
      ]
    },
    {
      "cell_type": "code",
      "execution_count": null,
      "metadata": {
        "scrolled": false,
        "id": "MmDe6ePxTjcC",
        "outputId": "acb0ba79-f8fe-4db2-d146-765e20283985"
      },
      "outputs": [
        {
          "data": {
            "text/html": [
              "<div>\n",
              "<style scoped>\n",
              "    .dataframe tbody tr th:only-of-type {\n",
              "        vertical-align: middle;\n",
              "    }\n",
              "\n",
              "    .dataframe tbody tr th {\n",
              "        vertical-align: top;\n",
              "    }\n",
              "\n",
              "    .dataframe thead th {\n",
              "        text-align: right;\n",
              "    }\n",
              "</style>\n",
              "<table border=\"1\" class=\"dataframe\">\n",
              "  <thead>\n",
              "    <tr style=\"text-align: right;\">\n",
              "      <th></th>\n",
              "      <th>ID</th>\n",
              "      <th>Datetime</th>\n",
              "      <th>Count</th>\n",
              "      <th>month</th>\n",
              "      <th>month_name</th>\n",
              "    </tr>\n",
              "  </thead>\n",
              "  <tbody>\n",
              "    <tr>\n",
              "      <td>0</td>\n",
              "      <td>0</td>\n",
              "      <td>2012-08-25 00:00:00</td>\n",
              "      <td>8</td>\n",
              "      <td>8</td>\n",
              "      <td>August</td>\n",
              "    </tr>\n",
              "    <tr>\n",
              "      <td>1</td>\n",
              "      <td>1</td>\n",
              "      <td>2012-08-25 01:00:00</td>\n",
              "      <td>2</td>\n",
              "      <td>8</td>\n",
              "      <td>August</td>\n",
              "    </tr>\n",
              "    <tr>\n",
              "      <td>2</td>\n",
              "      <td>2</td>\n",
              "      <td>2012-08-25 02:00:00</td>\n",
              "      <td>6</td>\n",
              "      <td>8</td>\n",
              "      <td>August</td>\n",
              "    </tr>\n",
              "    <tr>\n",
              "      <td>3</td>\n",
              "      <td>3</td>\n",
              "      <td>2012-08-25 03:00:00</td>\n",
              "      <td>2</td>\n",
              "      <td>8</td>\n",
              "      <td>August</td>\n",
              "    </tr>\n",
              "    <tr>\n",
              "      <td>4</td>\n",
              "      <td>4</td>\n",
              "      <td>2012-08-25 04:00:00</td>\n",
              "      <td>2</td>\n",
              "      <td>8</td>\n",
              "      <td>August</td>\n",
              "    </tr>\n",
              "    <tr>\n",
              "      <td>...</td>\n",
              "      <td>...</td>\n",
              "      <td>...</td>\n",
              "      <td>...</td>\n",
              "      <td>...</td>\n",
              "      <td>...</td>\n",
              "    </tr>\n",
              "    <tr>\n",
              "      <td>18283</td>\n",
              "      <td>18283</td>\n",
              "      <td>2014-09-25 19:00:00</td>\n",
              "      <td>868</td>\n",
              "      <td>9</td>\n",
              "      <td>September</td>\n",
              "    </tr>\n",
              "    <tr>\n",
              "      <td>18284</td>\n",
              "      <td>18284</td>\n",
              "      <td>2014-09-25 20:00:00</td>\n",
              "      <td>732</td>\n",
              "      <td>9</td>\n",
              "      <td>September</td>\n",
              "    </tr>\n",
              "    <tr>\n",
              "      <td>18285</td>\n",
              "      <td>18285</td>\n",
              "      <td>2014-09-25 21:00:00</td>\n",
              "      <td>702</td>\n",
              "      <td>9</td>\n",
              "      <td>September</td>\n",
              "    </tr>\n",
              "    <tr>\n",
              "      <td>18286</td>\n",
              "      <td>18286</td>\n",
              "      <td>2014-09-25 22:00:00</td>\n",
              "      <td>580</td>\n",
              "      <td>9</td>\n",
              "      <td>September</td>\n",
              "    </tr>\n",
              "    <tr>\n",
              "      <td>18287</td>\n",
              "      <td>18287</td>\n",
              "      <td>2014-09-25 23:00:00</td>\n",
              "      <td>534</td>\n",
              "      <td>9</td>\n",
              "      <td>September</td>\n",
              "    </tr>\n",
              "  </tbody>\n",
              "</table>\n",
              "<p>18288 rows × 5 columns</p>\n",
              "</div>"
            ],
            "text/plain": [
              "          ID            Datetime  Count  month month_name\n",
              "0          0 2012-08-25 00:00:00      8      8     August\n",
              "1          1 2012-08-25 01:00:00      2      8     August\n",
              "2          2 2012-08-25 02:00:00      6      8     August\n",
              "3          3 2012-08-25 03:00:00      2      8     August\n",
              "4          4 2012-08-25 04:00:00      2      8     August\n",
              "...      ...                 ...    ...    ...        ...\n",
              "18283  18283 2014-09-25 19:00:00    868      9  September\n",
              "18284  18284 2014-09-25 20:00:00    732      9  September\n",
              "18285  18285 2014-09-25 21:00:00    702      9  September\n",
              "18286  18286 2014-09-25 22:00:00    580      9  September\n",
              "18287  18287 2014-09-25 23:00:00    534      9  September\n",
              "\n",
              "[18288 rows x 5 columns]"
            ]
          },
          "execution_count": 118,
          "metadata": {},
          "output_type": "execute_result"
        }
      ],
      "source": [
        "# view the data\n",
        "data"
      ]
    },
    {
      "cell_type": "markdown",
      "metadata": {
        "id": "lolUL1fxTjcC"
      },
      "source": [
        "---\n",
        "\n",
        "***Create `day_name`, `day_of_week`, & `day_of_year`***\n",
        "\n",
        "---"
      ]
    },
    {
      "cell_type": "code",
      "execution_count": null,
      "metadata": {
        "scrolled": false,
        "id": "VmJ-ImcNTjcC"
      },
      "outputs": [],
      "source": [
        "# create features\n",
        "data['day_name'] = data.Datetime.dt.day_name()\n",
        "data['day_of_week'] = data.Datetime.dt.dayofweek\n",
        "data['day_of_year'] = data.Datetime.dt.dayofyear"
      ]
    },
    {
      "cell_type": "code",
      "execution_count": null,
      "metadata": {
        "scrolled": false,
        "id": "qqJnpQdQTjcD",
        "outputId": "40c038f3-cab6-4425-b987-b93318ec2320"
      },
      "outputs": [
        {
          "data": {
            "text/html": [
              "<div>\n",
              "<style scoped>\n",
              "    .dataframe tbody tr th:only-of-type {\n",
              "        vertical-align: middle;\n",
              "    }\n",
              "\n",
              "    .dataframe tbody tr th {\n",
              "        vertical-align: top;\n",
              "    }\n",
              "\n",
              "    .dataframe thead th {\n",
              "        text-align: right;\n",
              "    }\n",
              "</style>\n",
              "<table border=\"1\" class=\"dataframe\">\n",
              "  <thead>\n",
              "    <tr style=\"text-align: right;\">\n",
              "      <th></th>\n",
              "      <th>ID</th>\n",
              "      <th>Datetime</th>\n",
              "      <th>Count</th>\n",
              "      <th>month</th>\n",
              "      <th>month_name</th>\n",
              "      <th>day_name</th>\n",
              "      <th>day_of_week</th>\n",
              "      <th>day_of_year</th>\n",
              "    </tr>\n",
              "  </thead>\n",
              "  <tbody>\n",
              "    <tr>\n",
              "      <td>0</td>\n",
              "      <td>0</td>\n",
              "      <td>2012-08-25 00:00:00</td>\n",
              "      <td>8</td>\n",
              "      <td>8</td>\n",
              "      <td>August</td>\n",
              "      <td>Saturday</td>\n",
              "      <td>5</td>\n",
              "      <td>238</td>\n",
              "    </tr>\n",
              "    <tr>\n",
              "      <td>1</td>\n",
              "      <td>1</td>\n",
              "      <td>2012-08-25 01:00:00</td>\n",
              "      <td>2</td>\n",
              "      <td>8</td>\n",
              "      <td>August</td>\n",
              "      <td>Saturday</td>\n",
              "      <td>5</td>\n",
              "      <td>238</td>\n",
              "    </tr>\n",
              "    <tr>\n",
              "      <td>2</td>\n",
              "      <td>2</td>\n",
              "      <td>2012-08-25 02:00:00</td>\n",
              "      <td>6</td>\n",
              "      <td>8</td>\n",
              "      <td>August</td>\n",
              "      <td>Saturday</td>\n",
              "      <td>5</td>\n",
              "      <td>238</td>\n",
              "    </tr>\n",
              "    <tr>\n",
              "      <td>3</td>\n",
              "      <td>3</td>\n",
              "      <td>2012-08-25 03:00:00</td>\n",
              "      <td>2</td>\n",
              "      <td>8</td>\n",
              "      <td>August</td>\n",
              "      <td>Saturday</td>\n",
              "      <td>5</td>\n",
              "      <td>238</td>\n",
              "    </tr>\n",
              "    <tr>\n",
              "      <td>4</td>\n",
              "      <td>4</td>\n",
              "      <td>2012-08-25 04:00:00</td>\n",
              "      <td>2</td>\n",
              "      <td>8</td>\n",
              "      <td>August</td>\n",
              "      <td>Saturday</td>\n",
              "      <td>5</td>\n",
              "      <td>238</td>\n",
              "    </tr>\n",
              "  </tbody>\n",
              "</table>\n",
              "</div>"
            ],
            "text/plain": [
              "   ID            Datetime  Count  month month_name  day_name  day_of_week  \\\n",
              "0   0 2012-08-25 00:00:00      8      8     August  Saturday            5   \n",
              "1   1 2012-08-25 01:00:00      2      8     August  Saturday            5   \n",
              "2   2 2012-08-25 02:00:00      6      8     August  Saturday            5   \n",
              "3   3 2012-08-25 03:00:00      2      8     August  Saturday            5   \n",
              "4   4 2012-08-25 04:00:00      2      8     August  Saturday            5   \n",
              "\n",
              "   day_of_year  \n",
              "0          238  \n",
              "1          238  \n",
              "2          238  \n",
              "3          238  \n",
              "4          238  "
            ]
          },
          "execution_count": 120,
          "metadata": {},
          "output_type": "execute_result"
        }
      ],
      "source": [
        "# view the data\n",
        "data.head()"
      ]
    },
    {
      "cell_type": "markdown",
      "metadata": {
        "id": "t-ugwpOFTjcD"
      },
      "source": [
        "\n",
        "\n",
        "---\n",
        "\n",
        "#### `DIFFERENCE BETWEEN 2 DATES`\n",
        "\n",
        "---\n",
        "\n",
        "\n",
        "***Add the current date in the new column***\n",
        "\n",
        "---"
      ]
    },
    {
      "cell_type": "code",
      "execution_count": null,
      "metadata": {
        "id": "dpzjJiqnTjcD",
        "outputId": "bbe39450-d0ff-45e2-a6dd-86eec8922e7f"
      },
      "outputs": [
        {
          "data": {
            "text/html": [
              "<div>\n",
              "<style scoped>\n",
              "    .dataframe tbody tr th:only-of-type {\n",
              "        vertical-align: middle;\n",
              "    }\n",
              "\n",
              "    .dataframe tbody tr th {\n",
              "        vertical-align: top;\n",
              "    }\n",
              "\n",
              "    .dataframe thead th {\n",
              "        text-align: right;\n",
              "    }\n",
              "</style>\n",
              "<table border=\"1\" class=\"dataframe\">\n",
              "  <thead>\n",
              "    <tr style=\"text-align: right;\">\n",
              "      <th></th>\n",
              "      <th>ID</th>\n",
              "      <th>Datetime</th>\n",
              "      <th>Count</th>\n",
              "      <th>month</th>\n",
              "      <th>month_name</th>\n",
              "      <th>day_name</th>\n",
              "      <th>day_of_week</th>\n",
              "      <th>day_of_year</th>\n",
              "    </tr>\n",
              "  </thead>\n",
              "  <tbody>\n",
              "    <tr>\n",
              "      <td>0</td>\n",
              "      <td>0</td>\n",
              "      <td>2012-08-25 00:00:00</td>\n",
              "      <td>8</td>\n",
              "      <td>8</td>\n",
              "      <td>August</td>\n",
              "      <td>Saturday</td>\n",
              "      <td>5</td>\n",
              "      <td>238</td>\n",
              "    </tr>\n",
              "    <tr>\n",
              "      <td>1</td>\n",
              "      <td>1</td>\n",
              "      <td>2012-08-25 01:00:00</td>\n",
              "      <td>2</td>\n",
              "      <td>8</td>\n",
              "      <td>August</td>\n",
              "      <td>Saturday</td>\n",
              "      <td>5</td>\n",
              "      <td>238</td>\n",
              "    </tr>\n",
              "    <tr>\n",
              "      <td>2</td>\n",
              "      <td>2</td>\n",
              "      <td>2012-08-25 02:00:00</td>\n",
              "      <td>6</td>\n",
              "      <td>8</td>\n",
              "      <td>August</td>\n",
              "      <td>Saturday</td>\n",
              "      <td>5</td>\n",
              "      <td>238</td>\n",
              "    </tr>\n",
              "    <tr>\n",
              "      <td>3</td>\n",
              "      <td>3</td>\n",
              "      <td>2012-08-25 03:00:00</td>\n",
              "      <td>2</td>\n",
              "      <td>8</td>\n",
              "      <td>August</td>\n",
              "      <td>Saturday</td>\n",
              "      <td>5</td>\n",
              "      <td>238</td>\n",
              "    </tr>\n",
              "    <tr>\n",
              "      <td>4</td>\n",
              "      <td>4</td>\n",
              "      <td>2012-08-25 04:00:00</td>\n",
              "      <td>2</td>\n",
              "      <td>8</td>\n",
              "      <td>August</td>\n",
              "      <td>Saturday</td>\n",
              "      <td>5</td>\n",
              "      <td>238</td>\n",
              "    </tr>\n",
              "  </tbody>\n",
              "</table>\n",
              "</div>"
            ],
            "text/plain": [
              "   ID            Datetime  Count  month month_name  day_name  day_of_week  \\\n",
              "0   0 2012-08-25 00:00:00      8      8     August  Saturday            5   \n",
              "1   1 2012-08-25 01:00:00      2      8     August  Saturday            5   \n",
              "2   2 2012-08-25 02:00:00      6      8     August  Saturday            5   \n",
              "3   3 2012-08-25 03:00:00      2      8     August  Saturday            5   \n",
              "4   4 2012-08-25 04:00:00      2      8     August  Saturday            5   \n",
              "\n",
              "   day_of_year  \n",
              "0          238  \n",
              "1          238  \n",
              "2          238  \n",
              "3          238  \n",
              "4          238  "
            ]
          },
          "execution_count": 121,
          "metadata": {},
          "output_type": "execute_result"
        }
      ],
      "source": [
        "data.head()"
      ]
    },
    {
      "cell_type": "code",
      "execution_count": null,
      "metadata": {
        "scrolled": false,
        "id": "xNrEkF_yTjcD"
      },
      "outputs": [],
      "source": [
        "data['today'] = pd.to_datetime(datetime.date.today())"
      ]
    },
    {
      "cell_type": "code",
      "execution_count": null,
      "metadata": {
        "scrolled": false,
        "id": "FRzb2M8eTjcD",
        "outputId": "74de0e38-5efa-4f86-bb8c-e17fe3bb38a1"
      },
      "outputs": [
        {
          "data": {
            "text/html": [
              "<div>\n",
              "<style scoped>\n",
              "    .dataframe tbody tr th:only-of-type {\n",
              "        vertical-align: middle;\n",
              "    }\n",
              "\n",
              "    .dataframe tbody tr th {\n",
              "        vertical-align: top;\n",
              "    }\n",
              "\n",
              "    .dataframe thead th {\n",
              "        text-align: right;\n",
              "    }\n",
              "</style>\n",
              "<table border=\"1\" class=\"dataframe\">\n",
              "  <thead>\n",
              "    <tr style=\"text-align: right;\">\n",
              "      <th></th>\n",
              "      <th>ID</th>\n",
              "      <th>Datetime</th>\n",
              "      <th>Count</th>\n",
              "      <th>month</th>\n",
              "      <th>month_name</th>\n",
              "      <th>day_name</th>\n",
              "      <th>day_of_week</th>\n",
              "      <th>day_of_year</th>\n",
              "      <th>today</th>\n",
              "    </tr>\n",
              "  </thead>\n",
              "  <tbody>\n",
              "    <tr>\n",
              "      <td>0</td>\n",
              "      <td>0</td>\n",
              "      <td>2012-08-25 00:00:00</td>\n",
              "      <td>8</td>\n",
              "      <td>8</td>\n",
              "      <td>August</td>\n",
              "      <td>Saturday</td>\n",
              "      <td>5</td>\n",
              "      <td>238</td>\n",
              "      <td>2020-03-18</td>\n",
              "    </tr>\n",
              "    <tr>\n",
              "      <td>1</td>\n",
              "      <td>1</td>\n",
              "      <td>2012-08-25 01:00:00</td>\n",
              "      <td>2</td>\n",
              "      <td>8</td>\n",
              "      <td>August</td>\n",
              "      <td>Saturday</td>\n",
              "      <td>5</td>\n",
              "      <td>238</td>\n",
              "      <td>2020-03-18</td>\n",
              "    </tr>\n",
              "    <tr>\n",
              "      <td>2</td>\n",
              "      <td>2</td>\n",
              "      <td>2012-08-25 02:00:00</td>\n",
              "      <td>6</td>\n",
              "      <td>8</td>\n",
              "      <td>August</td>\n",
              "      <td>Saturday</td>\n",
              "      <td>5</td>\n",
              "      <td>238</td>\n",
              "      <td>2020-03-18</td>\n",
              "    </tr>\n",
              "    <tr>\n",
              "      <td>3</td>\n",
              "      <td>3</td>\n",
              "      <td>2012-08-25 03:00:00</td>\n",
              "      <td>2</td>\n",
              "      <td>8</td>\n",
              "      <td>August</td>\n",
              "      <td>Saturday</td>\n",
              "      <td>5</td>\n",
              "      <td>238</td>\n",
              "      <td>2020-03-18</td>\n",
              "    </tr>\n",
              "    <tr>\n",
              "      <td>4</td>\n",
              "      <td>4</td>\n",
              "      <td>2012-08-25 04:00:00</td>\n",
              "      <td>2</td>\n",
              "      <td>8</td>\n",
              "      <td>August</td>\n",
              "      <td>Saturday</td>\n",
              "      <td>5</td>\n",
              "      <td>238</td>\n",
              "      <td>2020-03-18</td>\n",
              "    </tr>\n",
              "  </tbody>\n",
              "</table>\n",
              "</div>"
            ],
            "text/plain": [
              "   ID            Datetime  Count  month month_name  day_name  day_of_week  \\\n",
              "0   0 2012-08-25 00:00:00      8      8     August  Saturday            5   \n",
              "1   1 2012-08-25 01:00:00      2      8     August  Saturday            5   \n",
              "2   2 2012-08-25 02:00:00      6      8     August  Saturday            5   \n",
              "3   3 2012-08-25 03:00:00      2      8     August  Saturday            5   \n",
              "4   4 2012-08-25 04:00:00      2      8     August  Saturday            5   \n",
              "\n",
              "   day_of_year      today  \n",
              "0          238 2020-03-18  \n",
              "1          238 2020-03-18  \n",
              "2          238 2020-03-18  \n",
              "3          238 2020-03-18  \n",
              "4          238 2020-03-18  "
            ]
          },
          "execution_count": 123,
          "metadata": {},
          "output_type": "execute_result"
        }
      ],
      "source": [
        "data.head()"
      ]
    },
    {
      "cell_type": "code",
      "execution_count": null,
      "metadata": {
        "scrolled": false,
        "id": "H6fvE-Q3TjcD"
      },
      "outputs": [],
      "source": [
        "difference_of_dates = data['today'] - data['Datetime']"
      ]
    },
    {
      "cell_type": "code",
      "execution_count": null,
      "metadata": {
        "scrolled": false,
        "id": "7uyjHqkETjcD",
        "outputId": "122f7d44-d133-4d48-e8d8-787454ef890d"
      },
      "outputs": [
        {
          "data": {
            "text/plain": [
              "0       2762 days 00:00:00\n",
              "1       2761 days 23:00:00\n",
              "2       2761 days 22:00:00\n",
              "3       2761 days 21:00:00\n",
              "4       2761 days 20:00:00\n",
              "               ...        \n",
              "18283   2000 days 05:00:00\n",
              "18284   2000 days 04:00:00\n",
              "18285   2000 days 03:00:00\n",
              "18286   2000 days 02:00:00\n",
              "18287   2000 days 01:00:00\n",
              "Length: 18288, dtype: timedelta64[ns]"
            ]
          },
          "execution_count": 125,
          "metadata": {},
          "output_type": "execute_result"
        }
      ],
      "source": [
        "difference_of_dates"
      ]
    },
    {
      "cell_type": "code",
      "execution_count": null,
      "metadata": {
        "scrolled": true,
        "id": "68Y-sPKJTjcE",
        "outputId": "bdbef3d0-038d-434c-8d2e-0666b6f98ef0"
      },
      "outputs": [
        {
          "data": {
            "text/plain": [
              "0        2762\n",
              "1        2761\n",
              "2        2761\n",
              "3        2761\n",
              "4        2761\n",
              "         ... \n",
              "18283    2000\n",
              "18284    2000\n",
              "18285    2000\n",
              "18286    2000\n",
              "18287    2000\n",
              "Length: 18288, dtype: int64"
            ]
          },
          "execution_count": 126,
          "metadata": {},
          "output_type": "execute_result"
        }
      ],
      "source": [
        "difference_of_dates.apply(lambda x: x.days)"
      ]
    },
    {
      "cell_type": "code",
      "execution_count": null,
      "metadata": {
        "scrolled": false,
        "id": "iTPAzMMCTjcE"
      },
      "outputs": [],
      "source": [
        "data['day_difference'] = difference_of_dates.apply(lambda x: x.days)"
      ]
    },
    {
      "cell_type": "code",
      "execution_count": null,
      "metadata": {
        "scrolled": false,
        "id": "w3TLI-RqTjcE",
        "outputId": "2ff19d23-892d-4c6a-9241-21cb11d47d6b"
      },
      "outputs": [
        {
          "data": {
            "text/html": [
              "<div>\n",
              "<style scoped>\n",
              "    .dataframe tbody tr th:only-of-type {\n",
              "        vertical-align: middle;\n",
              "    }\n",
              "\n",
              "    .dataframe tbody tr th {\n",
              "        vertical-align: top;\n",
              "    }\n",
              "\n",
              "    .dataframe thead th {\n",
              "        text-align: right;\n",
              "    }\n",
              "</style>\n",
              "<table border=\"1\" class=\"dataframe\">\n",
              "  <thead>\n",
              "    <tr style=\"text-align: right;\">\n",
              "      <th></th>\n",
              "      <th>ID</th>\n",
              "      <th>Datetime</th>\n",
              "      <th>Count</th>\n",
              "      <th>month</th>\n",
              "      <th>month_name</th>\n",
              "      <th>day_name</th>\n",
              "      <th>day_of_week</th>\n",
              "      <th>day_of_year</th>\n",
              "      <th>today</th>\n",
              "      <th>day_difference</th>\n",
              "    </tr>\n",
              "  </thead>\n",
              "  <tbody>\n",
              "    <tr>\n",
              "      <td>0</td>\n",
              "      <td>0</td>\n",
              "      <td>2012-08-25 00:00:00</td>\n",
              "      <td>8</td>\n",
              "      <td>8</td>\n",
              "      <td>August</td>\n",
              "      <td>Saturday</td>\n",
              "      <td>5</td>\n",
              "      <td>238</td>\n",
              "      <td>2020-03-18</td>\n",
              "      <td>2762</td>\n",
              "    </tr>\n",
              "    <tr>\n",
              "      <td>1</td>\n",
              "      <td>1</td>\n",
              "      <td>2012-08-25 01:00:00</td>\n",
              "      <td>2</td>\n",
              "      <td>8</td>\n",
              "      <td>August</td>\n",
              "      <td>Saturday</td>\n",
              "      <td>5</td>\n",
              "      <td>238</td>\n",
              "      <td>2020-03-18</td>\n",
              "      <td>2761</td>\n",
              "    </tr>\n",
              "    <tr>\n",
              "      <td>2</td>\n",
              "      <td>2</td>\n",
              "      <td>2012-08-25 02:00:00</td>\n",
              "      <td>6</td>\n",
              "      <td>8</td>\n",
              "      <td>August</td>\n",
              "      <td>Saturday</td>\n",
              "      <td>5</td>\n",
              "      <td>238</td>\n",
              "      <td>2020-03-18</td>\n",
              "      <td>2761</td>\n",
              "    </tr>\n",
              "    <tr>\n",
              "      <td>3</td>\n",
              "      <td>3</td>\n",
              "      <td>2012-08-25 03:00:00</td>\n",
              "      <td>2</td>\n",
              "      <td>8</td>\n",
              "      <td>August</td>\n",
              "      <td>Saturday</td>\n",
              "      <td>5</td>\n",
              "      <td>238</td>\n",
              "      <td>2020-03-18</td>\n",
              "      <td>2761</td>\n",
              "    </tr>\n",
              "    <tr>\n",
              "      <td>4</td>\n",
              "      <td>4</td>\n",
              "      <td>2012-08-25 04:00:00</td>\n",
              "      <td>2</td>\n",
              "      <td>8</td>\n",
              "      <td>August</td>\n",
              "      <td>Saturday</td>\n",
              "      <td>5</td>\n",
              "      <td>238</td>\n",
              "      <td>2020-03-18</td>\n",
              "      <td>2761</td>\n",
              "    </tr>\n",
              "  </tbody>\n",
              "</table>\n",
              "</div>"
            ],
            "text/plain": [
              "   ID            Datetime  Count  month month_name  day_name  day_of_week  \\\n",
              "0   0 2012-08-25 00:00:00      8      8     August  Saturday            5   \n",
              "1   1 2012-08-25 01:00:00      2      8     August  Saturday            5   \n",
              "2   2 2012-08-25 02:00:00      6      8     August  Saturday            5   \n",
              "3   3 2012-08-25 03:00:00      2      8     August  Saturday            5   \n",
              "4   4 2012-08-25 04:00:00      2      8     August  Saturday            5   \n",
              "\n",
              "   day_of_year      today  day_difference  \n",
              "0          238 2020-03-18            2762  \n",
              "1          238 2020-03-18            2761  \n",
              "2          238 2020-03-18            2761  \n",
              "3          238 2020-03-18            2761  \n",
              "4          238 2020-03-18            2761  "
            ]
          },
          "execution_count": 128,
          "metadata": {},
          "output_type": "execute_result"
        }
      ],
      "source": [
        "data.head()"
      ]
    },
    {
      "cell_type": "markdown",
      "metadata": {
        "id": "HITP0KiwTjcE"
      },
      "source": [
        "---\n",
        "\n",
        "### `CHALLENGES WITH TIME DATA`\n",
        "\n",
        "---\n",
        "\n",
        "#### DEALING WITH TIME ZONES\n",
        "\n",
        "- If you have the dataset of a specific time zone. You can tell pandas about the local time zone and later you can convert it into different time zones.\n",
        "- Use function `dt.tz_localize` to set the local time zone.\n",
        "\n",
        "\n",
        "---"
      ]
    },
    {
      "cell_type": "code",
      "execution_count": null,
      "metadata": {
        "scrolled": false,
        "id": "OhOyrqaeTjcE"
      },
      "outputs": [],
      "source": [
        "# set the current time as of Asia\n",
        "data['asia_timezone'] = data.Datetime.dt.tz_localize('Asia/Calcutta')"
      ]
    },
    {
      "cell_type": "code",
      "execution_count": null,
      "metadata": {
        "scrolled": false,
        "id": "n3EnRlj-TjcF",
        "outputId": "0dd80768-3275-4321-95a2-981a4415be41"
      },
      "outputs": [
        {
          "data": {
            "text/html": [
              "<div>\n",
              "<style scoped>\n",
              "    .dataframe tbody tr th:only-of-type {\n",
              "        vertical-align: middle;\n",
              "    }\n",
              "\n",
              "    .dataframe tbody tr th {\n",
              "        vertical-align: top;\n",
              "    }\n",
              "\n",
              "    .dataframe thead th {\n",
              "        text-align: right;\n",
              "    }\n",
              "</style>\n",
              "<table border=\"1\" class=\"dataframe\">\n",
              "  <thead>\n",
              "    <tr style=\"text-align: right;\">\n",
              "      <th></th>\n",
              "      <th>ID</th>\n",
              "      <th>Datetime</th>\n",
              "      <th>Count</th>\n",
              "      <th>month</th>\n",
              "      <th>month_name</th>\n",
              "      <th>day_name</th>\n",
              "      <th>day_of_week</th>\n",
              "      <th>day_of_year</th>\n",
              "      <th>today</th>\n",
              "      <th>day_difference</th>\n",
              "      <th>asia_timezone</th>\n",
              "    </tr>\n",
              "  </thead>\n",
              "  <tbody>\n",
              "    <tr>\n",
              "      <td>0</td>\n",
              "      <td>0</td>\n",
              "      <td>2012-08-25 00:00:00</td>\n",
              "      <td>8</td>\n",
              "      <td>8</td>\n",
              "      <td>August</td>\n",
              "      <td>Saturday</td>\n",
              "      <td>5</td>\n",
              "      <td>238</td>\n",
              "      <td>2020-03-18</td>\n",
              "      <td>2762</td>\n",
              "      <td>2012-08-25 00:00:00+05:30</td>\n",
              "    </tr>\n",
              "    <tr>\n",
              "      <td>1</td>\n",
              "      <td>1</td>\n",
              "      <td>2012-08-25 01:00:00</td>\n",
              "      <td>2</td>\n",
              "      <td>8</td>\n",
              "      <td>August</td>\n",
              "      <td>Saturday</td>\n",
              "      <td>5</td>\n",
              "      <td>238</td>\n",
              "      <td>2020-03-18</td>\n",
              "      <td>2761</td>\n",
              "      <td>2012-08-25 01:00:00+05:30</td>\n",
              "    </tr>\n",
              "    <tr>\n",
              "      <td>2</td>\n",
              "      <td>2</td>\n",
              "      <td>2012-08-25 02:00:00</td>\n",
              "      <td>6</td>\n",
              "      <td>8</td>\n",
              "      <td>August</td>\n",
              "      <td>Saturday</td>\n",
              "      <td>5</td>\n",
              "      <td>238</td>\n",
              "      <td>2020-03-18</td>\n",
              "      <td>2761</td>\n",
              "      <td>2012-08-25 02:00:00+05:30</td>\n",
              "    </tr>\n",
              "    <tr>\n",
              "      <td>3</td>\n",
              "      <td>3</td>\n",
              "      <td>2012-08-25 03:00:00</td>\n",
              "      <td>2</td>\n",
              "      <td>8</td>\n",
              "      <td>August</td>\n",
              "      <td>Saturday</td>\n",
              "      <td>5</td>\n",
              "      <td>238</td>\n",
              "      <td>2020-03-18</td>\n",
              "      <td>2761</td>\n",
              "      <td>2012-08-25 03:00:00+05:30</td>\n",
              "    </tr>\n",
              "    <tr>\n",
              "      <td>4</td>\n",
              "      <td>4</td>\n",
              "      <td>2012-08-25 04:00:00</td>\n",
              "      <td>2</td>\n",
              "      <td>8</td>\n",
              "      <td>August</td>\n",
              "      <td>Saturday</td>\n",
              "      <td>5</td>\n",
              "      <td>238</td>\n",
              "      <td>2020-03-18</td>\n",
              "      <td>2761</td>\n",
              "      <td>2012-08-25 04:00:00+05:30</td>\n",
              "    </tr>\n",
              "  </tbody>\n",
              "</table>\n",
              "</div>"
            ],
            "text/plain": [
              "   ID            Datetime  Count  month month_name  day_name  day_of_week  \\\n",
              "0   0 2012-08-25 00:00:00      8      8     August  Saturday            5   \n",
              "1   1 2012-08-25 01:00:00      2      8     August  Saturday            5   \n",
              "2   2 2012-08-25 02:00:00      6      8     August  Saturday            5   \n",
              "3   3 2012-08-25 03:00:00      2      8     August  Saturday            5   \n",
              "4   4 2012-08-25 04:00:00      2      8     August  Saturday            5   \n",
              "\n",
              "   day_of_year      today  day_difference             asia_timezone  \n",
              "0          238 2020-03-18            2762 2012-08-25 00:00:00+05:30  \n",
              "1          238 2020-03-18            2761 2012-08-25 01:00:00+05:30  \n",
              "2          238 2020-03-18            2761 2012-08-25 02:00:00+05:30  \n",
              "3          238 2020-03-18            2761 2012-08-25 03:00:00+05:30  \n",
              "4          238 2020-03-18            2761 2012-08-25 04:00:00+05:30  "
            ]
          },
          "execution_count": 130,
          "metadata": {},
          "output_type": "execute_result"
        }
      ],
      "source": [
        "# view the data\n",
        "data.head()"
      ]
    },
    {
      "cell_type": "markdown",
      "metadata": {
        "id": "Mz8Gs4RsTjcF"
      },
      "source": [
        "---\n",
        "\n",
        "- Use the column asia_timezone and convert it into the UTC timezone.\n",
        "- Use the function `tz_convert` to convert the timezone.\n",
        "\n",
        "---"
      ]
    },
    {
      "cell_type": "code",
      "execution_count": null,
      "metadata": {
        "scrolled": false,
        "id": "QyRL0VYGTjcF"
      },
      "outputs": [],
      "source": [
        "# change the asia time zone to UTC\n",
        "data['utc_timezone'] = data.asia_timezone.dt.tz_convert('UTC')"
      ]
    },
    {
      "cell_type": "code",
      "execution_count": null,
      "metadata": {
        "id": "ivd9q_spTjcF",
        "outputId": "f9ee51af-8844-4814-d6de-f6849d4a2f9e"
      },
      "outputs": [
        {
          "data": {
            "text/html": [
              "<div>\n",
              "<style scoped>\n",
              "    .dataframe tbody tr th:only-of-type {\n",
              "        vertical-align: middle;\n",
              "    }\n",
              "\n",
              "    .dataframe tbody tr th {\n",
              "        vertical-align: top;\n",
              "    }\n",
              "\n",
              "    .dataframe thead th {\n",
              "        text-align: right;\n",
              "    }\n",
              "</style>\n",
              "<table border=\"1\" class=\"dataframe\">\n",
              "  <thead>\n",
              "    <tr style=\"text-align: right;\">\n",
              "      <th></th>\n",
              "      <th>ID</th>\n",
              "      <th>Datetime</th>\n",
              "      <th>Count</th>\n",
              "      <th>month</th>\n",
              "      <th>month_name</th>\n",
              "      <th>day_name</th>\n",
              "      <th>day_of_week</th>\n",
              "      <th>day_of_year</th>\n",
              "      <th>today</th>\n",
              "      <th>day_difference</th>\n",
              "      <th>asia_timezone</th>\n",
              "      <th>utc_timezone</th>\n",
              "    </tr>\n",
              "  </thead>\n",
              "  <tbody>\n",
              "    <tr>\n",
              "      <td>0</td>\n",
              "      <td>0</td>\n",
              "      <td>2012-08-25 00:00:00</td>\n",
              "      <td>8</td>\n",
              "      <td>8</td>\n",
              "      <td>August</td>\n",
              "      <td>Saturday</td>\n",
              "      <td>5</td>\n",
              "      <td>238</td>\n",
              "      <td>2020-03-18</td>\n",
              "      <td>2762</td>\n",
              "      <td>2012-08-25 00:00:00+05:30</td>\n",
              "      <td>2012-08-24 18:30:00+00:00</td>\n",
              "    </tr>\n",
              "    <tr>\n",
              "      <td>1</td>\n",
              "      <td>1</td>\n",
              "      <td>2012-08-25 01:00:00</td>\n",
              "      <td>2</td>\n",
              "      <td>8</td>\n",
              "      <td>August</td>\n",
              "      <td>Saturday</td>\n",
              "      <td>5</td>\n",
              "      <td>238</td>\n",
              "      <td>2020-03-18</td>\n",
              "      <td>2761</td>\n",
              "      <td>2012-08-25 01:00:00+05:30</td>\n",
              "      <td>2012-08-24 19:30:00+00:00</td>\n",
              "    </tr>\n",
              "    <tr>\n",
              "      <td>2</td>\n",
              "      <td>2</td>\n",
              "      <td>2012-08-25 02:00:00</td>\n",
              "      <td>6</td>\n",
              "      <td>8</td>\n",
              "      <td>August</td>\n",
              "      <td>Saturday</td>\n",
              "      <td>5</td>\n",
              "      <td>238</td>\n",
              "      <td>2020-03-18</td>\n",
              "      <td>2761</td>\n",
              "      <td>2012-08-25 02:00:00+05:30</td>\n",
              "      <td>2012-08-24 20:30:00+00:00</td>\n",
              "    </tr>\n",
              "    <tr>\n",
              "      <td>3</td>\n",
              "      <td>3</td>\n",
              "      <td>2012-08-25 03:00:00</td>\n",
              "      <td>2</td>\n",
              "      <td>8</td>\n",
              "      <td>August</td>\n",
              "      <td>Saturday</td>\n",
              "      <td>5</td>\n",
              "      <td>238</td>\n",
              "      <td>2020-03-18</td>\n",
              "      <td>2761</td>\n",
              "      <td>2012-08-25 03:00:00+05:30</td>\n",
              "      <td>2012-08-24 21:30:00+00:00</td>\n",
              "    </tr>\n",
              "    <tr>\n",
              "      <td>4</td>\n",
              "      <td>4</td>\n",
              "      <td>2012-08-25 04:00:00</td>\n",
              "      <td>2</td>\n",
              "      <td>8</td>\n",
              "      <td>August</td>\n",
              "      <td>Saturday</td>\n",
              "      <td>5</td>\n",
              "      <td>238</td>\n",
              "      <td>2020-03-18</td>\n",
              "      <td>2761</td>\n",
              "      <td>2012-08-25 04:00:00+05:30</td>\n",
              "      <td>2012-08-24 22:30:00+00:00</td>\n",
              "    </tr>\n",
              "  </tbody>\n",
              "</table>\n",
              "</div>"
            ],
            "text/plain": [
              "   ID            Datetime  Count  month month_name  day_name  day_of_week  \\\n",
              "0   0 2012-08-25 00:00:00      8      8     August  Saturday            5   \n",
              "1   1 2012-08-25 01:00:00      2      8     August  Saturday            5   \n",
              "2   2 2012-08-25 02:00:00      6      8     August  Saturday            5   \n",
              "3   3 2012-08-25 03:00:00      2      8     August  Saturday            5   \n",
              "4   4 2012-08-25 04:00:00      2      8     August  Saturday            5   \n",
              "\n",
              "   day_of_year      today  day_difference             asia_timezone  \\\n",
              "0          238 2020-03-18            2762 2012-08-25 00:00:00+05:30   \n",
              "1          238 2020-03-18            2761 2012-08-25 01:00:00+05:30   \n",
              "2          238 2020-03-18            2761 2012-08-25 02:00:00+05:30   \n",
              "3          238 2020-03-18            2761 2012-08-25 03:00:00+05:30   \n",
              "4          238 2020-03-18            2761 2012-08-25 04:00:00+05:30   \n",
              "\n",
              "               utc_timezone  \n",
              "0 2012-08-24 18:30:00+00:00  \n",
              "1 2012-08-24 19:30:00+00:00  \n",
              "2 2012-08-24 20:30:00+00:00  \n",
              "3 2012-08-24 21:30:00+00:00  \n",
              "4 2012-08-24 22:30:00+00:00  "
            ]
          },
          "execution_count": 132,
          "metadata": {},
          "output_type": "execute_result"
        }
      ],
      "source": [
        "data.head()"
      ]
    },
    {
      "cell_type": "code",
      "execution_count": null,
      "metadata": {
        "scrolled": false,
        "id": "KI48VjCqTjcF",
        "outputId": "c7698a20-f40c-42b1-bf9d-b9027d4aab76"
      },
      "outputs": [
        {
          "data": {
            "text/html": [
              "<div>\n",
              "<style scoped>\n",
              "    .dataframe tbody tr th:only-of-type {\n",
              "        vertical-align: middle;\n",
              "    }\n",
              "\n",
              "    .dataframe tbody tr th {\n",
              "        vertical-align: top;\n",
              "    }\n",
              "\n",
              "    .dataframe thead th {\n",
              "        text-align: right;\n",
              "    }\n",
              "</style>\n",
              "<table border=\"1\" class=\"dataframe\">\n",
              "  <thead>\n",
              "    <tr style=\"text-align: right;\">\n",
              "      <th></th>\n",
              "      <th>asia_timezone</th>\n",
              "      <th>utc_timezone</th>\n",
              "    </tr>\n",
              "  </thead>\n",
              "  <tbody>\n",
              "    <tr>\n",
              "      <td>0</td>\n",
              "      <td>2012-08-25 00:00:00+05:30</td>\n",
              "      <td>2012-08-24 18:30:00+00:00</td>\n",
              "    </tr>\n",
              "    <tr>\n",
              "      <td>1</td>\n",
              "      <td>2012-08-25 01:00:00+05:30</td>\n",
              "      <td>2012-08-24 19:30:00+00:00</td>\n",
              "    </tr>\n",
              "    <tr>\n",
              "      <td>2</td>\n",
              "      <td>2012-08-25 02:00:00+05:30</td>\n",
              "      <td>2012-08-24 20:30:00+00:00</td>\n",
              "    </tr>\n",
              "    <tr>\n",
              "      <td>3</td>\n",
              "      <td>2012-08-25 03:00:00+05:30</td>\n",
              "      <td>2012-08-24 21:30:00+00:00</td>\n",
              "    </tr>\n",
              "    <tr>\n",
              "      <td>4</td>\n",
              "      <td>2012-08-25 04:00:00+05:30</td>\n",
              "      <td>2012-08-24 22:30:00+00:00</td>\n",
              "    </tr>\n",
              "    <tr>\n",
              "      <td>...</td>\n",
              "      <td>...</td>\n",
              "      <td>...</td>\n",
              "    </tr>\n",
              "    <tr>\n",
              "      <td>18283</td>\n",
              "      <td>2014-09-25 19:00:00+05:30</td>\n",
              "      <td>2014-09-25 13:30:00+00:00</td>\n",
              "    </tr>\n",
              "    <tr>\n",
              "      <td>18284</td>\n",
              "      <td>2014-09-25 20:00:00+05:30</td>\n",
              "      <td>2014-09-25 14:30:00+00:00</td>\n",
              "    </tr>\n",
              "    <tr>\n",
              "      <td>18285</td>\n",
              "      <td>2014-09-25 21:00:00+05:30</td>\n",
              "      <td>2014-09-25 15:30:00+00:00</td>\n",
              "    </tr>\n",
              "    <tr>\n",
              "      <td>18286</td>\n",
              "      <td>2014-09-25 22:00:00+05:30</td>\n",
              "      <td>2014-09-25 16:30:00+00:00</td>\n",
              "    </tr>\n",
              "    <tr>\n",
              "      <td>18287</td>\n",
              "      <td>2014-09-25 23:00:00+05:30</td>\n",
              "      <td>2014-09-25 17:30:00+00:00</td>\n",
              "    </tr>\n",
              "  </tbody>\n",
              "</table>\n",
              "<p>18288 rows × 2 columns</p>\n",
              "</div>"
            ],
            "text/plain": [
              "                  asia_timezone              utc_timezone\n",
              "0     2012-08-25 00:00:00+05:30 2012-08-24 18:30:00+00:00\n",
              "1     2012-08-25 01:00:00+05:30 2012-08-24 19:30:00+00:00\n",
              "2     2012-08-25 02:00:00+05:30 2012-08-24 20:30:00+00:00\n",
              "3     2012-08-25 03:00:00+05:30 2012-08-24 21:30:00+00:00\n",
              "4     2012-08-25 04:00:00+05:30 2012-08-24 22:30:00+00:00\n",
              "...                         ...                       ...\n",
              "18283 2014-09-25 19:00:00+05:30 2014-09-25 13:30:00+00:00\n",
              "18284 2014-09-25 20:00:00+05:30 2014-09-25 14:30:00+00:00\n",
              "18285 2014-09-25 21:00:00+05:30 2014-09-25 15:30:00+00:00\n",
              "18286 2014-09-25 22:00:00+05:30 2014-09-25 16:30:00+00:00\n",
              "18287 2014-09-25 23:00:00+05:30 2014-09-25 17:30:00+00:00\n",
              "\n",
              "[18288 rows x 2 columns]"
            ]
          },
          "execution_count": 133,
          "metadata": {},
          "output_type": "execute_result"
        }
      ],
      "source": [
        "data[['asia_timezone', 'utc_timezone']]"
      ]
    },
    {
      "cell_type": "markdown",
      "metadata": {
        "id": "QW2DWjLZTjcF"
      },
      "source": [
        "---\n",
        "\n",
        "***Select a random date***\n",
        "\n",
        "---"
      ]
    },
    {
      "cell_type": "code",
      "execution_count": null,
      "metadata": {
        "scrolled": false,
        "id": "4CWFJ9CBTjcF",
        "outputId": "db4e8d36-40d6-4295-974e-9ebc5770d7bd"
      },
      "outputs": [
        {
          "data": {
            "text/plain": [
              "Timestamp('2014-09-25 23:00:00+0530', tz='Asia/Calcutta')"
            ]
          },
          "execution_count": 134,
          "metadata": {},
          "output_type": "execute_result"
        }
      ],
      "source": [
        "data['asia_timezone'][18287]"
      ]
    },
    {
      "cell_type": "code",
      "execution_count": null,
      "metadata": {
        "scrolled": false,
        "id": "ZrundDqtTjcG",
        "outputId": "6aa5350e-085a-4026-b800-35e009219827"
      },
      "outputs": [
        {
          "data": {
            "text/plain": [
              "Timestamp('2014-09-25 17:30:00+0000', tz='UTC')"
            ]
          },
          "execution_count": 135,
          "metadata": {},
          "output_type": "execute_result"
        }
      ],
      "source": [
        "data['utc_timezone'][18287]"
      ]
    },
    {
      "cell_type": "markdown",
      "metadata": {
        "id": "qaP3zPZUTjcG"
      },
      "source": [
        "***You can see that time difference is 5 hours 30 minutes.***\n",
        "\n",
        "---"
      ]
    },
    {
      "cell_type": "markdown",
      "metadata": {
        "id": "jPvzojwRTjcG"
      },
      "source": [
        "---\n",
        "\n",
        "#### `READING DATA WITH UNIX TIMESTAMP.`\n",
        "\n",
        "- A UNIX timestamp is a way of storing a specific date and time. The timestamp is a ten digit number which represents the number of seconds that have passed since midnight on the 1st January 1970, UTC time.\n",
        "\n",
        "---"
      ]
    },
    {
      "cell_type": "code",
      "execution_count": null,
      "metadata": {
        "scrolled": false,
        "id": "1vkkoXrtTjcG"
      },
      "outputs": [],
      "source": [
        "# read data\n",
        "data_with_unix_ts = pd.read_csv('datasets/data_with_timestamp.csv')"
      ]
    },
    {
      "cell_type": "code",
      "execution_count": null,
      "metadata": {
        "scrolled": false,
        "id": "M2tMB1-jTjcG",
        "outputId": "f2260979-d7bc-4efa-ed68-e504148daa63"
      },
      "outputs": [
        {
          "data": {
            "text/html": [
              "<div>\n",
              "<style scoped>\n",
              "    .dataframe tbody tr th:only-of-type {\n",
              "        vertical-align: middle;\n",
              "    }\n",
              "\n",
              "    .dataframe tbody tr th {\n",
              "        vertical-align: top;\n",
              "    }\n",
              "\n",
              "    .dataframe thead th {\n",
              "        text-align: right;\n",
              "    }\n",
              "</style>\n",
              "<table border=\"1\" class=\"dataframe\">\n",
              "  <thead>\n",
              "    <tr style=\"text-align: right;\">\n",
              "      <th></th>\n",
              "      <th>ID</th>\n",
              "      <th>timestamp</th>\n",
              "      <th>Count</th>\n",
              "    </tr>\n",
              "  </thead>\n",
              "  <tbody>\n",
              "    <tr>\n",
              "      <td>0</td>\n",
              "      <td>0</td>\n",
              "      <td>1345852800</td>\n",
              "      <td>8</td>\n",
              "    </tr>\n",
              "    <tr>\n",
              "      <td>1</td>\n",
              "      <td>1</td>\n",
              "      <td>1345856400</td>\n",
              "      <td>2</td>\n",
              "    </tr>\n",
              "    <tr>\n",
              "      <td>2</td>\n",
              "      <td>2</td>\n",
              "      <td>1345860000</td>\n",
              "      <td>6</td>\n",
              "    </tr>\n",
              "    <tr>\n",
              "      <td>3</td>\n",
              "      <td>3</td>\n",
              "      <td>1345863600</td>\n",
              "      <td>2</td>\n",
              "    </tr>\n",
              "    <tr>\n",
              "      <td>4</td>\n",
              "      <td>4</td>\n",
              "      <td>1345867200</td>\n",
              "      <td>2</td>\n",
              "    </tr>\n",
              "  </tbody>\n",
              "</table>\n",
              "</div>"
            ],
            "text/plain": [
              "   ID   timestamp  Count\n",
              "0   0  1345852800      8\n",
              "1   1  1345856400      2\n",
              "2   2  1345860000      6\n",
              "3   3  1345863600      2\n",
              "4   4  1345867200      2"
            ]
          },
          "execution_count": 137,
          "metadata": {},
          "output_type": "execute_result"
        }
      ],
      "source": [
        "# view the data\n",
        "data_with_unix_ts.head()"
      ]
    },
    {
      "cell_type": "code",
      "execution_count": null,
      "metadata": {
        "scrolled": false,
        "id": "zHbzCf5PTjcG"
      },
      "outputs": [],
      "source": [
        "# convert the unix timestamp to datetime.\n",
        "data_with_unix_ts.timestamp = pd.to_datetime(data_with_unix_ts.timestamp, unit='s')"
      ]
    },
    {
      "cell_type": "code",
      "execution_count": null,
      "metadata": {
        "scrolled": false,
        "id": "G77NLKhZTjcG",
        "outputId": "c9a660fc-7993-4002-e9e8-471b11a43b11"
      },
      "outputs": [
        {
          "data": {
            "text/html": [
              "<div>\n",
              "<style scoped>\n",
              "    .dataframe tbody tr th:only-of-type {\n",
              "        vertical-align: middle;\n",
              "    }\n",
              "\n",
              "    .dataframe tbody tr th {\n",
              "        vertical-align: top;\n",
              "    }\n",
              "\n",
              "    .dataframe thead th {\n",
              "        text-align: right;\n",
              "    }\n",
              "</style>\n",
              "<table border=\"1\" class=\"dataframe\">\n",
              "  <thead>\n",
              "    <tr style=\"text-align: right;\">\n",
              "      <th></th>\n",
              "      <th>ID</th>\n",
              "      <th>timestamp</th>\n",
              "      <th>Count</th>\n",
              "    </tr>\n",
              "  </thead>\n",
              "  <tbody>\n",
              "    <tr>\n",
              "      <td>0</td>\n",
              "      <td>0</td>\n",
              "      <td>2012-08-25 00:00:00</td>\n",
              "      <td>8</td>\n",
              "    </tr>\n",
              "    <tr>\n",
              "      <td>1</td>\n",
              "      <td>1</td>\n",
              "      <td>2012-08-25 01:00:00</td>\n",
              "      <td>2</td>\n",
              "    </tr>\n",
              "    <tr>\n",
              "      <td>2</td>\n",
              "      <td>2</td>\n",
              "      <td>2012-08-25 02:00:00</td>\n",
              "      <td>6</td>\n",
              "    </tr>\n",
              "    <tr>\n",
              "      <td>3</td>\n",
              "      <td>3</td>\n",
              "      <td>2012-08-25 03:00:00</td>\n",
              "      <td>2</td>\n",
              "    </tr>\n",
              "    <tr>\n",
              "      <td>4</td>\n",
              "      <td>4</td>\n",
              "      <td>2012-08-25 04:00:00</td>\n",
              "      <td>2</td>\n",
              "    </tr>\n",
              "  </tbody>\n",
              "</table>\n",
              "</div>"
            ],
            "text/plain": [
              "   ID           timestamp  Count\n",
              "0   0 2012-08-25 00:00:00      8\n",
              "1   1 2012-08-25 01:00:00      2\n",
              "2   2 2012-08-25 02:00:00      6\n",
              "3   3 2012-08-25 03:00:00      2\n",
              "4   4 2012-08-25 04:00:00      2"
            ]
          },
          "execution_count": 139,
          "metadata": {},
          "output_type": "execute_result"
        }
      ],
      "source": [
        "# view the top rows\n",
        "data_with_unix_ts.head()"
      ]
    },
    {
      "cell_type": "code",
      "execution_count": null,
      "metadata": {
        "scrolled": false,
        "id": "jN6x3pCQTjcG"
      },
      "outputs": [],
      "source": []
    }
  ],
  "metadata": {
    "kernelspec": {
      "display_name": "Python 3",
      "language": "python",
      "name": "python3"
    },
    "language_info": {
      "codemirror_mode": {
        "name": "ipython",
        "version": 3
      },
      "file_extension": ".py",
      "mimetype": "text/x-python",
      "name": "python",
      "nbconvert_exporter": "python",
      "pygments_lexer": "ipython3",
      "version": "3.7.4"
    },
    "colab": {
      "provenance": [],
      "include_colab_link": true
    }
  },
  "nbformat": 4,
  "nbformat_minor": 0
}