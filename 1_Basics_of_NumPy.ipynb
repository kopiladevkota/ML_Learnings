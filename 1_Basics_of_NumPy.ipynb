{
  "cells": [
    {
      "cell_type": "markdown",
      "metadata": {
        "id": "view-in-github",
        "colab_type": "text"
      },
      "source": [
        "<a href=\"https://colab.research.google.com/github/kopiladevkota/Python/blob/main/1_Basics_of_NumPy.ipynb\" target=\"_parent\"><img src=\"https://colab.research.google.com/assets/colab-badge.svg\" alt=\"Open In Colab\"/></a>"
      ]
    },
    {
      "cell_type": "markdown",
      "metadata": {
        "id": "xPcOd9Hvfdyz"
      },
      "source": [
        "---\n",
        "---\n",
        "\n",
        "<center><h1> 📍 📍 Basics of NumPy 📍 📍 </h1></center>\n",
        "\n",
        "\n",
        "NumPy is the fundamental package for scientific computing with Python. It contains among other things:\n",
        "\n",
        " - A powerful N-dimensional array object\n",
        " - Sophisticated (broadcasting) functions\n",
        " - Tools for integrating C/C++ and Fortran code\n",
        " - Useful linear algebra, Fourier transform, and random number capabilities\n",
        "\n",
        "***Source:*** https://numpy.org/\n",
        "\n",
        "---"
      ]
    },
    {
      "cell_type": "code",
      "source": [],
      "metadata": {
        "id": "hCe11W7WuKPE"
      },
      "execution_count": null,
      "outputs": []
    },
    {
      "cell_type": "code",
      "execution_count": null,
      "metadata": {
        "id": "1tXfEc_9t2Q2"
      },
      "outputs": [],
      "source": [
        "# importing the numpy library\n",
        "import numpy as np"
      ]
    },
    {
      "cell_type": "markdown",
      "metadata": {
        "id": "QPWYYZbrt2Q3"
      },
      "source": [
        "***If you got an error while running the above cell, import it by using the following command***\n",
        "\n",
        "\n",
        "***`!pip3 install numpy`***\n",
        "\n",
        "---"
      ]
    },
    {
      "cell_type": "code",
      "execution_count": null,
      "metadata": {
        "colab": {
          "base_uri": "https://localhost:8080/",
          "height": 34
        },
        "id": "kJQUFjqcfG5E",
        "outputId": "e82c5ff9-f365-41be-9ab5-ffe8b5642026"
      },
      "outputs": [
        {
          "data": {
            "text/plain": [
              "'1.17.1'"
            ]
          },
          "execution_count": 77,
          "metadata": {},
          "output_type": "execute_result"
        }
      ],
      "source": [
        "# check verison of the numpy library\n",
        "np.__version__"
      ]
    },
    {
      "cell_type": "code",
      "execution_count": null,
      "metadata": {
        "colab": {
          "base_uri": "https://localhost:8080/",
          "height": 34
        },
        "id": "hCA-nkm9ggyq",
        "outputId": "0de0ca1f-62a8-48e6-8680-57c654549acb"
      },
      "outputs": [
        {
          "data": {
            "text/plain": [
              "array([1, 4, 2, 5, 3])"
            ]
          },
          "execution_count": 78,
          "metadata": {},
          "output_type": "execute_result"
        }
      ],
      "source": [
        "# create a numpy array\n",
        "np.array([1, 4, 2, 5, 3])\n"
      ]
    },
    {
      "cell_type": "code",
      "execution_count": null,
      "metadata": {
        "id": "pgGdzAwet2Q4",
        "outputId": "2aa428d9-7088-4fdf-c61b-a9c1d82b1def"
      },
      "outputs": [
        {
          "data": {
            "text/plain": [
              "[1, 4, '2', 5, False]"
            ]
          },
          "execution_count": 79,
          "metadata": {},
          "output_type": "execute_result"
        }
      ],
      "source": [
        "[1,4,'2',5,False]"
      ]
    },
    {
      "cell_type": "markdown",
      "metadata": {
        "id": "LdDFJ3J1t2Q4"
      },
      "source": [
        "***Difference between numpy array and list***\n",
        "\n",
        "- Data type should be same of all the elements in a numpy array whereas it can be different in case of lists.\n",
        "- **Broadcasting:** https://docs.scipy.org/doc/numpy/user/basics.broadcasting.html\n",
        "\n",
        "---"
      ]
    },
    {
      "cell_type": "code",
      "execution_count": null,
      "metadata": {
        "id": "fOu2wpaKt2Q4",
        "outputId": "1ac79930-5b45-4a89-d52b-1f783daf7dad"
      },
      "outputs": [
        {
          "data": {
            "text/plain": [
              "array(['1', '4', '2', '5', '3', 'False'], dtype='<U21')"
            ]
          },
          "execution_count": 80,
          "metadata": {},
          "output_type": "execute_result"
        }
      ],
      "source": [
        "# if we add an element of string data type in a numpy array\n",
        "# then it will upcast the data type to string of all the elements.\n",
        "np.array([1, 4, 2, '5', 3, False])"
      ]
    },
    {
      "cell_type": "markdown",
      "metadata": {
        "id": "wX9I1WoEt2Q4"
      },
      "source": [
        "***Now, we will create one sample list and numpy array and apply a very basic function of multiplication by 2. We will see that in case of list the elements are duplicated and appended to the list whereas in case of numpy array we got an array where all elements are multiplied by 2.***\n",
        "\n",
        "----"
      ]
    },
    {
      "cell_type": "code",
      "execution_count": null,
      "metadata": {
        "id": "wjwbyk15t2Q4"
      },
      "outputs": [],
      "source": [
        "# create a sample list\n",
        "sample_list = [1, 2, 3, 4, 5, 6]"
      ]
    },
    {
      "cell_type": "code",
      "execution_count": null,
      "metadata": {
        "id": "cBKX6ojwt2Q4",
        "outputId": "4eaf4fd6-3eef-4f27-9ab5-e3716ce0e7f2"
      },
      "outputs": [
        {
          "data": {
            "text/plain": [
              "[1, 2, 3, 4, 5, 6, 1, 2, 3, 4, 5, 6]"
            ]
          },
          "execution_count": 82,
          "metadata": {},
          "output_type": "execute_result"
        }
      ],
      "source": [
        "sample_list*2"
      ]
    },
    {
      "cell_type": "code",
      "execution_count": null,
      "metadata": {
        "id": "L85R4cSCt2Q5"
      },
      "outputs": [],
      "source": [
        "# create a sample numpy array\n",
        "sample_numpy_array = np.array([1, 2, 3, 4, 5, 6])"
      ]
    },
    {
      "cell_type": "code",
      "execution_count": null,
      "metadata": {
        "id": "OGgkixaRt2Q5",
        "outputId": "7a1b934a-a21b-4569-870e-f9c0122b589d"
      },
      "outputs": [
        {
          "data": {
            "text/plain": [
              "array([3, 4, 5, 6, 7, 8])"
            ]
          },
          "execution_count": 84,
          "metadata": {},
          "output_type": "execute_result"
        }
      ],
      "source": [
        "sample_numpy_array+2"
      ]
    },
    {
      "cell_type": "markdown",
      "metadata": {
        "id": "JKE71dwTt2Q5"
      },
      "source": [
        "---\n",
        "\n",
        "***Create a matrix using numpy***\n",
        "\n",
        "---"
      ]
    },
    {
      "cell_type": "code",
      "execution_count": null,
      "metadata": {
        "id": "wS-_govHt2Q5"
      },
      "outputs": [],
      "source": [
        "a = [[1,2,3],\n",
        "    [4,5,6],\n",
        "    [7,8,9]]"
      ]
    },
    {
      "cell_type": "code",
      "execution_count": null,
      "metadata": {
        "id": "xDH4rzTpt2Q5",
        "outputId": "905770d3-11cf-4221-952a-594f699fb072"
      },
      "outputs": [
        {
          "data": {
            "text/plain": [
              "[[1, 2, 3], [4, 5, 6], [7, 8, 9]]"
            ]
          },
          "execution_count": 86,
          "metadata": {},
          "output_type": "execute_result"
        }
      ],
      "source": [
        "a"
      ]
    },
    {
      "cell_type": "code",
      "execution_count": null,
      "metadata": {
        "id": "TuIRhVnIinJS"
      },
      "outputs": [],
      "source": [
        "# MATRIX\n",
        "a = np.array(a)"
      ]
    },
    {
      "cell_type": "code",
      "execution_count": null,
      "metadata": {
        "id": "Y2MMhBzht2Q6",
        "outputId": "194a0f91-d26a-4b43-c58f-51f2e10530a2"
      },
      "outputs": [
        {
          "data": {
            "text/plain": [
              "array([[1, 2, 3],\n",
              "       [4, 5, 6],\n",
              "       [7, 8, 9]])"
            ]
          },
          "execution_count": 88,
          "metadata": {},
          "output_type": "execute_result"
        }
      ],
      "source": [
        "a"
      ]
    },
    {
      "cell_type": "code",
      "execution_count": null,
      "metadata": {
        "id": "yMG-RUc6t2Q6",
        "outputId": "5b11106b-9096-42bb-a3ba-b31b1d2c0ba9"
      },
      "outputs": [
        {
          "data": {
            "text/plain": [
              "2"
            ]
          },
          "execution_count": 89,
          "metadata": {},
          "output_type": "execute_result"
        }
      ],
      "source": [
        "a[0][1]"
      ]
    },
    {
      "cell_type": "code",
      "execution_count": null,
      "metadata": {
        "id": "b-RbV_WWt2Q6",
        "outputId": "bb1c1411-8333-475c-ef64-4961a09330cd"
      },
      "outputs": [
        {
          "data": {
            "text/plain": [
              "array([[1, 2, 3],\n",
              "       [4, 5, 6],\n",
              "       [7, 8, 9]])"
            ]
          },
          "execution_count": 90,
          "metadata": {},
          "output_type": "execute_result"
        }
      ],
      "source": [
        "b = np.array([[1,2,3],\n",
        "             [4,5,6],\n",
        "             [7,8,9]])\n",
        "b"
      ]
    },
    {
      "cell_type": "code",
      "execution_count": null,
      "metadata": {
        "colab": {
          "base_uri": "https://localhost:8080/",
          "height": 67
        },
        "id": "3-oLfXOvo8wG",
        "outputId": "93cebc71-e935-4562-c2a8-11799099d05b"
      },
      "outputs": [
        {
          "data": {
            "text/plain": [
              "array([[4, 7, 6],\n",
              "       [8, 8, 1],\n",
              "       [6, 7, 7]])"
            ]
          },
          "execution_count": 91,
          "metadata": {},
          "output_type": "execute_result"
        }
      ],
      "source": [
        "# Create a 3x3 array of random integers in the interval [0, 10)\n",
        "np.random.randint(0, 10, (3, 3))"
      ]
    },
    {
      "cell_type": "code",
      "execution_count": null,
      "metadata": {
        "id": "MMGwhKmst2Q6",
        "outputId": "4479f085-ed24-4228-b916-c5098cf265fc"
      },
      "outputs": [
        {
          "data": {
            "text/plain": [
              "array([[8, 1, 5],\n",
              "       [9, 8, 9],\n",
              "       [4, 3, 0]])"
            ]
          },
          "execution_count": 92,
          "metadata": {},
          "output_type": "execute_result"
        }
      ],
      "source": [
        "# create another matrix\n",
        "np.random.randint(0, 10, (3, 3))"
      ]
    },
    {
      "cell_type": "markdown",
      "metadata": {
        "id": "NAfJVfSUt2Q7"
      },
      "source": [
        "***We got a different matrix when we generated another random matrix: We can get the same matrix again by fixing the seed. Let's see how?***\n",
        "\n",
        "\n",
        "---"
      ]
    },
    {
      "cell_type": "code",
      "execution_count": null,
      "metadata": {
        "id": "38dFOzttt2Q7",
        "outputId": "0f3940f7-2bcb-44f9-8d0b-dd36c532a6c1"
      },
      "outputs": [
        {
          "data": {
            "text/plain": [
              "array([[5, 0, 3],\n",
              "       [3, 7, 9],\n",
              "       [3, 5, 2]])"
            ]
          },
          "execution_count": 93,
          "metadata": {},
          "output_type": "execute_result"
        }
      ],
      "source": [
        "# fixing the random seed\n",
        "np.random.seed(0)\n",
        "np.random.randint(0, 10, (3, 3))"
      ]
    },
    {
      "cell_type": "code",
      "execution_count": null,
      "metadata": {
        "id": "TiPAIaEIt2Q7",
        "outputId": "d4f1d85e-a1b1-427d-dbd4-5d608b4bf97c"
      },
      "outputs": [
        {
          "data": {
            "text/plain": [
              "array([[5, 0, 3],\n",
              "       [3, 7, 9],\n",
              "       [3, 5, 2]])"
            ]
          },
          "execution_count": 94,
          "metadata": {},
          "output_type": "execute_result"
        }
      ],
      "source": [
        "# fixing the random seed\n",
        "np.random.seed(0)\n",
        "np.random.randint(0, 10, (3, 3))"
      ]
    },
    {
      "cell_type": "markdown",
      "metadata": {
        "id": "xUduZd1tt2Q7"
      },
      "source": [
        "***Create a matrix of `Zeros` of specific dimension.***\n",
        "\n",
        "\n",
        "---"
      ]
    },
    {
      "cell_type": "code",
      "execution_count": null,
      "metadata": {
        "id": "aW0NvOuKt2Q7",
        "outputId": "243e894c-828a-402c-9e6a-1eaa7704f2fa"
      },
      "outputs": [
        {
          "data": {
            "text/plain": [
              "array([[0, 0, 0, 0],\n",
              "       [0, 0, 0, 0],\n",
              "       [0, 0, 0, 0]])"
            ]
          },
          "execution_count": 95,
          "metadata": {},
          "output_type": "execute_result"
        }
      ],
      "source": [
        "# Create a 2 X 10 integer array filled with zeros\n",
        "np.zeros((3,4), dtype=int)"
      ]
    },
    {
      "cell_type": "code",
      "execution_count": null,
      "metadata": {
        "id": "XTVGLzDUt2Q7",
        "outputId": "1864de75-762b-4eca-f1f3-51a777ac4694"
      },
      "outputs": [
        {
          "data": {
            "text/plain": [
              "array([[0, 0, 0, 0, 0],\n",
              "       [0, 0, 0, 0, 0],\n",
              "       [0, 0, 0, 0, 0],\n",
              "       [0, 0, 0, 0, 0]])"
            ]
          },
          "execution_count": 96,
          "metadata": {},
          "output_type": "execute_result"
        }
      ],
      "source": [
        "# Create a 4 X 5 integer array filled with zeros\n",
        "np.zeros((4,5), dtype=int)"
      ]
    },
    {
      "cell_type": "markdown",
      "metadata": {
        "id": "SXzXUFfit2Q7"
      },
      "source": [
        "***Create a matrix of `Ones` of specific dimension.***\n",
        "\n",
        "---"
      ]
    },
    {
      "cell_type": "code",
      "execution_count": null,
      "metadata": {
        "id": "Gpoy00Rzt2Q7",
        "outputId": "52349c60-09eb-42b7-e40f-4dbd96f47d75"
      },
      "outputs": [
        {
          "data": {
            "text/plain": [
              "array([[1, 1, 1, 1, 1, 1, 1, 1, 1, 1],\n",
              "       [1, 1, 1, 1, 1, 1, 1, 1, 1, 1]])"
            ]
          },
          "execution_count": 97,
          "metadata": {},
          "output_type": "execute_result"
        }
      ],
      "source": [
        "# Create a 2 X 10 integer array filled with ones\n",
        "np.ones((2,10), dtype=int)"
      ]
    },
    {
      "cell_type": "code",
      "execution_count": null,
      "metadata": {
        "id": "_nx5HRnGt2Q8",
        "outputId": "d8b572b0-91f2-45df-d3f3-d594d3160356"
      },
      "outputs": [
        {
          "data": {
            "text/plain": [
              "array([[1, 1, 1, 1, 1],\n",
              "       [1, 1, 1, 1, 1],\n",
              "       [1, 1, 1, 1, 1],\n",
              "       [1, 1, 1, 1, 1]])"
            ]
          },
          "execution_count": 98,
          "metadata": {},
          "output_type": "execute_result"
        }
      ],
      "source": [
        "# Create a 4 X 5 integer array filled with ones\n",
        "np.ones((4,5), dtype=int)"
      ]
    },
    {
      "cell_type": "code",
      "execution_count": null,
      "metadata": {
        "id": "3x6-t1Dht2Q8",
        "outputId": "42f49931-5cf0-41dd-e899-a927af77bc88"
      },
      "outputs": [
        {
          "data": {
            "text/plain": [
              "array([[1, 0, 0, 0, 0],\n",
              "       [0, 1, 0, 0, 0],\n",
              "       [0, 0, 1, 0, 0],\n",
              "       [0, 0, 0, 1, 0],\n",
              "       [0, 0, 0, 0, 1]])"
            ]
          },
          "execution_count": 99,
          "metadata": {},
          "output_type": "execute_result"
        }
      ],
      "source": [
        "np.identity(5, dtype=int)"
      ]
    },
    {
      "cell_type": "markdown",
      "metadata": {
        "id": "a_AV3Gott2Q8"
      },
      "source": [
        "***Create a matrix of filled with any specific number of specific dimension.***\n",
        "\n",
        "---"
      ]
    },
    {
      "cell_type": "code",
      "execution_count": null,
      "metadata": {
        "id": "X26Xxb-qt2Q8",
        "outputId": "3591e702-80d1-4a2c-bd9f-f1f907317321"
      },
      "outputs": [
        {
          "data": {
            "text/plain": [
              "array([[3.14, 3.14, 3.14, 3.14, 3.14],\n",
              "       [3.14, 3.14, 3.14, 3.14, 3.14],\n",
              "       [3.14, 3.14, 3.14, 3.14, 3.14]])"
            ]
          },
          "execution_count": 100,
          "metadata": {},
          "output_type": "execute_result"
        }
      ],
      "source": [
        "# Create a 3x5 array filled with 3.14\n",
        "np.full((3, 5), 3.14)"
      ]
    },
    {
      "cell_type": "code",
      "execution_count": null,
      "metadata": {
        "id": "T8hitMKzt2Q8",
        "outputId": "31c5d563-4576-4b88-8ef4-b036f3b2ac0b"
      },
      "outputs": [
        {
          "data": {
            "text/plain": [
              "array([[7, 7, 7, 7],\n",
              "       [7, 7, 7, 7]])"
            ]
          },
          "execution_count": 101,
          "metadata": {},
          "output_type": "execute_result"
        }
      ],
      "source": [
        "# Create a 2x4 array filled with 7\n",
        "np.full((2, 4), 7)"
      ]
    },
    {
      "cell_type": "markdown",
      "metadata": {
        "id": "-mZ_tS1OMlCE"
      },
      "source": [
        "\n",
        "\n",
        "---\n",
        "***Array Concatenation :***\n",
        "\n",
        "\n",
        "---\n",
        "\n"
      ]
    },
    {
      "cell_type": "code",
      "execution_count": null,
      "metadata": {
        "colab": {
          "base_uri": "https://localhost:8080/",
          "height": 319
        },
        "id": "J0UX6q7uNF49",
        "outputId": "e6e3b3d9-6e65-4371-c9d2-f78869bcbf35"
      },
      "outputs": [
        {
          "name": "stdout",
          "output_type": "stream",
          "text": [
            "matrix 1\n"
          ]
        },
        {
          "data": {
            "text/plain": [
              "array([[1, 2, 3],\n",
              "       [4, 5, 6]])"
            ]
          },
          "execution_count": 102,
          "metadata": {},
          "output_type": "execute_result"
        }
      ],
      "source": [
        "# concatenating 2-D arrays\n",
        "matrix1 = np.array([[1, 2, 3],\n",
        "                    [4, 5, 6]])\n",
        "print(\"matrix 1\")\n",
        "matrix1"
      ]
    },
    {
      "cell_type": "code",
      "execution_count": null,
      "metadata": {
        "id": "6kxzEksNt2Q9",
        "outputId": "d8bada46-1a35-4958-d174-c90c96d61b37"
      },
      "outputs": [
        {
          "name": "stdout",
          "output_type": "stream",
          "text": [
            "matrix 2\n"
          ]
        },
        {
          "data": {
            "text/plain": [
              "array([[ 7,  8,  9],\n",
              "       [10, 11, 12]])"
            ]
          },
          "execution_count": 103,
          "metadata": {},
          "output_type": "execute_result"
        }
      ],
      "source": [
        "matrix2 = np.array([[7, 8, 9],\n",
        "                    [10, 11, 12]])\n",
        "print(\"matrix 2\",)\n",
        "matrix2"
      ]
    },
    {
      "cell_type": "markdown",
      "metadata": {
        "id": "omWS09CXt2Q9"
      },
      "source": [
        "***Concatenate Row wise***\n",
        "\n",
        "---"
      ]
    },
    {
      "cell_type": "code",
      "execution_count": null,
      "metadata": {
        "id": "mPvj1ifPt2RB",
        "outputId": "a4b06b7e-3248-49e0-97b4-d8e5ea7af454"
      },
      "outputs": [
        {
          "name": "stdout",
          "output_type": "stream",
          "text": [
            "Combined on Row (axis=0)\n"
          ]
        },
        {
          "data": {
            "text/plain": [
              "array([[ 1,  2,  3],\n",
              "       [ 4,  5,  6],\n",
              "       [ 7,  8,  9],\n",
              "       [10, 11, 12]])"
            ]
          },
          "execution_count": 104,
          "metadata": {},
          "output_type": "execute_result"
        }
      ],
      "source": [
        "# concatenate along the first axis\n",
        "matrix_1_2_combineRowwise = np.concatenate([matrix1, matrix2],axis=0)\n",
        "print(\"Combined on Row (axis=0)\")\n",
        "matrix_1_2_combineRowwise"
      ]
    },
    {
      "cell_type": "markdown",
      "metadata": {
        "id": "enJCU5ctt2RB"
      },
      "source": [
        "***Concatenate Column wise***\n",
        "\n",
        "\n",
        "---"
      ]
    },
    {
      "cell_type": "code",
      "execution_count": null,
      "metadata": {
        "id": "o8_JKZ6Nt2RB",
        "outputId": "5bd5666f-49eb-4038-b035-ba74c29851b6"
      },
      "outputs": [
        {
          "name": "stdout",
          "output_type": "stream",
          "text": [
            "Combined on Col (axis=1)\n"
          ]
        },
        {
          "data": {
            "text/plain": [
              "array([[ 1,  2,  3,  7,  8,  9],\n",
              "       [ 4,  5,  6, 10, 11, 12]])"
            ]
          },
          "execution_count": 105,
          "metadata": {},
          "output_type": "execute_result"
        }
      ],
      "source": [
        "# concatenate along the second axis (zero-indexed)\n",
        "matrix_1_2_combineColwise = np.concatenate([matrix1, matrix2], axis=1)\n",
        "print(\"Combined on Col (axis=1)\")\n",
        "matrix_1_2_combineColwise"
      ]
    },
    {
      "cell_type": "markdown",
      "metadata": {
        "id": "mpDzFIVBt2RB"
      },
      "source": [
        "***Learn more about the numpy here: https://numpy.org/doc/1.17/user/index.html***\n",
        "\n",
        "---"
      ]
    }
  ],
  "metadata": {
    "colab": {
      "provenance": [],
      "include_colab_link": true
    },
    "kernelspec": {
      "display_name": "Python 3",
      "language": "python",
      "name": "python3"
    },
    "language_info": {
      "codemirror_mode": {
        "name": "ipython",
        "version": 3
      },
      "file_extension": ".py",
      "mimetype": "text/x-python",
      "name": "python",
      "nbconvert_exporter": "python",
      "pygments_lexer": "ipython3",
      "version": "3.7.4"
    }
  },
  "nbformat": 4,
  "nbformat_minor": 0
}