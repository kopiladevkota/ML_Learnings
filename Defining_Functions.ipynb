{
  "cells": [
    {
      "cell_type": "markdown",
      "metadata": {
        "id": "view-in-github",
        "colab_type": "text"
      },
      "source": [
        "<a href=\"https://colab.research.google.com/github/kopiladevkota/Python/blob/main/Defining_Functions.ipynb\" target=\"_parent\"><img src=\"https://colab.research.google.com/assets/colab-badge.svg\" alt=\"Open In Colab\"/></a>"
      ]
    },
    {
      "cell_type": "markdown",
      "metadata": {
        "id": "YpKuCRXwOH-p"
      },
      "source": [
        " Defining Functions\n",
        "\n",
        "* ***Purpose of functions is to group a particular lines of code that needs to be executed multiple times.***\n",
        "* ***The keyword `def` introduces a function definition and it must be followed by the function name.***\n",
        "\n",
        "---"
      ]
    },
    {
      "cell_type": "code",
      "execution_count": null,
      "metadata": {
        "id": "3qOr7b13OH-r"
      },
      "outputs": [],
      "source": [
        "def welcome():\n",
        "    print(\"Welcome to the Python Course!!\")"
      ]
    },
    {
      "cell_type": "code",
      "execution_count": null,
      "metadata": {
        "id": "pwRaMA2ROH-s",
        "outputId": "dfb13132-1180-498e-d095-576f1343fd52"
      },
      "outputs": [
        {
          "name": "stdout",
          "output_type": "stream",
          "text": [
            "Welcome to the Python Course!!\n"
          ]
        }
      ],
      "source": [
        "# calling a function in python\n",
        "welcome()"
      ]
    },
    {
      "cell_type": "code",
      "execution_count": null,
      "metadata": {
        "id": "BQGtXRrXOH-s",
        "outputId": "ed934d98-e2bc-4694-a908-7442e4437a94"
      },
      "outputs": [
        {
          "name": "stdout",
          "output_type": "stream",
          "text": [
            "Welcome to the Python Course!!\n"
          ]
        }
      ],
      "source": [
        "welcome()"
      ]
    },
    {
      "cell_type": "markdown",
      "metadata": {
        "id": "DqgfntTDOH-s"
      },
      "source": [
        "---\n",
        "\n",
        "***`return statement:`***\n",
        "\n",
        "- A `return` statement is used to end the execution of the function call and gives the result.\n",
        "- The statements after the `return statements` are not executed.\n",
        "\n",
        "---"
      ]
    },
    {
      "cell_type": "code",
      "execution_count": null,
      "metadata": {
        "id": "3zSZy7PXOH-s"
      },
      "outputs": [],
      "source": [
        "def add_two_numbers():\n",
        "    # add two numbers 3 and 4\n",
        "    total = 3 + 4\n",
        "\n",
        "    # print the total\n",
        "    print(\"Sum of 3 and 4 is:\", total)"
      ]
    },
    {
      "cell_type": "code",
      "execution_count": null,
      "metadata": {
        "id": "dS3bqLq3OH-t"
      },
      "outputs": [],
      "source": [
        "def add_two_numbers_with_return():\n",
        "    # add two numbers 3 and 4\n",
        "    total = 3 + 4\n",
        "\n",
        "    # print the total\n",
        "    print(\"Sum of 3 and 4 is:\", total)\n",
        "\n",
        "    # return the value of total\n",
        "    return total"
      ]
    },
    {
      "cell_type": "code",
      "execution_count": null,
      "metadata": {
        "id": "3YnIAEUtOH-t",
        "outputId": "f8a9f27b-792f-4c79-ab08-1d85623a939d"
      },
      "outputs": [
        {
          "name": "stdout",
          "output_type": "stream",
          "text": [
            "Sum of 3 and 4 is: 7\n"
          ]
        }
      ],
      "source": [
        "add_two_numbers()"
      ]
    },
    {
      "cell_type": "code",
      "execution_count": null,
      "metadata": {
        "id": "hj9l2nbEOH-t",
        "outputId": "65e85e34-8b1c-446f-c1a4-15cc4da6679e"
      },
      "outputs": [
        {
          "name": "stdout",
          "output_type": "stream",
          "text": [
            "Sum of 3 and 4 is: 7\n"
          ]
        }
      ],
      "source": [
        "output_1 = add_two_numbers()"
      ]
    },
    {
      "cell_type": "code",
      "execution_count": null,
      "metadata": {
        "id": "TejnyBeROH-t"
      },
      "outputs": [],
      "source": [
        "output_1 # values not saved"
      ]
    },
    {
      "cell_type": "code",
      "execution_count": null,
      "metadata": {
        "id": "l_tzh8FWOH-u",
        "outputId": "73850535-4096-4086-ce7b-883a0876bdd5"
      },
      "outputs": [
        {
          "name": "stdout",
          "output_type": "stream",
          "text": [
            "Sum of 3 and 4 is: 7\n"
          ]
        }
      ],
      "source": [
        "output_2 = add_two_numbers_with_return()"
      ]
    },
    {
      "cell_type": "code",
      "execution_count": null,
      "metadata": {
        "id": "AGQVkXa3OH-u",
        "outputId": "54446d94-9c3c-4310-f3c7-c86674bfe95e"
      },
      "outputs": [
        {
          "data": {
            "text/plain": [
              "7"
            ]
          },
          "execution_count": 31,
          "metadata": {},
          "output_type": "execute_result"
        }
      ],
      "source": [
        "output_2"
      ]
    },
    {
      "cell_type": "markdown",
      "metadata": {
        "id": "EJB-VUukOH-u"
      },
      "source": [
        "---\n",
        "\n",
        "###  Passing Parameters\n",
        "\n",
        "---"
      ]
    },
    {
      "cell_type": "code",
      "execution_count": null,
      "metadata": {
        "id": "8dQEBeWpOH-u"
      },
      "outputs": [],
      "source": [
        "def welcome(name):\n",
        "    return \"Welcome to Python Course, \" + name"
      ]
    },
    {
      "cell_type": "code",
      "execution_count": null,
      "metadata": {
        "id": "ISx-HVRMOH-u"
      },
      "outputs": [],
      "source": [
        "welcome('Lakshay')"
      ]
    },
    {
      "cell_type": "code",
      "execution_count": null,
      "metadata": {
        "id": "iI2_SJ_eOH-v"
      },
      "outputs": [],
      "source": [
        "welcome('Sanad')"
      ]
    },
    {
      "cell_type": "markdown",
      "metadata": {
        "id": "7N6Ca0MgOH-v"
      },
      "source": [
        "---\n",
        "\n",
        "***Default value of Parameters***\n",
        "\n",
        "\n",
        "---"
      ]
    },
    {
      "cell_type": "code",
      "execution_count": null,
      "metadata": {
        "id": "DPEMo8A5OH-v"
      },
      "outputs": [],
      "source": [
        "def welcome(name = 'Aravind'):\n",
        "    return \"Welcome to Python Course, \" + name"
      ]
    },
    {
      "cell_type": "code",
      "execution_count": null,
      "metadata": {
        "id": "35CDVs6GOH-v"
      },
      "outputs": [],
      "source": [
        "welcome(\"Rohan\")"
      ]
    },
    {
      "cell_type": "code",
      "execution_count": null,
      "metadata": {
        "id": "lEJ1Q9RuOH-v"
      },
      "outputs": [],
      "source": [
        "welcome()"
      ]
    },
    {
      "cell_type": "code",
      "execution_count": null,
      "metadata": {
        "id": "hhF9oLHhOH-v"
      },
      "outputs": [],
      "source": [
        "name = \"Lakshay\"\n",
        "welcome(name)"
      ]
    },
    {
      "cell_type": "markdown",
      "metadata": {
        "id": "nh_WGJ3VOH-v"
      },
      "source": [
        "---\n",
        "\n",
        "***`POSITIONAL ARGUMENTS`***\n",
        "\n",
        "***Most arguments are identified by their position in the function call. `print(a,b)` will give different results from `print(b,a)`***\n",
        "\n",
        "---"
      ]
    },
    {
      "cell_type": "code",
      "execution_count": null,
      "metadata": {
        "id": "Yb2ZilxwOH-v"
      },
      "outputs": [],
      "source": [
        "def math_functions(small_number, large_number):\n",
        "\n",
        "    difference = large_number - small_number\n",
        "    return difference"
      ]
    },
    {
      "cell_type": "markdown",
      "metadata": {
        "id": "zXEzzntSOH-v"
      },
      "source": [
        "***If we define only the values of the arguments, the values will be assigned in position.***\n",
        "\n",
        "---"
      ]
    },
    {
      "cell_type": "code",
      "execution_count": null,
      "metadata": {
        "id": "Uxdk33OZOH-v"
      },
      "outputs": [],
      "source": [
        "math_functions(4,16)"
      ]
    },
    {
      "cell_type": "code",
      "execution_count": null,
      "metadata": {
        "id": "8LX1pRTtOH-w"
      },
      "outputs": [],
      "source": [
        "math_functions(16,4)"
      ]
    },
    {
      "cell_type": "markdown",
      "metadata": {
        "id": "HhZJi_3BOH-w"
      },
      "source": [
        "---\n",
        "\n",
        "***`KEYWORD ARGUMENTS`***\n",
        "\n",
        "---\n",
        "\n"
      ]
    },
    {
      "cell_type": "markdown",
      "metadata": {
        "id": "S-aqk1KaOH-w"
      },
      "source": [
        "***If we are defining the keywords, then we can define them in any order.***\n",
        "\n",
        "---"
      ]
    },
    {
      "cell_type": "code",
      "execution_count": null,
      "metadata": {
        "id": "NaiUbvjnOH-w"
      },
      "outputs": [],
      "source": [
        "math_functions(large_number = 16, small_number= 4)"
      ]
    },
    {
      "cell_type": "code",
      "execution_count": null,
      "metadata": {
        "id": "uRNVvzBdOH-w"
      },
      "outputs": [],
      "source": [
        "math_functions(small_number = 4, large_number= 16)"
      ]
    },
    {
      "cell_type": "markdown",
      "metadata": {
        "id": "kLnGNqAYOH-w"
      },
      "source": [
        "***In Python, we cannot first define keyword argument and then positional arguments***\n",
        "\n",
        "---"
      ]
    },
    {
      "cell_type": "code",
      "execution_count": null,
      "metadata": {
        "id": "xqd7ujC7OH-w"
      },
      "outputs": [],
      "source": [
        "math_functions(small_number= 4, 16)"
      ]
    },
    {
      "cell_type": "markdown",
      "metadata": {
        "id": "CedMYEMOOH-w"
      },
      "source": [
        "***In Python, we always define positional arguments before the keyword arguments***\n",
        "\n",
        "---"
      ]
    },
    {
      "cell_type": "code",
      "execution_count": null,
      "metadata": {
        "id": "D54ncLwtOH-w"
      },
      "outputs": [],
      "source": [
        "math_functions(4,large_number= 16)"
      ]
    },
    {
      "cell_type": "markdown",
      "metadata": {
        "id": "jsc4yFoPOH-w"
      },
      "source": [
        "---\n",
        "\n",
        "***VARIABLE LENGTH ARGUMENTS***\n",
        "\n",
        "- Sometimes, we need more flexibility while defining functions like we don't know in advance the fixed number of arguments.\n",
        "- Python allows us to make function calls with variable length arguments.\n",
        "\n",
        "---\n",
        "\n",
        "- In the argument use an **(*)** astrick sign before the argument. Let's see how to use in below example."
      ]
    },
    {
      "cell_type": "code",
      "execution_count": null,
      "metadata": {
        "id": "D5mcCAduOH-x"
      },
      "outputs": [],
      "source": [
        "# define a function\n",
        "def my_function(*args):\n",
        "\n",
        "    for i in args:\n",
        "        print(i)"
      ]
    },
    {
      "cell_type": "code",
      "execution_count": null,
      "metadata": {
        "id": "MUmxJ3XuOH-x"
      },
      "outputs": [],
      "source": [
        "my_function(1, 2, 3, 4)"
      ]
    },
    {
      "cell_type": "code",
      "execution_count": null,
      "metadata": {
        "id": "SztpvRCcOH-x"
      },
      "outputs": [],
      "source": [
        "my_function(1,2)"
      ]
    },
    {
      "cell_type": "code",
      "execution_count": null,
      "metadata": {
        "id": "RZ2xAv53OH-x"
      },
      "outputs": [],
      "source": [
        "my_function('1', '2', 'cijeoi', 'foejof', 'ojfiejfpiwe')"
      ]
    },
    {
      "cell_type": "markdown",
      "metadata": {
        "id": "VGA7UqDmOH-1"
      },
      "source": [
        "#### If you have unknown number of keyword arguments, then you can use double asterick (**)\n",
        "\n",
        "---"
      ]
    },
    {
      "cell_type": "code",
      "execution_count": null,
      "metadata": {
        "id": "DGEtN0piOH-1"
      },
      "outputs": [],
      "source": [
        "def my_keyword_arguments(**kwargs):\n",
        "    for key, value in kwargs.items():\n",
        "        print(key, value)"
      ]
    },
    {
      "cell_type": "code",
      "execution_count": null,
      "metadata": {
        "id": "VcylJtAJOH-2"
      },
      "outputs": [],
      "source": [
        "my_keyword_arguments(a= 1, b= 2, c= 3, d= 4)"
      ]
    },
    {
      "cell_type": "code",
      "execution_count": null,
      "metadata": {
        "id": "ydQO_1uLOH-2"
      },
      "outputs": [],
      "source": [
        "my_keyword_arguments(x='s',y='e')"
      ]
    },
    {
      "cell_type": "markdown",
      "metadata": {
        "id": "qBPIETk5OH-2"
      },
      "source": [
        "---\n",
        "\n",
        "***Scope of Variables: Local and Global Variables***\n",
        "\n",
        "---\n",
        "\n",
        "- **`\"Scope of Variable\"`** means that part of program where we can access the particular variable.\n",
        "- **`\"Local Variable\"`** are those which are defined inside the function and can be only accessed inside that particular function.\n",
        "- **`\"Global Variable\"`** are defined outside the function and can be accessed throughout the program.\n",
        "\n",
        "---\n",
        "\n",
        "\n",
        "***Let's define a global variable, `\"name\"` outside the function. We will return its value using a function `\"my_function\"` and see that we would be able to access its value using that function also.***\n",
        "\n",
        "---"
      ]
    },
    {
      "cell_type": "code",
      "execution_count": null,
      "metadata": {
        "id": "oRVLw3P3OH-2"
      },
      "outputs": [],
      "source": [
        "# define a global variable\n",
        "name = \"variable outside function\"\n",
        "\n",
        "# define a function\n",
        "def my_function():\n",
        "    # access the variable outside the function\n",
        "    return name"
      ]
    },
    {
      "cell_type": "code",
      "execution_count": null,
      "metadata": {
        "id": "qxnhyuIROH-2"
      },
      "outputs": [],
      "source": [
        "print(my_function())\n",
        "print(name)"
      ]
    },
    {
      "cell_type": "markdown",
      "metadata": {
        "id": "xdz27ohZOH-2"
      },
      "source": [
        "***So, we were able to access the value of a global variable from inside the function. Let's see what will happen if we try to change the value of global variable inside the function***\n",
        "\n",
        "---"
      ]
    },
    {
      "cell_type": "code",
      "execution_count": null,
      "metadata": {
        "id": "Sdo_l-6xOH-2"
      },
      "outputs": [],
      "source": [
        "# define a global variable\n",
        "name = \"variable outside function\"\n",
        "\n",
        "def my_function():\n",
        "    # try to change the value of global variable inside the function\n",
        "    name = \"variable inside function\"\n",
        "    return name"
      ]
    },
    {
      "cell_type": "code",
      "execution_count": null,
      "metadata": {
        "id": "sYjtqvg8OH-2"
      },
      "outputs": [],
      "source": [
        "print(my_function())\n",
        "print(name)"
      ]
    },
    {
      "cell_type": "markdown",
      "metadata": {
        "id": "PbZ1iPATOH-2"
      },
      "source": [
        "---\n",
        "\n",
        "* ***So, here when we tried to change the value of the variable `\"name\"` inside the function then instead of updating its value, python created another variable `(\"another local variable\")` whose scope was only limited to the function itself.***\n",
        "* ***When we called the function, it returned the value of the local variable whereas when we directly accessed the `\"name\"` variable, it returned the value of the global variable.***\n",
        "\n",
        "---\n",
        "\n",
        "#### `LET'S SEE HOW CAN WE UPDATE THE VALUE OF THE GLOBAL VARIABLE INSIDE ANY USER-DEFINED FUNCTION.`\n",
        "\n",
        "\n",
        "---\n",
        "***`global` keyword***\n",
        "\n",
        "---"
      ]
    },
    {
      "cell_type": "code",
      "execution_count": null,
      "metadata": {
        "id": "XvwCn4SvOH-3"
      },
      "outputs": [],
      "source": [
        "# define a global variable\n",
        "name = \"variable outside function\"\n",
        "\n",
        "def my_function():\n",
        "    # tell the function which variables are global\n",
        "    global name\n",
        "    name = \"variable inside function\"\n",
        "    return name"
      ]
    },
    {
      "cell_type": "code",
      "execution_count": null,
      "metadata": {
        "id": "J4i6PN6NOH-3"
      },
      "outputs": [],
      "source": [
        "my_function()"
      ]
    },
    {
      "cell_type": "code",
      "execution_count": null,
      "metadata": {
        "id": "WEa0uMlwOH-3"
      },
      "outputs": [],
      "source": [
        "name"
      ]
    },
    {
      "cell_type": "markdown",
      "metadata": {
        "id": "F1LTyvYnOH-3"
      },
      "source": [
        "***While defining a function, we can tell the function that these `variables are global` using the `global` keyword.***\n",
        "\n",
        "\n",
        "---"
      ]
    },
    {
      "cell_type": "code",
      "execution_count": null,
      "metadata": {
        "id": "s8YMxJUpOH-3"
      },
      "outputs": [],
      "source": []
    }
  ],
  "metadata": {
    "kernelspec": {
      "display_name": "Python 3",
      "language": "python",
      "name": "python3"
    },
    "language_info": {
      "codemirror_mode": {
        "name": "ipython",
        "version": 3
      },
      "file_extension": ".py",
      "mimetype": "text/x-python",
      "name": "python",
      "nbconvert_exporter": "python",
      "pygments_lexer": "ipython3",
      "version": "3.7.4"
    },
    "colab": {
      "provenance": [],
      "include_colab_link": true
    }
  },
  "nbformat": 4,
  "nbformat_minor": 0
}